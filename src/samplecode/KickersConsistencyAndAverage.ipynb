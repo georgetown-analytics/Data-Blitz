{
 "cells": [
  {
   "cell_type": "markdown",
   "metadata": {},
   "source": [
    "# Exploring Kicker Average and Consistency"
   ]
  },
  {
   "cell_type": "markdown",
   "metadata": {},
   "source": [
    "The ability to perform well in individual matches at critical moments is important, but consistently performing at a high level of skill creates a statistical divide between lucky players and highly skilled players. As a result, measuring empirical variance is an important aspect to determining a player’s skill level."
   ]
  },
  {
   "cell_type": "markdown",
   "metadata": {},
   "source": [
    "## Prepare Data"
   ]
  },
  {
   "cell_type": "markdown",
   "metadata": {},
   "source": [
    "Get kickers play data from data base with play, player and game information\n",
    "(where distance kicked from is >=35 yards)"
   ]
  },
  {
   "cell_type": "code",
   "execution_count": 1,
   "metadata": {},
   "outputs": [],
   "source": [
    "import mysql.connector\n",
    "import pandas as pd\n",
    "import numpy as np\n",
    "from pandas import DataFrame\n",
    "import matplotlib.mlab as mlab\n",
    "from mysql.connector import errorcode\n",
    "import matplotlib.pyplot as plt\n",
    "from __future__ import print_function\n",
    "from ipywidgets import interact, interactive, fixed, interact_manual\n",
    "import ipywidgets as widgets\n",
    "\n",
    "%matplotlib inline\n",
    "\n",
    "config = {\n",
    "'user': 'db_gtown_2018',\n",
    "'password': 'Gtown2018',\n",
    "'port': '3306',\n",
    "'host': 'nflnumbers.czuayagz62va.us-east-1.rds.amazonaws.com',\n",
    "'database': 'db_nfl',\n",
    "'raise_on_warnings': True,\n",
    "}\n",
    " \n",
    "try:\n",
    "    cnx = mysql.connector.connect(**config)\n",
    "    cursor = cnx.cursor()\n",
    "    #Let's read all the rows in the table\n",
    "    readContactPerson = \"\"\"SELECT \n",
    "    FKICKER,\n",
    "    Percentage.GID,\n",
    "    FGXP,\n",
    "    ((SUM(SUCCESS) / COUNT(*)) * 100) AS SUCCESS_PRCNTG,\n",
    "    ((SUM(BLOCKED) / COUNT(*)) * 100) AS BLOCKED_PRCNTG,\n",
    "    COUNT(*) AS PLAY_COUNT,\n",
    "    CASE\n",
    "        WHEN SUM(HIGH_PRESSURE) = 0 THEN 0\n",
    "        ELSE ((SUM(HIGH_PRESSURE_SUCCESS) / SUM(HIGH_PRESSURE)) * 100)\n",
    "    END AS HIGH_PRESSURE_SUCCESS_PRCNTG,\n",
    "    CASE\n",
    "        WHEN SUM(LONG_DIST) = 0 THEN 0\n",
    "        ELSE ((SUM(LONG_DIST_SUCCESS) / SUM(LONG_DIST)) * 100)\n",
    "    END AS LONG_DIST_SUCCESS_PRCNTG,    \n",
    "    TEMP,\n",
    "    HUMD,\n",
    "    WSPD,\n",
    "    COND,\n",
    "    SURF,\n",
    "    (YEAR(CURDATE()) - PLAYER.start) AS YEARS_PLAYED,\n",
    "    height,\n",
    "    weight,\n",
    "    PLAYER.forty,\n",
    "    PLAYER.bench,\n",
    "    PLAYER.vertical,\n",
    "    PLAYER.broad,\n",
    "    PLAYER.shuttle,\n",
    "    PLAYER.cone,\n",
    "    PLAYER.arm,\n",
    "    PLAYER.hand,\n",
    "    PLAYER.dcp,\n",
    "    DPOS AS DRAFT_POSITION,\n",
    "    (SELECT \n",
    "            (TO_DAYS(NOW()) - TO_DAYS(STR_TO_DATE(dob, '%m/%d/%Y'))) / 365\n",
    "        FROM\n",
    "            PLAYER P\n",
    "        WHERE\n",
    "            P.player = FKICKER) AS AGE_YEARS\n",
    "FROM\n",
    "    (SELECT \n",
    "        FGXP,\n",
    "            PBP.GID,\n",
    "            PBP.FKICKER,\n",
    "            CASE\n",
    "                WHEN GOOD = 'Y' THEN 1\n",
    "                ELSE 0\n",
    "            END AS SUCCESS,\n",
    "            CASE\n",
    "                WHEN UPPER(DETAIL) LIKE '%BLOCKED%' THEN 1\n",
    "                ELSE 0\n",
    "            END AS BLOCKED,\n",
    "            CASE\n",
    "                WHEN\n",
    "                    QTR IN ('2' , '4') AND MIN <= 2\n",
    "                        AND (PTSO - PTSD) >= - 3\n",
    "                THEN\n",
    "                    1\n",
    "                ELSE 0\n",
    "            END AS HIGH_PRESSURE,\n",
    "            CASE\n",
    "                WHEN\n",
    "                    QTR IN ('2' , '4') AND MIN <= 2\n",
    "                        AND (PTSO - PTSD) >= - 3\n",
    "                        AND GOOD = 'Y'\n",
    "                THEN\n",
    "                    1\n",
    "                ELSE 0\n",
    "            END AS HIGH_PRESSURE_SUCCESS,\n",
    "            CASE\n",
    "                WHEN DIST >= 50 THEN 1\n",
    "                ELSE 0\n",
    "            END AS LONG_DIST,\n",
    "            CASE\n",
    "                WHEN DIST >= 50 AND GOOD = 'Y' THEN 1\n",
    "                ELSE 0\n",
    "            END AS LONG_DIST_SUCCESS,\n",
    "            DIST - (100 - CASE\n",
    "                WHEN YFOG = '' THEN '98'\n",
    "                ELSE YFOG\n",
    "            END) AS YDS_BEHIND_LOS\n",
    "    FROM\n",
    "        PBP\n",
    "    LEFT OUTER JOIN PLAYER PLAYER ON PBP.FKICKER = PLAYER.PLAYER\n",
    "    WHERE\n",
    "        TYPE = 'FGXP' AND POS1 = 'K'\n",
    "            AND DIST >= 35) AS Percentage\n",
    "        LEFT OUTER JOIN\n",
    "    PLAYER PLAYER ON Percentage.FKICKER = PLAYER.PLAYER\n",
    "        LEFT OUTER JOIN\n",
    "    GAME ON Percentage.GID = GAME.GID\n",
    "GROUP BY FKICKER , Percentage.GID\n",
    "ORDER BY FKICKER , Percentage.GID;\"\"\"\n",
    "    cursor.execute(readContactPerson)\n",
    "    #specify the attributes that you want to display\n",
    "    df = DataFrame(cursor.fetchall())    \n",
    "    \n",
    "    cnx.commit()\n",
    "except mysql.connector.Error as err:\n",
    "    if err.errno == errorcode.ER_ACCESS_DENIED_ERROR:\n",
    "        print(\"Something is wrong with your user name or password\")\n",
    "    elif err.errno == errorcode.ER_BAD_DB_ERROR:\n",
    "        print(\"Database does not exist\")\n",
    "    else:\n",
    "        print(err)\n",
    "else:\n",
    "    cursor.close()\n",
    "    cnx.close()"
   ]
  },
  {
   "cell_type": "code",
   "execution_count": 2,
   "metadata": {},
   "outputs": [],
   "source": [
    "df.columns = ['FKICKER','GID','FGXP','SUCCESS_PRCNTG','BLOCKED_PRCNTG','PLAY_COUNT',\n",
    "'HIGH_PRESSURE_SUCCESS_PRCNTG','LONG_DIST_SUCCESS_PRCNTG',\n",
    "'TEMP','HUMD','WSPD','COND','SURF',\n",
    "'YEARS_PLAYED','height','weight','forty','bench',\n",
    "'vertical','broad','shuttle','cone',\n",
    "'arm','hand','dcp','DRAFT_POSITION','AGE_YEARS']"
   ]
  },
  {
   "cell_type": "code",
   "execution_count": 3,
   "metadata": {},
   "outputs": [
    {
     "data": {
      "text/html": [
       "<div>\n",
       "<style scoped>\n",
       "    .dataframe tbody tr th:only-of-type {\n",
       "        vertical-align: middle;\n",
       "    }\n",
       "\n",
       "    .dataframe tbody tr th {\n",
       "        vertical-align: top;\n",
       "    }\n",
       "\n",
       "    .dataframe thead th {\n",
       "        text-align: right;\n",
       "    }\n",
       "</style>\n",
       "<table border=\"1\" class=\"dataframe\">\n",
       "  <thead>\n",
       "    <tr style=\"text-align: right;\">\n",
       "      <th></th>\n",
       "      <th>FKICKER</th>\n",
       "      <th>GID</th>\n",
       "      <th>FGXP</th>\n",
       "      <th>SUCCESS_PRCNTG</th>\n",
       "      <th>BLOCKED_PRCNTG</th>\n",
       "      <th>PLAY_COUNT</th>\n",
       "      <th>HIGH_PRESSURE_SUCCESS_PRCNTG</th>\n",
       "      <th>LONG_DIST_SUCCESS_PRCNTG</th>\n",
       "      <th>TEMP</th>\n",
       "      <th>HUMD</th>\n",
       "      <th>...</th>\n",
       "      <th>bench</th>\n",
       "      <th>vertical</th>\n",
       "      <th>broad</th>\n",
       "      <th>shuttle</th>\n",
       "      <th>cone</th>\n",
       "      <th>arm</th>\n",
       "      <th>hand</th>\n",
       "      <th>dcp</th>\n",
       "      <th>DRAFT_POSITION</th>\n",
       "      <th>AGE_YEARS</th>\n",
       "    </tr>\n",
       "  </thead>\n",
       "  <tbody>\n",
       "    <tr>\n",
       "      <th>0</th>\n",
       "      <td>AD-0800</td>\n",
       "      <td>14</td>\n",
       "      <td>FG</td>\n",
       "      <td>100.0000</td>\n",
       "      <td>0.0000</td>\n",
       "      <td>1</td>\n",
       "      <td>0</td>\n",
       "      <td>0</td>\n",
       "      <td>73</td>\n",
       "      <td>78</td>\n",
       "      <td>...</td>\n",
       "      <td>0</td>\n",
       "      <td>0.0</td>\n",
       "      <td>0</td>\n",
       "      <td>0.0</td>\n",
       "      <td>0.0</td>\n",
       "      <td>0</td>\n",
       "      <td>0.0</td>\n",
       "      <td>0</td>\n",
       "      <td>0</td>\n",
       "      <td>56.2219</td>\n",
       "    </tr>\n",
       "    <tr>\n",
       "      <th>1</th>\n",
       "      <td>AD-0800</td>\n",
       "      <td>28</td>\n",
       "      <td>FG</td>\n",
       "      <td>100.0000</td>\n",
       "      <td>0.0000</td>\n",
       "      <td>1</td>\n",
       "      <td>0</td>\n",
       "      <td>0</td>\n",
       "      <td>80</td>\n",
       "      <td>84</td>\n",
       "      <td>...</td>\n",
       "      <td>0</td>\n",
       "      <td>0.0</td>\n",
       "      <td>0</td>\n",
       "      <td>0.0</td>\n",
       "      <td>0.0</td>\n",
       "      <td>0</td>\n",
       "      <td>0.0</td>\n",
       "      <td>0</td>\n",
       "      <td>0</td>\n",
       "      <td>56.2219</td>\n",
       "    </tr>\n",
       "    <tr>\n",
       "      <th>2</th>\n",
       "      <td>AD-0800</td>\n",
       "      <td>54</td>\n",
       "      <td>FG</td>\n",
       "      <td>100.0000</td>\n",
       "      <td>0.0000</td>\n",
       "      <td>2</td>\n",
       "      <td>0</td>\n",
       "      <td>0</td>\n",
       "      <td>61</td>\n",
       "      <td>0</td>\n",
       "      <td>...</td>\n",
       "      <td>0</td>\n",
       "      <td>0.0</td>\n",
       "      <td>0</td>\n",
       "      <td>0.0</td>\n",
       "      <td>0.0</td>\n",
       "      <td>0</td>\n",
       "      <td>0.0</td>\n",
       "      <td>0</td>\n",
       "      <td>0</td>\n",
       "      <td>56.2219</td>\n",
       "    </tr>\n",
       "  </tbody>\n",
       "</table>\n",
       "<p>3 rows × 27 columns</p>\n",
       "</div>"
      ],
      "text/plain": [
       "   FKICKER GID FGXP SUCCESS_PRCNTG BLOCKED_PRCNTG  PLAY_COUNT  \\\n",
       "0  AD-0800  14   FG       100.0000         0.0000           1   \n",
       "1  AD-0800  28   FG       100.0000         0.0000           1   \n",
       "2  AD-0800  54   FG       100.0000         0.0000           2   \n",
       "\n",
       "  HIGH_PRESSURE_SUCCESS_PRCNTG LONG_DIST_SUCCESS_PRCNTG TEMP HUMD    ...      \\\n",
       "0                            0                        0   73   78    ...       \n",
       "1                            0                        0   80   84    ...       \n",
       "2                            0                        0   61    0    ...       \n",
       "\n",
       "  bench vertical broad  shuttle  cone  arm  hand  dcp  DRAFT_POSITION  \\\n",
       "0     0      0.0     0      0.0   0.0    0   0.0    0               0   \n",
       "1     0      0.0     0      0.0   0.0    0   0.0    0               0   \n",
       "2     0      0.0     0      0.0   0.0    0   0.0    0               0   \n",
       "\n",
       "   AGE_YEARS  \n",
       "0    56.2219  \n",
       "1    56.2219  \n",
       "2    56.2219  \n",
       "\n",
       "[3 rows x 27 columns]"
      ]
     },
     "execution_count": 3,
     "metadata": {},
     "output_type": "execute_result"
    }
   ],
   "source": [
    "df.head(3)"
   ]
  },
  {
   "cell_type": "markdown",
   "metadata": {},
   "source": [
    "## Weather conditions"
   ]
  },
  {
   "cell_type": "code",
   "execution_count": 4,
   "metadata": {},
   "outputs": [
    {
     "data": {
      "text/plain": [
       "<matplotlib.axes._subplots.AxesSubplot at 0x2c43e5e2a58>"
      ]
     },
     "execution_count": 4,
     "metadata": {},
     "output_type": "execute_result"
    },
    {
     "data": {
      "image/png": "[encoded data removed]",
      "text/plain": [
       "<Figure size 720x288 with 1 Axes>"
      ]
     },
     "metadata": {},
     "output_type": "display_data"
    }
   ],
   "source": [
    "plt.figure(figsize=(10,4))\n",
    "df[\"COND\"].value_counts().plot(kind='bar')"
   ]
  },
  {
   "cell_type": "markdown",
   "metadata": {},
   "source": [
    "too many weather conditions, grouping these in fewer categories."
   ]
  },
  {
   "cell_type": "code",
   "execution_count": 5,
   "metadata": {},
   "outputs": [],
   "source": [
    "WeatherConditionsDifficultyLevel = {\n",
    "    'unknown_weather': '',\n",
    "    'normal_weather':['Closed Roof','Covered Roof','Dome','Clear','Cloudy',\n",
    "              'Partly Cloudy','Mostly Cloudy','Fair','Partly CLoudy',\n",
    "              'Sunny','Mostly Sunny','Partly Sunny'],\n",
    "    'hard_weather':['Chance Rain','Light Rain','Flurries','Light Snow','Light Showers'],\n",
    "    'extreme_weather':['Rain','Showers','Snow','Foggy','Hazy','Thunderstorms','Cold',\n",
    "               'Windy','Overcast']\n",
    "}"
   ]
  },
  {
   "cell_type": "code",
   "execution_count": 6,
   "metadata": {},
   "outputs": [
    {
     "data": {
      "text/plain": [
       "<matplotlib.axes._subplots.AxesSubplot at 0x2c4423a8048>"
      ]
     },
     "execution_count": 6,
     "metadata": {},
     "output_type": "execute_result"
    },
    {
     "data": {
      "image/png": "[encoded data removed]",
      "text/plain": [
       "<Figure size 432x144 with 1 Axes>"
      ]
     },
     "metadata": {},
     "output_type": "display_data"
    }
   ],
   "source": [
    "def get_weather_category(dict, text):\n",
    "    for k,v in dict.items():        \n",
    "        for val in dict[k]:\n",
    "            if(val == text):\n",
    "                return k\n",
    "    return text\n",
    "dfc = df.apply(lambda row: get_weather_category(WeatherConditionsDifficultyLevel, row['COND']), axis=1)\n",
    "df[\"WeatherCondition\"] = dfc\n",
    "plt.figure(figsize=(6,2))\n",
    "df[\"WeatherCondition\"].value_counts().plot(kind='barh')"
   ]
  },
  {
   "cell_type": "code",
   "execution_count": 7,
   "metadata": {},
   "outputs": [
    {
     "data": {
      "text/plain": [
       "normal_weather     5721\n",
       "hard_weather        308\n",
       "extreme_weather     262\n",
       "                    137\n",
       "Name: WeatherCondition, dtype: int64"
      ]
     },
     "execution_count": 7,
     "metadata": {},
     "output_type": "execute_result"
    }
   ],
   "source": [
    "df[\"WeatherCondition\"].value_counts()"
   ]
  },
  {
   "cell_type": "markdown",
   "metadata": {},
   "source": [
    "Now let's create dummy column for each weather category and then use these column to get success percentage in each category."
   ]
  },
  {
   "cell_type": "code",
   "execution_count": 8,
   "metadata": {},
   "outputs": [],
   "source": [
    "ddf=pd.concat([df,pd.get_dummies(df[\"WeatherCondition\"])], axis=1)"
   ]
  },
  {
   "cell_type": "code",
   "execution_count": 9,
   "metadata": {},
   "outputs": [
    {
     "data": {
      "text/html": [
       "<div>\n",
       "<style scoped>\n",
       "    .dataframe tbody tr th:only-of-type {\n",
       "        vertical-align: middle;\n",
       "    }\n",
       "\n",
       "    .dataframe tbody tr th {\n",
       "        vertical-align: top;\n",
       "    }\n",
       "\n",
       "    .dataframe thead th {\n",
       "        text-align: right;\n",
       "    }\n",
       "</style>\n",
       "<table border=\"1\" class=\"dataframe\">\n",
       "  <thead>\n",
       "    <tr style=\"text-align: right;\">\n",
       "      <th></th>\n",
       "      <th>FKICKER</th>\n",
       "      <th>GID</th>\n",
       "      <th>FGXP</th>\n",
       "      <th>SUCCESS_PRCNTG</th>\n",
       "      <th>BLOCKED_PRCNTG</th>\n",
       "      <th>PLAY_COUNT</th>\n",
       "      <th>HIGH_PRESSURE_SUCCESS_PRCNTG</th>\n",
       "      <th>LONG_DIST_SUCCESS_PRCNTG</th>\n",
       "      <th>TEMP</th>\n",
       "      <th>HUMD</th>\n",
       "      <th>...</th>\n",
       "      <th>arm</th>\n",
       "      <th>hand</th>\n",
       "      <th>dcp</th>\n",
       "      <th>DRAFT_POSITION</th>\n",
       "      <th>AGE_YEARS</th>\n",
       "      <th>WeatherCondition</th>\n",
       "      <th></th>\n",
       "      <th>extreme_weather</th>\n",
       "      <th>hard_weather</th>\n",
       "      <th>normal_weather</th>\n",
       "    </tr>\n",
       "  </thead>\n",
       "  <tbody>\n",
       "    <tr>\n",
       "      <th>0</th>\n",
       "      <td>AD-0800</td>\n",
       "      <td>14</td>\n",
       "      <td>FG</td>\n",
       "      <td>100.0000</td>\n",
       "      <td>0.0000</td>\n",
       "      <td>1</td>\n",
       "      <td>0</td>\n",
       "      <td>0</td>\n",
       "      <td>73</td>\n",
       "      <td>78</td>\n",
       "      <td>...</td>\n",
       "      <td>0</td>\n",
       "      <td>0.0</td>\n",
       "      <td>0</td>\n",
       "      <td>0</td>\n",
       "      <td>56.2219</td>\n",
       "      <td>normal_weather</td>\n",
       "      <td>0</td>\n",
       "      <td>0</td>\n",
       "      <td>0</td>\n",
       "      <td>1</td>\n",
       "    </tr>\n",
       "    <tr>\n",
       "      <th>1</th>\n",
       "      <td>AD-0800</td>\n",
       "      <td>28</td>\n",
       "      <td>FG</td>\n",
       "      <td>100.0000</td>\n",
       "      <td>0.0000</td>\n",
       "      <td>1</td>\n",
       "      <td>0</td>\n",
       "      <td>0</td>\n",
       "      <td>80</td>\n",
       "      <td>84</td>\n",
       "      <td>...</td>\n",
       "      <td>0</td>\n",
       "      <td>0.0</td>\n",
       "      <td>0</td>\n",
       "      <td>0</td>\n",
       "      <td>56.2219</td>\n",
       "      <td>normal_weather</td>\n",
       "      <td>0</td>\n",
       "      <td>0</td>\n",
       "      <td>0</td>\n",
       "      <td>1</td>\n",
       "    </tr>\n",
       "    <tr>\n",
       "      <th>2</th>\n",
       "      <td>AD-0800</td>\n",
       "      <td>54</td>\n",
       "      <td>FG</td>\n",
       "      <td>100.0000</td>\n",
       "      <td>0.0000</td>\n",
       "      <td>2</td>\n",
       "      <td>0</td>\n",
       "      <td>0</td>\n",
       "      <td>61</td>\n",
       "      <td>0</td>\n",
       "      <td>...</td>\n",
       "      <td>0</td>\n",
       "      <td>0.0</td>\n",
       "      <td>0</td>\n",
       "      <td>0</td>\n",
       "      <td>56.2219</td>\n",
       "      <td>hard_weather</td>\n",
       "      <td>0</td>\n",
       "      <td>0</td>\n",
       "      <td>1</td>\n",
       "      <td>0</td>\n",
       "    </tr>\n",
       "  </tbody>\n",
       "</table>\n",
       "<p>3 rows × 32 columns</p>\n",
       "</div>"
      ],
      "text/plain": [
       "   FKICKER GID FGXP SUCCESS_PRCNTG BLOCKED_PRCNTG  PLAY_COUNT  \\\n",
       "0  AD-0800  14   FG       100.0000         0.0000           1   \n",
       "1  AD-0800  28   FG       100.0000         0.0000           1   \n",
       "2  AD-0800  54   FG       100.0000         0.0000           2   \n",
       "\n",
       "  HIGH_PRESSURE_SUCCESS_PRCNTG LONG_DIST_SUCCESS_PRCNTG TEMP HUMD  \\\n",
       "0                            0                        0   73   78   \n",
       "1                            0                        0   80   84   \n",
       "2                            0                        0   61    0   \n",
       "\n",
       "        ...       arm hand dcp  DRAFT_POSITION  AGE_YEARS  WeatherCondition  \\\n",
       "0       ...         0  0.0   0               0    56.2219    normal_weather   \n",
       "1       ...         0  0.0   0               0    56.2219    normal_weather   \n",
       "2       ...         0  0.0   0               0    56.2219      hard_weather   \n",
       "\n",
       "      extreme_weather  hard_weather  normal_weather  \n",
       "0  0                0             0               1  \n",
       "1  0                0             0               1  \n",
       "2  0                0             1               0  \n",
       "\n",
       "[3 rows x 32 columns]"
      ]
     },
     "execution_count": 9,
     "metadata": {},
     "output_type": "execute_result"
    }
   ],
   "source": [
    "ddf.head(3)"
   ]
  },
  {
   "cell_type": "markdown",
   "metadata": {},
   "source": [
    "## Calculate averages and consistency ratings\n",
    "For averages we can consider/use player mean success percentage in each game.<br/>\n",
    "To measure player consistency, we borrow a concept from probability theory called the coefficient of variation (CV). This measures a player’s standardized performance dispersion. Since this is a rather large and normal sample, this model uses the unbiased form of the coefficient of variation equation:\n",
    "\n",
    "(1+1/4n)(Std_dev/mean)\n",
    "\n",
    "The result of this means that lower CV values result in less variation in performance, indicating a higher degree of consistency. As the CV increases, players become less and less consistent. This means we now have an empirical range with which we can determine the ability of players to perform consistently at a given level of performance."
   ]
  },
  {
   "cell_type": "code",
   "execution_count": 10,
   "metadata": {},
   "outputs": [
    {
     "data": {
      "text/plain": [
       "FKICKER                         0\n",
       "GID                             0\n",
       "FGXP                            0\n",
       "SUCCESS_PRCNTG                  0\n",
       "BLOCKED_PRCNTG                  0\n",
       "PLAY_COUNT                      0\n",
       "HIGH_PRESSURE_SUCCESS_PRCNTG    0\n",
       "LONG_DIST_SUCCESS_PRCNTG        0\n",
       "TEMP                            0\n",
       "HUMD                            0\n",
       "WSPD                            0\n",
       "COND                            0\n",
       "SURF                            0\n",
       "YEARS_PLAYED                    0\n",
       "height                          0\n",
       "weight                          0\n",
       "forty                           0\n",
       "bench                           0\n",
       "vertical                        0\n",
       "broad                           0\n",
       "shuttle                         0\n",
       "cone                            0\n",
       "arm                             0\n",
       "hand                            0\n",
       "dcp                             0\n",
       "DRAFT_POSITION                  0\n",
       "AGE_YEARS                       0\n",
       "WeatherCondition                0\n",
       "                                0\n",
       "extreme_weather                 0\n",
       "hard_weather                    0\n",
       "normal_weather                  0\n",
       "dtype: int64"
      ]
     },
     "execution_count": 10,
     "metadata": {},
     "output_type": "execute_result"
    }
   ],
   "source": [
    "# Check number of missing values\n",
    "ddf.isnull().sum()"
   ]
  },
  {
   "cell_type": "code",
   "execution_count": 11,
   "metadata": {},
   "outputs": [
    {
     "data": {
      "text/plain": [
       "Index(['FKICKER', 'GID', 'FGXP', 'SUCCESS_PRCNTG', 'BLOCKED_PRCNTG',\n",
       "       'PLAY_COUNT', 'HIGH_PRESSURE_SUCCESS_PRCNTG',\n",
       "       'LONG_DIST_SUCCESS_PRCNTG', 'TEMP', 'HUMD', 'WSPD', 'COND', 'SURF',\n",
       "       'YEARS_PLAYED', 'height', 'weight', 'forty', 'bench', 'vertical',\n",
       "       'broad', 'shuttle', 'cone', 'arm', 'hand', 'dcp', 'DRAFT_POSITION',\n",
       "       'AGE_YEARS', 'WeatherCondition', '', 'extreme_weather', 'hard_weather',\n",
       "       'normal_weather'],\n",
       "      dtype='object')"
      ]
     },
     "execution_count": 11,
     "metadata": {},
     "output_type": "execute_result"
    }
   ],
   "source": [
    "ddf.columns"
   ]
  },
  {
   "cell_type": "code",
   "execution_count": 12,
   "metadata": {
    "scrolled": true
   },
   "outputs": [
    {
     "name": "stderr",
     "output_type": "stream",
     "text": [
      "c:\\users\\deepak\\anaconda3\\envs\\gtulab\\lib\\site-packages\\pandas\\core\\frame.py:2540: SettingWithCopyWarning: \n",
      "A value is trying to be set on a copy of a slice from a DataFrame.\n",
      "Try using .loc[row_indexer,col_indexer] = value instead\n",
      "\n",
      "See the caveats in the documentation: http://pandas.pydata.org/pandas-docs/stable/indexing.html#indexing-view-versus-copy\n",
      "  self[k1] = value[k2]\n"
     ]
    },
    {
     "data": {
      "text/html": [
       "<div>\n",
       "<style scoped>\n",
       "    .dataframe tbody tr th:only-of-type {\n",
       "        vertical-align: middle;\n",
       "    }\n",
       "\n",
       "    .dataframe tbody tr th {\n",
       "        vertical-align: top;\n",
       "    }\n",
       "\n",
       "    .dataframe thead th {\n",
       "        text-align: right;\n",
       "    }\n",
       "</style>\n",
       "<table border=\"1\" class=\"dataframe\">\n",
       "  <thead>\n",
       "    <tr style=\"text-align: right;\">\n",
       "      <th></th>\n",
       "      <th>FKICKER</th>\n",
       "      <th>PLAY_COUNT</th>\n",
       "      <th>SUCCESS_PRCNTG</th>\n",
       "      <th>BLOCKED_PRCNTG</th>\n",
       "      <th>HIGH_PRESSURE_SUCCESS_PRCNTG</th>\n",
       "      <th>LONG_DIST_SUCCESS_PRCNTG</th>\n",
       "    </tr>\n",
       "  </thead>\n",
       "  <tbody>\n",
       "    <tr>\n",
       "      <th>0</th>\n",
       "      <td>AD-0800</td>\n",
       "      <td>1</td>\n",
       "      <td>100.0</td>\n",
       "      <td>0.0</td>\n",
       "      <td>0.0</td>\n",
       "      <td>0.0</td>\n",
       "    </tr>\n",
       "    <tr>\n",
       "      <th>1</th>\n",
       "      <td>AD-0800</td>\n",
       "      <td>1</td>\n",
       "      <td>100.0</td>\n",
       "      <td>0.0</td>\n",
       "      <td>0.0</td>\n",
       "      <td>0.0</td>\n",
       "    </tr>\n",
       "    <tr>\n",
       "      <th>2</th>\n",
       "      <td>AD-0800</td>\n",
       "      <td>2</td>\n",
       "      <td>100.0</td>\n",
       "      <td>0.0</td>\n",
       "      <td>0.0</td>\n",
       "      <td>0.0</td>\n",
       "    </tr>\n",
       "  </tbody>\n",
       "</table>\n",
       "</div>"
      ],
      "text/plain": [
       "   FKICKER  PLAY_COUNT  SUCCESS_PRCNTG  BLOCKED_PRCNTG  \\\n",
       "0  AD-0800           1           100.0             0.0   \n",
       "1  AD-0800           1           100.0             0.0   \n",
       "2  AD-0800           2           100.0             0.0   \n",
       "\n",
       "   HIGH_PRESSURE_SUCCESS_PRCNTG  LONG_DIST_SUCCESS_PRCNTG  \n",
       "0                           0.0                       0.0  \n",
       "1                           0.0                       0.0  \n",
       "2                           0.0                       0.0  "
      ]
     },
     "execution_count": 12,
     "metadata": {},
     "output_type": "execute_result"
    }
   ],
   "source": [
    "cdf= ddf[['FKICKER','PLAY_COUNT','SUCCESS_PRCNTG','BLOCKED_PRCNTG','HIGH_PRESSURE_SUCCESS_PRCNTG','LONG_DIST_SUCCESS_PRCNTG']]\n",
    "cdf[['PLAY_COUNT','SUCCESS_PRCNTG','BLOCKED_PRCNTG','HIGH_PRESSURE_SUCCESS_PRCNTG','LONG_DIST_SUCCESS_PRCNTG']] = cdf[['PLAY_COUNT','SUCCESS_PRCNTG','BLOCKED_PRCNTG','HIGH_PRESSURE_SUCCESS_PRCNTG','LONG_DIST_SUCCESS_PRCNTG']].apply(pd.to_numeric)\n",
    "cdf.head(3)"
   ]
  },
  {
   "cell_type": "code",
   "execution_count": 40,
   "metadata": {},
   "outputs": [],
   "source": [
    "def filterData(ch=0, count=0,cond=0):\n",
    "    global result\n",
    "    plt.figure(figsize=(22,8))\n",
    "    \n",
    "    if(ch=='Any'):\n",
    "        result = cdf.groupby(['FKICKER'], as_index=False).agg(\n",
    "            {'PLAY_COUNT':['sum'],'SUCCESS_PRCNTG':['mean','std']})\n",
    "        result.columns = ['FKICKER','PLAY_COUNT','SUCCESS_PRCNTG_MEAN','SUCCESS_PRCNTG_STD']\n",
    "        result.reindex(columns=sorted(result.columns))\n",
    "        result = result[result['PLAY_COUNT']>count]\n",
    "        result['SUCCESS_PRCNTG_CV'] = result['SUCCESS_PRCNTG_STD']/result['SUCCESS_PRCNTG_MEAN']\n",
    "        plt.plot(result['SUCCESS_PRCNTG_MEAN'], result['SUCCESS_PRCNTG_CV'], 'ro')\n",
    "        #xy_chart.add('Player', [(row.SUCCESS_PRCNTG_MEAN,row.SUCCESS_PRCNTG_CV) for index,row in result.iterrows()])\n",
    "        \n",
    "\n",
    "    elif(ch=='Long Distance'):\n",
    "        result = cdf.groupby(['FKICKER'], as_index=False).agg(\n",
    "            {'PLAY_COUNT':['sum'],'LONG_DIST_SUCCESS_PRCNTG':['mean','std']})\n",
    "        result.columns = ['FKICKER','PLAY_COUNT','LONG_DIST_SUCCESS_PRCNTG_MEAN','LONG_DIST_SUCCESS_PRCNTG_STD']\n",
    "        result.reindex(columns=sorted(result.columns))\n",
    "        result = result[result['PLAY_COUNT']>count]\n",
    "        result['LONG_DIST_SUCCESS_PRCNTG_CV'] = result['LONG_DIST_SUCCESS_PRCNTG_STD']/result['LONG_DIST_SUCCESS_PRCNTG_MEAN']\n",
    "        plt.plot(result['LONG_DIST_SUCCESS_PRCNTG_MEAN'], result['LONG_DIST_SUCCESS_PRCNTG_CV'], 'ro')\n",
    "\n",
    "    elif(ch=='High Pressure'):\n",
    "        result = cdf.groupby(['FKICKER'], as_index=False).agg(\n",
    "            {'PLAY_COUNT':['sum'],'HIGH_PRESSURE_SUCCESS_PRCNTG':['mean','std']})\n",
    "        result.columns = ['FKICKER','PLAY_COUNT','HIGH_PRESSURE_SUCCESS_PRCNTG_MEAN','HIGH_PRESSURE_SUCCESS_PRCNTG_STD']\n",
    "        result.reindex(columns=sorted(result.columns))\n",
    "        result = result[result['PLAY_COUNT']>count]\n",
    "        result['HIGH_PRESSURE_SUCCESS_PRCNTG_CV'] = result['HIGH_PRESSURE_SUCCESS_PRCNTG_STD']/result['HIGH_PRESSURE_SUCCESS_PRCNTG_MEAN']\n",
    "        plt.plot(result['HIGH_PRESSURE_SUCCESS_PRCNTG_MEAN'], result['HIGH_PRESSURE_SUCCESS_PRCNTG_CV'], 'ro')\n",
    "    \n",
    "    #plt.axis([40, 100.5, -.01, 1])\n",
    "    plt.show()\n",
    "    "
   ]
  },
  {
   "cell_type": "code",
   "execution_count": 41,
   "metadata": {
    "scrolled": true
   },
   "outputs": [
    {
     "data": {
      "application/vnd.jupyter.widget-view+json": {
       "model_id": "904f2283736d4d99b6cf8bb693e1da16",
       "version_major": 2,
       "version_minor": 0
      },
      "text/html": [
       "<p>Failed to display Jupyter Widget of type <code>interactive</code>.</p>\n",
       "<p>\n",
       "  If you're reading this message in the Jupyter Notebook or JupyterLab Notebook, it may mean\n",
       "  that the widgets JavaScript is still loading. If this message persists, it\n",
       "  likely means that the widgets JavaScript library is either not installed or\n",
       "  not enabled. See the <a href=\"https://ipywidgets.readthedocs.io/en/stable/user_install.html\">Jupyter\n",
       "  Widgets Documentation</a> for setup instructions.\n",
       "</p>\n",
       "<p>\n",
       "  If you're reading this message in another frontend (for example, a static\n",
       "  rendering on GitHub or <a href=\"https://nbviewer.jupyter.org/\">NBViewer</a>),\n",
       "  it may mean that your frontend doesn't currently support widgets.\n",
       "</p>\n"
      ],
      "text/plain": [
       "interactive(children=(Dropdown(description='ch', options=('Any', 'High Pressure', 'Long Distance'), value='Any'), IntSlider(value=0, description='count'), Dropdown(description='cond', options=('Any', 'Normal', 'Hard', 'Extreme'), value='Any'), Output()), _dom_classes=('widget-interact',))"
      ]
     },
     "metadata": {},
     "output_type": "display_data"
    }
   ],
   "source": [
    "c=interactive(filterData,ch=['Any','High Pressure', 'Long Distance'],\n",
    "              count=(0,100,1),cond=['Any', 'Normal', 'Hard', 'Extreme'])\n",
    "display(c)"
   ]
  },
  {
   "cell_type": "code",
   "execution_count": 21,
   "metadata": {},
   "outputs": [],
   "source": [
    "%matplotlib inline\n",
    "from IPython.display import SVG, HTML"
   ]
  },
  {
   "cell_type": "code",
   "execution_count": 22,
   "metadata": {},
   "outputs": [],
   "source": [
    "html_pygal = \"\"\"\n",
    "<!DOCTYPE html>\n",
    "<html>\n",
    "  <head>\n",
    "  <script type=\"text/javascript\" src=\"http://kozea.github.com/pygal.js/javascripts/svg.jquery.js\"></script>\n",
    "  <script type=\"text/javascript\" src=\"http://kozea.github.com/pygal.js/javascripts/pygal-tooltips.js\"></script>    \n",
    "  </head>\n",
    "  <body>\n",
    "    <figure>\n",
    "      {pygal_render}\n",
    "    </figure>\n",
    "  </body>\n",
    "</html>\n",
    "\"\"\""
   ]
  },
  {
   "cell_type": "code",
   "execution_count": 38,
   "metadata": {},
   "outputs": [
    {
     "data": {
      "text/html": [
       "\n",
       "<!DOCTYPE html>\n",
       "<html>\n",
       "  <head>\n",
       "  <script type=\"text/javascript\" src=\"http://kozea.github.com/pygal.js/javascripts/svg.jquery.js\"></script>\n",
       "  <script type=\"text/javascript\" src=\"http://kozea.github.com/pygal.js/javascripts/pygal-tooltips.js\"></script>    \n",
       "  </head>\n",
       "  <body>\n",
       "    <figure>\n",
       "      <?xml version='1.0' encoding='utf-8'?>\n",
       "<svg xmlns:xlink=\"http://www.w3.org/1999/xlink\" xmlns=\"http://www.w3.org/2000/svg\" id=\"chart-3bbaba52-d852-4592-b720-38bab8b79078\" class=\"pygal-chart\" viewBox=\"0 0 800 600\"><!--Generated with pygal 2.4.0 (lxml) ©Kozea 2012-2016 on 2018-05-07--><!--http://pygal.org--><!--http://github.com/Kozea/pygal--><defs><style type=\"text/css\">#chart-3bbaba52-d852-4592-b720-38bab8b79078{-webkit-user-select:none;-webkit-font-smoothing:antialiased;font-family:Consolas,\"Liberation Mono\",Menlo,Courier,monospace}#chart-3bbaba52-d852-4592-b720-38bab8b79078 .title{font-family:Consolas,\"Liberation Mono\",Menlo,Courier,monospace;font-size:16px}#chart-3bbaba52-d852-4592-b720-38bab8b79078 .legends .legend text{font-family:Consolas,\"Liberation Mono\",Menlo,Courier,monospace;font-size:14px}#chart-3bbaba52-d852-4592-b720-38bab8b79078 .axis text{font-family:Consolas,\"Liberation Mono\",Menlo,Courier,monospace;font-size:10px}#chart-3bbaba52-d852-4592-b720-38bab8b79078 .axis text.major{font-family:Consolas,\"Liberation Mono\",Menlo,Courier,monospace;font-size:10px}#chart-3bbaba52-d852-4592-b720-38bab8b79078 .text-overlay text.value{font-family:Consolas,\"Liberation Mono\",Menlo,Courier,monospace;font-size:16px}#chart-3bbaba52-d852-4592-b720-38bab8b79078 .text-overlay text.label{font-family:Consolas,\"Liberation Mono\",Menlo,Courier,monospace;font-size:10px}#chart-3bbaba52-d852-4592-b720-38bab8b79078 .tooltip{font-family:Consolas,\"Liberation Mono\",Menlo,Courier,monospace;font-size:14px}#chart-3bbaba52-d852-4592-b720-38bab8b79078 text.no_data{font-family:Consolas,\"Liberation Mono\",Menlo,Courier,monospace;font-size:64px}\n",
       "#chart-3bbaba52-d852-4592-b720-38bab8b79078{background-color:rgba(249,249,249,1)}#chart-3bbaba52-d852-4592-b720-38bab8b79078 path,#chart-3bbaba52-d852-4592-b720-38bab8b79078 line,#chart-3bbaba52-d852-4592-b720-38bab8b79078 rect,#chart-3bbaba52-d852-4592-b720-38bab8b79078 circle{-webkit-transition:150ms;-moz-transition:150ms;transition:150ms}#chart-3bbaba52-d852-4592-b720-38bab8b79078 .graph &gt; .background{fill:rgba(249,249,249,1)}#chart-3bbaba52-d852-4592-b720-38bab8b79078 .plot &gt; .background{fill:rgba(255,255,255,1)}#chart-3bbaba52-d852-4592-b720-38bab8b79078 .graph{fill:rgba(0,0,0,.87)}#chart-3bbaba52-d852-4592-b720-38bab8b79078 text.no_data{fill:rgba(0,0,0,1)}#chart-3bbaba52-d852-4592-b720-38bab8b79078 .title{fill:rgba(0,0,0,1)}#chart-3bbaba52-d852-4592-b720-38bab8b79078 .legends .legend text{fill:rgba(0,0,0,.87)}#chart-3bbaba52-d852-4592-b720-38bab8b79078 .legends .legend:hover text{fill:rgba(0,0,0,1)}#chart-3bbaba52-d852-4592-b720-38bab8b79078 .axis .line{stroke:rgba(0,0,0,1)}#chart-3bbaba52-d852-4592-b720-38bab8b79078 .axis .guide.line{stroke:rgba(0,0,0,.54)}#chart-3bbaba52-d852-4592-b720-38bab8b79078 .axis .major.line{stroke:rgba(0,0,0,.87)}#chart-3bbaba52-d852-4592-b720-38bab8b79078 .axis text.major{fill:rgba(0,0,0,1)}#chart-3bbaba52-d852-4592-b720-38bab8b79078 .axis.y .guides:hover .guide.line,#chart-3bbaba52-d852-4592-b720-38bab8b79078 .line-graph .axis.x .guides:hover .guide.line,#chart-3bbaba52-d852-4592-b720-38bab8b79078 .stackedline-graph .axis.x .guides:hover .guide.line,#chart-3bbaba52-d852-4592-b720-38bab8b79078 .xy-graph .axis.x .guides:hover .guide.line{stroke:rgba(0,0,0,1)}#chart-3bbaba52-d852-4592-b720-38bab8b79078 .axis .guides:hover text{fill:rgba(0,0,0,1)}#chart-3bbaba52-d852-4592-b720-38bab8b79078 .reactive{fill-opacity:.7;stroke-opacity:.8}#chart-3bbaba52-d852-4592-b720-38bab8b79078 .ci{stroke:rgba(0,0,0,.87)}#chart-3bbaba52-d852-4592-b720-38bab8b79078 .reactive.active,#chart-3bbaba52-d852-4592-b720-38bab8b79078 .active .reactive{fill-opacity:.8;stroke-opacity:.9;stroke-width:4}#chart-3bbaba52-d852-4592-b720-38bab8b79078 .ci .reactive.active{stroke-width:1.5}#chart-3bbaba52-d852-4592-b720-38bab8b79078 .series text{fill:rgba(0,0,0,1)}#chart-3bbaba52-d852-4592-b720-38bab8b79078 .tooltip rect{fill:rgba(255,255,255,1);stroke:rgba(0,0,0,1);-webkit-transition:opacity 150ms;-moz-transition:opacity 150ms;transition:opacity 150ms}#chart-3bbaba52-d852-4592-b720-38bab8b79078 .tooltip .label{fill:rgba(0,0,0,.87)}#chart-3bbaba52-d852-4592-b720-38bab8b79078 .tooltip .label{fill:rgba(0,0,0,.87)}#chart-3bbaba52-d852-4592-b720-38bab8b79078 .tooltip .legend{font-size:.8em;fill:rgba(0,0,0,.54)}#chart-3bbaba52-d852-4592-b720-38bab8b79078 .tooltip .x_label{font-size:.6em;fill:rgba(0,0,0,1)}#chart-3bbaba52-d852-4592-b720-38bab8b79078 .tooltip .xlink{font-size:.5em;text-decoration:underline}#chart-3bbaba52-d852-4592-b720-38bab8b79078 .tooltip .value{font-size:1.5em}#chart-3bbaba52-d852-4592-b720-38bab8b79078 .bound{font-size:.5em}#chart-3bbaba52-d852-4592-b720-38bab8b79078 .max-value{font-size:.75em;fill:rgba(0,0,0,.54)}#chart-3bbaba52-d852-4592-b720-38bab8b79078 .map-element{fill:rgba(255,255,255,1);stroke:rgba(0,0,0,.54) !important}#chart-3bbaba52-d852-4592-b720-38bab8b79078 .map-element .reactive{fill-opacity:inherit;stroke-opacity:inherit}#chart-3bbaba52-d852-4592-b720-38bab8b79078 .color-0,#chart-3bbaba52-d852-4592-b720-38bab8b79078 .color-0 a:visited{stroke:#F44336;fill:#F44336}#chart-3bbaba52-d852-4592-b720-38bab8b79078 .text-overlay .color-0 text{fill:black}\n",
       "#chart-3bbaba52-d852-4592-b720-38bab8b79078 text.no_data{text-anchor:middle}#chart-3bbaba52-d852-4592-b720-38bab8b79078 .guide.line{fill:none}#chart-3bbaba52-d852-4592-b720-38bab8b79078 .centered{text-anchor:middle}#chart-3bbaba52-d852-4592-b720-38bab8b79078 .title{text-anchor:middle}#chart-3bbaba52-d852-4592-b720-38bab8b79078 .legends .legend text{fill-opacity:1}#chart-3bbaba52-d852-4592-b720-38bab8b79078 .axis.x text{text-anchor:middle}#chart-3bbaba52-d852-4592-b720-38bab8b79078 .axis.x:not(.web) text[transform]{text-anchor:start}#chart-3bbaba52-d852-4592-b720-38bab8b79078 .axis.x:not(.web) text[transform].backwards{text-anchor:end}#chart-3bbaba52-d852-4592-b720-38bab8b79078 .axis.y text{text-anchor:end}#chart-3bbaba52-d852-4592-b720-38bab8b79078 .axis.y text[transform].backwards{text-anchor:start}#chart-3bbaba52-d852-4592-b720-38bab8b79078 .axis.y2 text{text-anchor:start}#chart-3bbaba52-d852-4592-b720-38bab8b79078 .axis.y2 text[transform].backwards{text-anchor:end}#chart-3bbaba52-d852-4592-b720-38bab8b79078 .axis .guide.line{stroke-dasharray:4,4}#chart-3bbaba52-d852-4592-b720-38bab8b79078 .axis .major.guide.line{stroke-dasharray:6,6}#chart-3bbaba52-d852-4592-b720-38bab8b79078 .horizontal .axis.y .guide.line,#chart-3bbaba52-d852-4592-b720-38bab8b79078 .horizontal .axis.y2 .guide.line,#chart-3bbaba52-d852-4592-b720-38bab8b79078 .vertical .axis.x .guide.line{opacity:0}#chart-3bbaba52-d852-4592-b720-38bab8b79078 .horizontal .axis.always_show .guide.line,#chart-3bbaba52-d852-4592-b720-38bab8b79078 .vertical .axis.always_show .guide.line{opacity:1 !important}#chart-3bbaba52-d852-4592-b720-38bab8b79078 .axis.y .guides:hover .guide.line,#chart-3bbaba52-d852-4592-b720-38bab8b79078 .axis.y2 .guides:hover .guide.line,#chart-3bbaba52-d852-4592-b720-38bab8b79078 .axis.x .guides:hover .guide.line{opacity:1}#chart-3bbaba52-d852-4592-b720-38bab8b79078 .axis .guides:hover text{opacity:1}#chart-3bbaba52-d852-4592-b720-38bab8b79078 .nofill{fill:none}#chart-3bbaba52-d852-4592-b720-38bab8b79078 .subtle-fill{fill-opacity:.2}#chart-3bbaba52-d852-4592-b720-38bab8b79078 .dot{stroke-width:1px;fill-opacity:1}#chart-3bbaba52-d852-4592-b720-38bab8b79078 .dot.active{stroke-width:5px}#chart-3bbaba52-d852-4592-b720-38bab8b79078 .dot.negative{fill:transparent}#chart-3bbaba52-d852-4592-b720-38bab8b79078 text,#chart-3bbaba52-d852-4592-b720-38bab8b79078 tspan{stroke:none !important}#chart-3bbaba52-d852-4592-b720-38bab8b79078 .series text.active{opacity:1}#chart-3bbaba52-d852-4592-b720-38bab8b79078 .tooltip rect{fill-opacity:.95;stroke-width:.5}#chart-3bbaba52-d852-4592-b720-38bab8b79078 .tooltip text{fill-opacity:1}#chart-3bbaba52-d852-4592-b720-38bab8b79078 .showable{visibility:hidden}#chart-3bbaba52-d852-4592-b720-38bab8b79078 .showable.shown{visibility:visible}#chart-3bbaba52-d852-4592-b720-38bab8b79078 .gauge-background{fill:rgba(229,229,229,1);stroke:none}#chart-3bbaba52-d852-4592-b720-38bab8b79078 .bg-lines{stroke:rgba(249,249,249,1);stroke-width:2px}</style><script type=\"text/javascript\">window.pygal = window.pygal || {};window.pygal.config = window.pygal.config || {};window.pygal.config['3bbaba52-d852-4592-b720-38bab8b79078'] = {\"allow_interruptions\": false, \"box_mode\": \"extremes\", \"classes\": [\"pygal-chart\"], \"css\": [\"file://style.css\", \"file://graph.css\"], \"defs\": [], \"disable_xml_declaration\": false, \"dots_size\": 2.5, \"dynamic_print_values\": false, \"explicit_size\": false, \"fill\": false, \"force_uri_protocol\": \"https\", \"formatter\": null, \"half_pie\": false, \"height\": 600, \"include_x_axis\": false, \"inner_radius\": 0, \"interpolate\": null, \"interpolation_parameters\": {}, \"interpolation_precision\": 250, \"inverse_y_axis\": false, \"js\": [\"//kozea.github.io/pygal.js/2.0.x/pygal-tooltips.min.js\"], \"legend_at_bottom\": false, \"legend_at_bottom_columns\": null, \"legend_box_size\": 12, \"logarithmic\": false, \"margin\": 20, \"margin_bottom\": null, \"margin_left\": null, \"margin_right\": null, \"margin_top\": null, \"max_scale\": 16, \"min_scale\": 4, \"missing_value_fill_truncation\": \"x\", \"no_data_text\": \"No data\", \"no_prefix\": false, \"order_min\": null, \"pretty_print\": false, \"print_labels\": false, \"print_values\": false, \"print_values_position\": \"center\", \"print_zeroes\": true, \"range\": null, \"rounded_bars\": null, \"secondary_range\": null, \"show_dots\": true, \"show_legend\": true, \"show_minor_x_labels\": true, \"show_minor_y_labels\": true, \"show_only_major_dots\": false, \"show_x_guides\": false, \"show_x_labels\": true, \"show_y_guides\": true, \"show_y_labels\": true, \"spacing\": 10, \"stack_from_top\": false, \"strict\": false, \"stroke\": false, \"stroke_style\": null, \"style\": {\"background\": \"rgba(249, 249, 249, 1)\", \"ci_colors\": [], \"colors\": [\"#F44336\", \"#3F51B5\", \"#009688\", \"#FFC107\", \"#FF5722\", \"#9C27B0\", \"#03A9F4\", \"#8BC34A\", \"#FF9800\", \"#E91E63\", \"#2196F3\", \"#4CAF50\", \"#FFEB3B\", \"#673AB7\", \"#00BCD4\", \"#CDDC39\", \"#9E9E9E\", \"#607D8B\"], \"font_family\": \"Consolas, \\\"Liberation Mono\\\", Menlo, Courier, monospace\", \"foreground\": \"rgba(0, 0, 0, .87)\", \"foreground_strong\": \"rgba(0, 0, 0, 1)\", \"foreground_subtle\": \"rgba(0, 0, 0, .54)\", \"guide_stroke_dasharray\": \"4,4\", \"label_font_family\": \"Consolas, \\\"Liberation Mono\\\", Menlo, Courier, monospace\", \"label_font_size\": 10, \"legend_font_family\": \"Consolas, \\\"Liberation Mono\\\", Menlo, Courier, monospace\", \"legend_font_size\": 14, \"major_guide_stroke_dasharray\": \"6,6\", \"major_label_font_family\": \"Consolas, \\\"Liberation Mono\\\", Menlo, Courier, monospace\", \"major_label_font_size\": 10, \"no_data_font_family\": \"Consolas, \\\"Liberation Mono\\\", Menlo, Courier, monospace\", \"no_data_font_size\": 64, \"opacity\": \".7\", \"opacity_hover\": \".8\", \"plot_background\": \"rgba(255, 255, 255, 1)\", \"stroke_opacity\": \".8\", \"stroke_opacity_hover\": \".9\", \"title_font_family\": \"Consolas, \\\"Liberation Mono\\\", Menlo, Courier, monospace\", \"title_font_size\": 16, \"tooltip_font_family\": \"Consolas, \\\"Liberation Mono\\\", Menlo, Courier, monospace\", \"tooltip_font_size\": 14, \"transition\": \"150ms\", \"value_background\": \"rgba(229, 229, 229, 1)\", \"value_colors\": [], \"value_font_family\": \"Consolas, \\\"Liberation Mono\\\", Menlo, Courier, monospace\", \"value_font_size\": 16, \"value_label_font_family\": \"Consolas, \\\"Liberation Mono\\\", Menlo, Courier, monospace\", \"value_label_font_size\": 10}, \"title\": \"Correlation\", \"tooltip_border_radius\": 10, \"tooltip_fancy_mode\": true, \"truncate_label\": null, \"truncate_legend\": null, \"width\": 800, \"x_label_rotation\": 0, \"x_labels\": null, \"x_labels_major\": null, \"x_labels_major_count\": null, \"x_labels_major_every\": null, \"x_title\": null, \"xrange\": null, \"y_label_rotation\": 0, \"y_labels\": null, \"y_labels_major\": null, \"y_labels_major_count\": null, \"y_labels_major_every\": null, \"y_title\": null, \"zero\": 0, \"legends\": [\"Player\"]}</script><script type=\"text/javascript\" xlink:href=\"https://kozea.github.io/pygal.js/2.0.x/pygal-tooltips.min.js\"/></defs><title>Correlation</title><g class=\"graph xy-graph vertical\"><rect class=\"background\" height=\"600\" width=\"800\" x=\"0\" y=\"0\"/><g class=\"plot\" transform=\"translate(120, 46)\"><rect class=\"background\" height=\"514\" width=\"659.6\" x=\"0\" y=\"0\"/><g class=\"axis y always_show\"><path class=\"line\" d=\"M0.000000 514.000000 h659.600000\"/><g class=\"guides\"><path class=\"major guide line\" d=\"M0.000000 504.115385 h659.600000\"/><text class=\"major\" x=\"-5\" y=\"507.6153846153846\">1</text><title>1</title></g><g class=\"guides\"><path class=\"guide line\" d=\"M0.000000 454.692308 h659.600000\"/><text class=\"\" x=\"-5\" y=\"458.1923076923076\">1.1</text><title>1.1</title></g><g class=\"guides\"><path class=\"guide line\" d=\"M0.000000 405.269231 h659.600000\"/><text class=\"\" x=\"-5\" y=\"408.7692307692308\">1.2</text><title>1.2</title></g><g class=\"guides\"><path class=\"guide line\" d=\"M0.000000 355.846154 h659.600000\"/><text class=\"\" x=\"-5\" y=\"359.3461538461538\">1.3</text><title>1.3</title></g><g class=\"guides\"><path class=\"guide line\" d=\"M0.000000 306.423077 h659.600000\"/><text class=\"\" x=\"-5\" y=\"309.92307692307696\">1.4</text><title>1.4</title></g><g class=\"guides\"><path class=\"major guide line\" d=\"M0.000000 257.000000 h659.600000\"/><text class=\"major\" x=\"-5\" y=\"260.5\">1.5</text><title>1.5</title></g><g class=\"guides\"><path class=\"guide line\" d=\"M0.000000 207.576923 h659.600000\"/><text class=\"\" x=\"-5\" y=\"211.07692307692304\">1.6</text><title>1.6</title></g><g class=\"guides\"><path class=\"guide line\" d=\"M0.000000 158.153846 h659.600000\"/><text class=\"\" x=\"-5\" y=\"161.6538461538462\">1.7</text><title>1.7</title></g><g class=\"guides\"><path class=\"guide line\" d=\"M0.000000 108.730769 h659.600000\"/><text class=\"\" x=\"-5\" y=\"112.23076923076923\">1.8</text><title>1.8</title></g><g class=\"guides\"><path class=\"guide line\" d=\"M0.000000 59.307692 h659.600000\"/><text class=\"\" x=\"-5\" y=\"62.80769230769238\">1.9</text><title>1.9</title></g><g class=\"guides\"><path class=\"major guide line\" d=\"M0.000000 9.884615 h659.600000\"/><text class=\"major\" x=\"-5\" y=\"13.384615384615415\">2</text><title>2</title></g></g><g class=\"axis x\"><path class=\"line\" d=\"M0.000000 0.000000 v514.000000\"/><g class=\"guides\"><path class=\"guide line\" d=\"M12.684615 0.000000 v514.000000\"/><text class=\"\" x=\"12.684615384615396\" y=\"529.0\">1</text><title>1</title></g><g class=\"guides\"><path class=\"guide line\" d=\"M76.107692 0.000000 v514.000000\"/><text class=\"\" x=\"76.10769230769237\" y=\"529.0\">1.1</text><title>1.1</title></g><g class=\"guides\"><path class=\"guide line\" d=\"M139.530769 0.000000 v514.000000\"/><text class=\"\" x=\"139.5307692307692\" y=\"529.0\">1.2</text><title>1.2</title></g><g class=\"guides\"><path class=\"guide line\" d=\"M202.953846 0.000000 v514.000000\"/><text class=\"\" x=\"202.9538461538462\" y=\"529.0\">1.3</text><title>1.3</title></g><g class=\"guides\"><path class=\"guide line\" d=\"M266.376923 0.000000 v514.000000\"/><text class=\"\" x=\"266.37692307692305\" y=\"529.0\">1.4</text><title>1.4</title></g><g class=\"guides\"><path class=\"guide line\" d=\"M329.800000 0.000000 v514.000000\"/><text class=\"\" x=\"329.8\" y=\"529.0\">1.5</text><title>1.5</title></g><g class=\"guides\"><path class=\"guide line\" d=\"M393.223077 0.000000 v514.000000\"/><text class=\"\" x=\"393.22307692307703\" y=\"529.0\">1.6</text><title>1.6</title></g><g class=\"guides\"><path class=\"guide line\" d=\"M456.646154 0.000000 v514.000000\"/><text class=\"\" x=\"456.6461538461538\" y=\"529.0\">1.7</text><title>1.7</title></g><g class=\"guides\"><path class=\"guide line\" d=\"M520.069231 0.000000 v514.000000\"/><text class=\"\" x=\"520.0692307692308\" y=\"529.0\">1.8</text><title>1.8</title></g><g class=\"guides\"><path class=\"guide line\" d=\"M583.492308 0.000000 v514.000000\"/><text class=\"\" x=\"583.4923076923077\" y=\"529.0\">1.9</text><title>1.9</title></g><g class=\"guides\"><path class=\"guide line\" d=\"M646.915385 0.000000 v514.000000\"/><text class=\"\" x=\"646.9153846153846\" y=\"529.0\">2</text><title>2</title></g></g><g class=\"series serie-0 color-0\"/></g><g class=\"titles\"><text class=\"title plot_title\" x=\"400.0\" y=\"26\">Correlation</text></g><g class=\"plot overlay\" transform=\"translate(120, 46)\"><g class=\"series serie-0 color-0\"><g class=\"dots\"><circle class=\"dot reactive tooltip-trigger\" cx=\"12.684615384615396\" cy=\"504.1153846153846\" r=\"2.5\"/><desc class=\"value\">1: 1</desc><desc class=\"x top\">12.684615384615396</desc><desc class=\"y top\">504.1153846153846</desc></g><g class=\"dots\"><circle class=\"dot reactive tooltip-trigger\" cx=\"646.9153846153846\" cy=\"9.884615384615415\" r=\"2.5\"/><desc class=\"value\">2: 2</desc><desc class=\"x left\">646.9153846153846</desc><desc class=\"y left\">9.884615384615415</desc></g></g></g><g class=\"plot text-overlay\" transform=\"translate(120, 46)\"><g class=\"series serie-0 color-0\"/></g><g class=\"plot tooltip-overlay\" transform=\"translate(120, 46)\"><g class=\"tooltip\" style=\"opacity: 0\" transform=\"translate(0 0)\"><rect class=\"tooltip-box\" height=\"0\" rx=\"10\" ry=\"10\" width=\"0\"/><g class=\"text\"/></g></g><g class=\"legends\" transform=\"translate(10, 56)\"><g class=\"legend reactive activate-serie\" id=\"activate-serie-0\"><rect class=\"color-0 reactive\" height=\"12\" width=\"12\" x=\"0.0\" y=\"1.0\"/><text x=\"17.0\" y=\"11.2\">Player</text></g></g><g class=\"legends\" transform=\"translate(790, 56)\"/></g></svg>\n",
       "    </figure>\n",
       "  </body>\n",
       "</html>\n"
      ],
      "text/plain": [
       "<IPython.core.display.HTML object>"
      ]
     },
     "execution_count": 38,
     "metadata": {},
     "output_type": "execute_result"
    }
   ],
   "source": [
    "import pygal\n",
    "xy_chart = pygal.XY(stroke=False,tooltip_border_radius=10)\n",
    "xy_chart.title = 'Correlation'\n",
    "xy_chart.add('Player', [(1,1),(2,2)])\n",
    "HTML(html_pygal.format(pygal_render=xy_chart.render(is_unicode=True)))\n"
   ]
  }
 ],
 "metadata": {
  "kernelspec": {
   "display_name": "Python 3",
   "language": "python",
   "name": "python3"
  },
  "language_info": {
   "codemirror_mode": {
    "name": "ipython",
    "version": 3
   },
   "file_extension": ".py",
   "mimetype": "text/x-python",
   "name": "python",
   "nbconvert_exporter": "python",
   "pygments_lexer": "ipython3",
   "version": "3.6.4"
  }
 },
 "nbformat": 4,
 "nbformat_minor": 2
}
