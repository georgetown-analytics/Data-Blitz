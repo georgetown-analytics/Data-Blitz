{
 "cells": [
  {
   "cell_type": "markdown",
   "metadata": {},
   "source": [
    "# Exploring Kicker Average and Consistency"
   ]
  },
  {
   "cell_type": "markdown",
   "metadata": {},
   "source": [
    "The ability to perform well in individual matches at critical moments is important, but consistently performing at a high level of skill creates a statistical divide between lucky players and highly skilled players. As a result, measuring empirical variance is an important aspect to determining a player’s skill level."
   ]
  },
  {
   "cell_type": "markdown",
   "metadata": {},
   "source": [
    "## Prepare Data"
   ]
  },
  {
   "cell_type": "markdown",
   "metadata": {},
   "source": [
    "Get kickers play data from data base with play, player and game information\n",
    "(where distance kicked from is >=35 yards)"
   ]
  },
  {
   "cell_type": "code",
   "execution_count": 1,
   "metadata": {},
   "outputs": [],
   "source": [
    "import mysql.connector\n",
    "import pandas as pd\n",
    "import numpy as np\n",
    "from pandas import DataFrame\n",
    "import matplotlib.mlab as mlab\n",
    "from mysql.connector import errorcode\n",
    "import matplotlib.pyplot as plt\n",
    "from __future__ import print_function\n",
    "from ipywidgets import interact, interactive, fixed, interact_manual\n",
    "import ipywidgets as widgets\n",
    "from IPython.display import display, clear_output\n",
    "\n",
    "%matplotlib inline\n",
    "\n",
    "def getData():\n",
    "    config = {\n",
    "    'user': 'db_gtown_2018',\n",
    "    'password': '*****',\n",
    "    'port': '3306',\n",
    "    'host': 'nflnumbers.czuayagz62va.us-east-1.rds.amazonaws.com',\n",
    "    'database': 'db_nfl',\n",
    "    'raise_on_warnings': True,\n",
    "    }\n",
    "\n",
    "    try:\n",
    "        cnx = mysql.connector.connect(**config)\n",
    "        cursor = cnx.cursor()\n",
    "        #Let's read all the rows in the table\n",
    "        readContactPerson = \"\"\"SELECT \n",
    "        FKICKER,\n",
    "        Percentage.GID,\n",
    "        FGXP,\n",
    "        ((SUM(SUCCESS) / COUNT(*)) * 100) AS SUCCESS_PRCNTG,\n",
    "        ((SUM(BLOCKED) / COUNT(*)) * 100) AS BLOCKED_PRCNTG,\n",
    "        COUNT(*) AS PLAY_COUNT,\n",
    "        CASE\n",
    "            WHEN SUM(HIGH_PRESSURE) = 0 THEN 0\n",
    "            ELSE ((SUM(HIGH_PRESSURE_SUCCESS) / SUM(HIGH_PRESSURE)) * 100)\n",
    "        END AS HIGH_PRESSURE_SUCCESS_PRCNTG,\n",
    "        CASE\n",
    "            WHEN SUM(LONG_DIST) = 0 THEN 0\n",
    "            ELSE ((SUM(LONG_DIST_SUCCESS) / SUM(LONG_DIST)) * 100)\n",
    "        END AS LONG_DIST_SUCCESS_PRCNTG,    \n",
    "        TEMP,\n",
    "        HUMD,\n",
    "        WSPD,\n",
    "        COND,\n",
    "        SURF,\n",
    "        (YEAR(CURDATE()) - PLAYER.start) AS YEARS_PLAYED,\n",
    "        height,\n",
    "        weight,\n",
    "        PLAYER.forty,\n",
    "        PLAYER.bench,\n",
    "        PLAYER.vertical,\n",
    "        PLAYER.broad,\n",
    "        PLAYER.shuttle,\n",
    "        PLAYER.cone,\n",
    "        PLAYER.arm,\n",
    "        PLAYER.hand,\n",
    "        PLAYER.dcp,\n",
    "        DPOS AS DRAFT_POSITION,\n",
    "        (SELECT \n",
    "                (TO_DAYS(NOW()) - TO_DAYS(STR_TO_DATE(dob, '%m/%d/%Y'))) / 365\n",
    "            FROM\n",
    "                PLAYER P\n",
    "            WHERE\n",
    "                P.player = FKICKER) AS AGE_YEARS\n",
    "    FROM\n",
    "        (SELECT \n",
    "            FGXP,\n",
    "                PBP.GID,\n",
    "                PBP.FKICKER,\n",
    "                CASE\n",
    "                    WHEN GOOD = 'Y' THEN 1\n",
    "                    ELSE 0\n",
    "                END AS SUCCESS,\n",
    "                CASE\n",
    "                    WHEN UPPER(DETAIL) LIKE '%BLOCKED%' THEN 1\n",
    "                    ELSE 0\n",
    "                END AS BLOCKED,\n",
    "                CASE\n",
    "                    WHEN\n",
    "                        QTR IN ('2' , '4') AND MIN <= 2\n",
    "                            AND (PTSO - PTSD) >= - 3\n",
    "                    THEN\n",
    "                        1\n",
    "                    ELSE 0\n",
    "                END AS HIGH_PRESSURE,\n",
    "                CASE\n",
    "                    WHEN\n",
    "                        QTR IN ('2' , '4') AND MIN <= 2\n",
    "                            AND (PTSO - PTSD) >= - 3\n",
    "                            AND GOOD = 'Y'\n",
    "                    THEN\n",
    "                        1\n",
    "                    ELSE 0\n",
    "                END AS HIGH_PRESSURE_SUCCESS,\n",
    "                CASE\n",
    "                    WHEN DIST >= 50 THEN 1\n",
    "                    ELSE 0\n",
    "                END AS LONG_DIST,\n",
    "                CASE\n",
    "                    WHEN DIST >= 50 AND GOOD = 'Y' THEN 1\n",
    "                    ELSE 0\n",
    "                END AS LONG_DIST_SUCCESS,\n",
    "                DIST - (100 - CASE\n",
    "                    WHEN YFOG = '' THEN '98'\n",
    "                    ELSE YFOG\n",
    "                END) AS YDS_BEHIND_LOS\n",
    "        FROM\n",
    "            PBP\n",
    "        LEFT OUTER JOIN PLAYER PLAYER ON PBP.FKICKER = PLAYER.PLAYER\n",
    "        WHERE\n",
    "            TYPE = 'FGXP' AND POS1 = 'K'\n",
    "                AND DIST >= 35) AS Percentage\n",
    "            LEFT OUTER JOIN\n",
    "        PLAYER PLAYER ON Percentage.FKICKER = PLAYER.PLAYER\n",
    "            LEFT OUTER JOIN\n",
    "        GAME ON Percentage.GID = GAME.GID\n",
    "    GROUP BY FKICKER , Percentage.GID\n",
    "    ORDER BY FKICKER , Percentage.GID;\"\"\"\n",
    "        cursor.execute(readContactPerson)\n",
    "        #specify the attributes that you want to display\n",
    "        df = DataFrame(cursor.fetchall())    \n",
    "        df.columns = ['FKICKER','GID','FGXP','SUCCESS_PRCNTG','BLOCKED_PRCNTG','PLAY_COUNT',\n",
    "        'HIGH_PRESSURE_SUCCESS_PRCNTG','LONG_DIST_SUCCESS_PRCNTG',\n",
    "        'TEMP','HUMD','WSPD','COND','SURF',\n",
    "        'YEARS_PLAYED','height','weight','forty','bench',\n",
    "        'vertical','broad','shuttle','cone',\n",
    "        'arm','hand','dcp','DRAFT_POSITION','AGE_YEARS']\n",
    "        cnx.commit()\n",
    "    except mysql.connector.Error as err:\n",
    "        if err.errno == errorcode.ER_ACCESS_DENIED_ERROR:\n",
    "            print(\"Something is wrong with your user name or password\")\n",
    "        elif err.errno == errorcode.ER_BAD_DB_ERROR:\n",
    "            print(\"Database does not exist\")\n",
    "        else:\n",
    "            print(err)\n",
    "    else:\n",
    "        \n",
    "        return df\n",
    "        cursor.close()\n",
    "        cnx.close()\n",
    "data = getData()        "
   ]
  },
  {
   "cell_type": "code",
   "execution_count": 2,
   "metadata": {},
   "outputs": [
    {
     "data": {
      "text/html": [
       "<div>\n",
       "<style scoped>\n",
       "    .dataframe tbody tr th:only-of-type {\n",
       "        vertical-align: middle;\n",
       "    }\n",
       "\n",
       "    .dataframe tbody tr th {\n",
       "        vertical-align: top;\n",
       "    }\n",
       "\n",
       "    .dataframe thead th {\n",
       "        text-align: right;\n",
       "    }\n",
       "</style>\n",
       "<table border=\"1\" class=\"dataframe\">\n",
       "  <thead>\n",
       "    <tr style=\"text-align: right;\">\n",
       "      <th></th>\n",
       "      <th>FKICKER</th>\n",
       "      <th>GID</th>\n",
       "      <th>FGXP</th>\n",
       "      <th>SUCCESS_PRCNTG</th>\n",
       "      <th>BLOCKED_PRCNTG</th>\n",
       "      <th>PLAY_COUNT</th>\n",
       "      <th>HIGH_PRESSURE_SUCCESS_PRCNTG</th>\n",
       "      <th>LONG_DIST_SUCCESS_PRCNTG</th>\n",
       "      <th>TEMP</th>\n",
       "      <th>HUMD</th>\n",
       "      <th>...</th>\n",
       "      <th>bench</th>\n",
       "      <th>vertical</th>\n",
       "      <th>broad</th>\n",
       "      <th>shuttle</th>\n",
       "      <th>cone</th>\n",
       "      <th>arm</th>\n",
       "      <th>hand</th>\n",
       "      <th>dcp</th>\n",
       "      <th>DRAFT_POSITION</th>\n",
       "      <th>AGE_YEARS</th>\n",
       "    </tr>\n",
       "  </thead>\n",
       "  <tbody>\n",
       "    <tr>\n",
       "      <th>0</th>\n",
       "      <td>AD-0800</td>\n",
       "      <td>14</td>\n",
       "      <td>FG</td>\n",
       "      <td>100.0000</td>\n",
       "      <td>0.0000</td>\n",
       "      <td>1</td>\n",
       "      <td>0</td>\n",
       "      <td>0</td>\n",
       "      <td>73</td>\n",
       "      <td>78</td>\n",
       "      <td>...</td>\n",
       "      <td>0</td>\n",
       "      <td>0.0</td>\n",
       "      <td>0</td>\n",
       "      <td>0.0</td>\n",
       "      <td>0.0</td>\n",
       "      <td>0</td>\n",
       "      <td>0.0</td>\n",
       "      <td>0</td>\n",
       "      <td>0</td>\n",
       "      <td>56.2274</td>\n",
       "    </tr>\n",
       "    <tr>\n",
       "      <th>1</th>\n",
       "      <td>AD-0800</td>\n",
       "      <td>28</td>\n",
       "      <td>FG</td>\n",
       "      <td>100.0000</td>\n",
       "      <td>0.0000</td>\n",
       "      <td>1</td>\n",
       "      <td>0</td>\n",
       "      <td>0</td>\n",
       "      <td>80</td>\n",
       "      <td>84</td>\n",
       "      <td>...</td>\n",
       "      <td>0</td>\n",
       "      <td>0.0</td>\n",
       "      <td>0</td>\n",
       "      <td>0.0</td>\n",
       "      <td>0.0</td>\n",
       "      <td>0</td>\n",
       "      <td>0.0</td>\n",
       "      <td>0</td>\n",
       "      <td>0</td>\n",
       "      <td>56.2274</td>\n",
       "    </tr>\n",
       "    <tr>\n",
       "      <th>2</th>\n",
       "      <td>AD-0800</td>\n",
       "      <td>54</td>\n",
       "      <td>FG</td>\n",
       "      <td>100.0000</td>\n",
       "      <td>0.0000</td>\n",
       "      <td>2</td>\n",
       "      <td>0</td>\n",
       "      <td>0</td>\n",
       "      <td>61</td>\n",
       "      <td>0</td>\n",
       "      <td>...</td>\n",
       "      <td>0</td>\n",
       "      <td>0.0</td>\n",
       "      <td>0</td>\n",
       "      <td>0.0</td>\n",
       "      <td>0.0</td>\n",
       "      <td>0</td>\n",
       "      <td>0.0</td>\n",
       "      <td>0</td>\n",
       "      <td>0</td>\n",
       "      <td>56.2274</td>\n",
       "    </tr>\n",
       "  </tbody>\n",
       "</table>\n",
       "<p>3 rows × 27 columns</p>\n",
       "</div>"
      ],
      "text/plain": [
       "   FKICKER GID FGXP SUCCESS_PRCNTG BLOCKED_PRCNTG  PLAY_COUNT  \\\n",
       "0  AD-0800  14   FG       100.0000         0.0000           1   \n",
       "1  AD-0800  28   FG       100.0000         0.0000           1   \n",
       "2  AD-0800  54   FG       100.0000         0.0000           2   \n",
       "\n",
       "  HIGH_PRESSURE_SUCCESS_PRCNTG LONG_DIST_SUCCESS_PRCNTG TEMP HUMD    ...      \\\n",
       "0                            0                        0   73   78    ...       \n",
       "1                            0                        0   80   84    ...       \n",
       "2                            0                        0   61    0    ...       \n",
       "\n",
       "  bench vertical broad  shuttle  cone  arm  hand  dcp  DRAFT_POSITION  \\\n",
       "0     0      0.0     0      0.0   0.0    0   0.0    0               0   \n",
       "1     0      0.0     0      0.0   0.0    0   0.0    0               0   \n",
       "2     0      0.0     0      0.0   0.0    0   0.0    0               0   \n",
       "\n",
       "   AGE_YEARS  \n",
       "0    56.2274  \n",
       "1    56.2274  \n",
       "2    56.2274  \n",
       "\n",
       "[3 rows x 27 columns]"
      ]
     },
     "execution_count": 2,
     "metadata": {},
     "output_type": "execute_result"
    }
   ],
   "source": [
    "data.head(3)"
   ]
  },
  {
   "cell_type": "code",
   "execution_count": 3,
   "metadata": {},
   "outputs": [
    {
     "data": {
      "text/plain": [
       "173556"
      ]
     },
     "execution_count": 3,
     "metadata": {},
     "output_type": "execute_result"
    }
   ],
   "source": [
    "data.size"
   ]
  },
  {
   "cell_type": "markdown",
   "metadata": {},
   "source": [
    "## Analyse, Clean and Transfrom data"
   ]
  },
  {
   "cell_type": "code",
   "execution_count": 4,
   "metadata": {},
   "outputs": [
    {
     "data": {
      "text/plain": [
       "FKICKER                         0\n",
       "GID                             0\n",
       "FGXP                            0\n",
       "SUCCESS_PRCNTG                  0\n",
       "BLOCKED_PRCNTG                  0\n",
       "PLAY_COUNT                      0\n",
       "HIGH_PRESSURE_SUCCESS_PRCNTG    0\n",
       "LONG_DIST_SUCCESS_PRCNTG        0\n",
       "TEMP                            0\n",
       "HUMD                            0\n",
       "WSPD                            0\n",
       "COND                            0\n",
       "SURF                            0\n",
       "YEARS_PLAYED                    0\n",
       "height                          0\n",
       "weight                          0\n",
       "forty                           0\n",
       "bench                           0\n",
       "vertical                        0\n",
       "broad                           0\n",
       "shuttle                         0\n",
       "cone                            0\n",
       "arm                             0\n",
       "hand                            0\n",
       "dcp                             0\n",
       "DRAFT_POSITION                  0\n",
       "AGE_YEARS                       0\n",
       "dtype: int64"
      ]
     },
     "execution_count": 4,
     "metadata": {},
     "output_type": "execute_result"
    }
   ],
   "source": [
    "# Check number of missing values\n",
    "data.isnull().sum()"
   ]
  },
  {
   "cell_type": "markdown",
   "metadata": {},
   "source": [
    "### Analyse Weather conditions"
   ]
  },
  {
   "cell_type": "code",
   "execution_count": 5,
   "metadata": {},
   "outputs": [
    {
     "data": {
      "text/plain": [
       "<matplotlib.axes._subplots.AxesSubplot at 0x2ab65dc04e0>"
      ]
     },
     "execution_count": 5,
     "metadata": {},
     "output_type": "execute_result"
    },
    {
     "data": {
      "image/png": "[encoded data removed]",
      "text/plain": [
       "<Figure size 720x288 with 1 Axes>"
      ]
     },
     "metadata": {},
     "output_type": "display_data"
    }
   ],
   "source": [
    "plt.figure(figsize=(10,4))\n",
    "data[\"COND\"].value_counts().plot(kind='bar')"
   ]
  },
  {
   "cell_type": "markdown",
   "metadata": {},
   "source": [
    "too many weather conditions, map these conditions to fewer categories"
   ]
  },
  {
   "cell_type": "code",
   "execution_count": 6,
   "metadata": {},
   "outputs": [
    {
     "data": {
      "text/plain": [
       "<matplotlib.axes._subplots.AxesSubplot at 0x2ab69b48ba8>"
      ]
     },
     "execution_count": 6,
     "metadata": {},
     "output_type": "execute_result"
    },
    {
     "data": {
      "image/png": "[encoded data removed]",
      "text/plain": [
       "<Figure size 432x144 with 1 Axes>"
      ]
     },
     "metadata": {},
     "output_type": "display_data"
    }
   ],
   "source": [
    "WeatherConditionsDifficultyLevel = {\n",
    "    'unknown_weather': '',\n",
    "    'normal_weather':['Closed Roof','Covered Roof','Dome','Clear','Cloudy',\n",
    "              'Partly Cloudy','Mostly Cloudy','Fair','Partly CLoudy',\n",
    "              'Sunny','Mostly Sunny','Partly Sunny'],\n",
    "    'hard_weather':['Chance Rain','Light Rain','Flurries','Light Snow','Light Showers'],\n",
    "    'extreme_weather':['Rain','Showers','Snow','Foggy','Hazy','Thunderstorms','Cold',\n",
    "               'Windy','Overcast']\n",
    "}\n",
    "\n",
    "def get_weather_category(dict, text):\n",
    "    for k,v in dict.items():        \n",
    "        for val in dict[k]:\n",
    "            if(val == text):\n",
    "                return k\n",
    "    return text\n",
    "dfc = data.apply(lambda row: get_weather_category(WeatherConditionsDifficultyLevel, row['COND']), axis=1)\n",
    "data[\"WeatherCondition\"] = dfc\n",
    "plt.figure(figsize=(6,2))\n",
    "data[\"WeatherCondition\"].value_counts().plot(kind='barh')"
   ]
  },
  {
   "cell_type": "code",
   "execution_count": 7,
   "metadata": {},
   "outputs": [
    {
     "data": {
      "text/plain": [
       "normal_weather     5721\n",
       "hard_weather        308\n",
       "extreme_weather     262\n",
       "                    137\n",
       "Name: WeatherCondition, dtype: int64"
      ]
     },
     "execution_count": 7,
     "metadata": {},
     "output_type": "execute_result"
    }
   ],
   "source": [
    "data[\"WeatherCondition\"].value_counts()"
   ]
  },
  {
   "cell_type": "markdown",
   "metadata": {},
   "source": [
    "There are few unknown or blank weather category records, we can either make a copy of whole data and remove these empty category records from that copy and analyse this data copy or we can put normal instead of blank category, if avergae success rate of normal category and blank category is same. \n",
    "In this excercise we just want to see player performace in different categories, so we can also keep this unknown category, we may need to fill these missing values when we will predict performace."
   ]
  },
  {
   "cell_type": "markdown",
   "metadata": {},
   "source": [
    "Now let's create dummy column for each weather category and then use these column to get success percentage in each category."
   ]
  },
  {
   "cell_type": "code",
   "execution_count": 8,
   "metadata": {},
   "outputs": [],
   "source": [
    "ddf=pd.concat([data,pd.get_dummies(data[\"WeatherCondition\"])], axis=1)"
   ]
  },
  {
   "cell_type": "code",
   "execution_count": 9,
   "metadata": {},
   "outputs": [
    {
     "data": {
      "text/html": [
       "<div>\n",
       "<style scoped>\n",
       "    .dataframe tbody tr th:only-of-type {\n",
       "        vertical-align: middle;\n",
       "    }\n",
       "\n",
       "    .dataframe tbody tr th {\n",
       "        vertical-align: top;\n",
       "    }\n",
       "\n",
       "    .dataframe thead th {\n",
       "        text-align: right;\n",
       "    }\n",
       "</style>\n",
       "<table border=\"1\" class=\"dataframe\">\n",
       "  <thead>\n",
       "    <tr style=\"text-align: right;\">\n",
       "      <th></th>\n",
       "      <th>FKICKER</th>\n",
       "      <th>GID</th>\n",
       "      <th>FGXP</th>\n",
       "      <th>SUCCESS_PRCNTG</th>\n",
       "      <th>BLOCKED_PRCNTG</th>\n",
       "      <th>PLAY_COUNT</th>\n",
       "      <th>HIGH_PRESSURE_SUCCESS_PRCNTG</th>\n",
       "      <th>LONG_DIST_SUCCESS_PRCNTG</th>\n",
       "      <th>TEMP</th>\n",
       "      <th>HUMD</th>\n",
       "      <th>...</th>\n",
       "      <th>arm</th>\n",
       "      <th>hand</th>\n",
       "      <th>dcp</th>\n",
       "      <th>DRAFT_POSITION</th>\n",
       "      <th>AGE_YEARS</th>\n",
       "      <th>WeatherCondition</th>\n",
       "      <th></th>\n",
       "      <th>extreme_weather</th>\n",
       "      <th>hard_weather</th>\n",
       "      <th>normal_weather</th>\n",
       "    </tr>\n",
       "  </thead>\n",
       "  <tbody>\n",
       "    <tr>\n",
       "      <th>0</th>\n",
       "      <td>AD-0800</td>\n",
       "      <td>14</td>\n",
       "      <td>FG</td>\n",
       "      <td>100.0000</td>\n",
       "      <td>0.0000</td>\n",
       "      <td>1</td>\n",
       "      <td>0</td>\n",
       "      <td>0</td>\n",
       "      <td>73</td>\n",
       "      <td>78</td>\n",
       "      <td>...</td>\n",
       "      <td>0</td>\n",
       "      <td>0.0</td>\n",
       "      <td>0</td>\n",
       "      <td>0</td>\n",
       "      <td>56.2274</td>\n",
       "      <td>normal_weather</td>\n",
       "      <td>0</td>\n",
       "      <td>0</td>\n",
       "      <td>0</td>\n",
       "      <td>1</td>\n",
       "    </tr>\n",
       "    <tr>\n",
       "      <th>1</th>\n",
       "      <td>AD-0800</td>\n",
       "      <td>28</td>\n",
       "      <td>FG</td>\n",
       "      <td>100.0000</td>\n",
       "      <td>0.0000</td>\n",
       "      <td>1</td>\n",
       "      <td>0</td>\n",
       "      <td>0</td>\n",
       "      <td>80</td>\n",
       "      <td>84</td>\n",
       "      <td>...</td>\n",
       "      <td>0</td>\n",
       "      <td>0.0</td>\n",
       "      <td>0</td>\n",
       "      <td>0</td>\n",
       "      <td>56.2274</td>\n",
       "      <td>normal_weather</td>\n",
       "      <td>0</td>\n",
       "      <td>0</td>\n",
       "      <td>0</td>\n",
       "      <td>1</td>\n",
       "    </tr>\n",
       "    <tr>\n",
       "      <th>2</th>\n",
       "      <td>AD-0800</td>\n",
       "      <td>54</td>\n",
       "      <td>FG</td>\n",
       "      <td>100.0000</td>\n",
       "      <td>0.0000</td>\n",
       "      <td>2</td>\n",
       "      <td>0</td>\n",
       "      <td>0</td>\n",
       "      <td>61</td>\n",
       "      <td>0</td>\n",
       "      <td>...</td>\n",
       "      <td>0</td>\n",
       "      <td>0.0</td>\n",
       "      <td>0</td>\n",
       "      <td>0</td>\n",
       "      <td>56.2274</td>\n",
       "      <td>hard_weather</td>\n",
       "      <td>0</td>\n",
       "      <td>0</td>\n",
       "      <td>1</td>\n",
       "      <td>0</td>\n",
       "    </tr>\n",
       "  </tbody>\n",
       "</table>\n",
       "<p>3 rows × 32 columns</p>\n",
       "</div>"
      ],
      "text/plain": [
       "   FKICKER GID FGXP SUCCESS_PRCNTG BLOCKED_PRCNTG  PLAY_COUNT  \\\n",
       "0  AD-0800  14   FG       100.0000         0.0000           1   \n",
       "1  AD-0800  28   FG       100.0000         0.0000           1   \n",
       "2  AD-0800  54   FG       100.0000         0.0000           2   \n",
       "\n",
       "  HIGH_PRESSURE_SUCCESS_PRCNTG LONG_DIST_SUCCESS_PRCNTG TEMP HUMD  \\\n",
       "0                            0                        0   73   78   \n",
       "1                            0                        0   80   84   \n",
       "2                            0                        0   61    0   \n",
       "\n",
       "        ...       arm hand dcp  DRAFT_POSITION  AGE_YEARS  WeatherCondition  \\\n",
       "0       ...         0  0.0   0               0    56.2274    normal_weather   \n",
       "1       ...         0  0.0   0               0    56.2274    normal_weather   \n",
       "2       ...         0  0.0   0               0    56.2274      hard_weather   \n",
       "\n",
       "      extreme_weather  hard_weather  normal_weather  \n",
       "0  0                0             0               1  \n",
       "1  0                0             0               1  \n",
       "2  0                0             1               0  \n",
       "\n",
       "[3 rows x 32 columns]"
      ]
     },
     "execution_count": 9,
     "metadata": {},
     "output_type": "execute_result"
    }
   ],
   "source": [
    "ddf.head(3)"
   ]
  },
  {
   "cell_type": "markdown",
   "metadata": {},
   "source": [
    "## Calculate averages and consistency ratings\n",
    "For averages we can consider/use player mean success percentage in each game.<br/>\n",
    "To measure player consistency, we borrow a concept from probability theory called the coefficient of variation (CV). This measures a player’s standardized performance dispersion. Since this is a rather large and normal sample, this model uses the unbiased form of the coefficient of variation equation:\n",
    "\n",
    "(1+1/4n)(Std_dev/mean)\n",
    "\n",
    "The result of this means that lower CV values result in less variation in performance, indicating a higher degree of consistency. As the CV increases, players become less and less consistent. This means we now have an empirical range with which we can determine the ability of players to perform consistently at a given level of performance."
   ]
  },
  {
   "cell_type": "code",
   "execution_count": 10,
   "metadata": {},
   "outputs": [
    {
     "data": {
      "text/plain": [
       "Index(['FKICKER', 'GID', 'FGXP', 'SUCCESS_PRCNTG', 'BLOCKED_PRCNTG',\n",
       "       'PLAY_COUNT', 'HIGH_PRESSURE_SUCCESS_PRCNTG',\n",
       "       'LONG_DIST_SUCCESS_PRCNTG', 'TEMP', 'HUMD', 'WSPD', 'COND', 'SURF',\n",
       "       'YEARS_PLAYED', 'height', 'weight', 'forty', 'bench', 'vertical',\n",
       "       'broad', 'shuttle', 'cone', 'arm', 'hand', 'dcp', 'DRAFT_POSITION',\n",
       "       'AGE_YEARS', 'WeatherCondition'],\n",
       "      dtype='object')"
      ]
     },
     "execution_count": 10,
     "metadata": {},
     "output_type": "execute_result"
    }
   ],
   "source": [
    "data.columns"
   ]
  },
  {
   "cell_type": "code",
   "execution_count": 11,
   "metadata": {
    "scrolled": true
   },
   "outputs": [
    {
     "name": "stderr",
     "output_type": "stream",
     "text": [
      "c:\\users\\deepak\\anaconda3\\envs\\gtulab\\lib\\site-packages\\pandas\\core\\frame.py:2540: SettingWithCopyWarning: \n",
      "A value is trying to be set on a copy of a slice from a DataFrame.\n",
      "Try using .loc[row_indexer,col_indexer] = value instead\n",
      "\n",
      "See the caveats in the documentation: http://pandas.pydata.org/pandas-docs/stable/indexing.html#indexing-view-versus-copy\n",
      "  self[k1] = value[k2]\n"
     ]
    },
    {
     "data": {
      "text/html": [
       "<div>\n",
       "<style scoped>\n",
       "    .dataframe tbody tr th:only-of-type {\n",
       "        vertical-align: middle;\n",
       "    }\n",
       "\n",
       "    .dataframe tbody tr th {\n",
       "        vertical-align: top;\n",
       "    }\n",
       "\n",
       "    .dataframe thead th {\n",
       "        text-align: right;\n",
       "    }\n",
       "</style>\n",
       "<table border=\"1\" class=\"dataframe\">\n",
       "  <thead>\n",
       "    <tr style=\"text-align: right;\">\n",
       "      <th></th>\n",
       "      <th>FKICKER</th>\n",
       "      <th>PLAY_COUNT</th>\n",
       "      <th>SUCCESS_PRCNTG</th>\n",
       "      <th>BLOCKED_PRCNTG</th>\n",
       "      <th>HIGH_PRESSURE_SUCCESS_PRCNTG</th>\n",
       "      <th>LONG_DIST_SUCCESS_PRCNTG</th>\n",
       "    </tr>\n",
       "  </thead>\n",
       "  <tbody>\n",
       "    <tr>\n",
       "      <th>0</th>\n",
       "      <td>AD-0800</td>\n",
       "      <td>1</td>\n",
       "      <td>100.0</td>\n",
       "      <td>0.0</td>\n",
       "      <td>0.0</td>\n",
       "      <td>0.0</td>\n",
       "    </tr>\n",
       "    <tr>\n",
       "      <th>1</th>\n",
       "      <td>AD-0800</td>\n",
       "      <td>1</td>\n",
       "      <td>100.0</td>\n",
       "      <td>0.0</td>\n",
       "      <td>0.0</td>\n",
       "      <td>0.0</td>\n",
       "    </tr>\n",
       "    <tr>\n",
       "      <th>2</th>\n",
       "      <td>AD-0800</td>\n",
       "      <td>2</td>\n",
       "      <td>100.0</td>\n",
       "      <td>0.0</td>\n",
       "      <td>0.0</td>\n",
       "      <td>0.0</td>\n",
       "    </tr>\n",
       "  </tbody>\n",
       "</table>\n",
       "</div>"
      ],
      "text/plain": [
       "   FKICKER  PLAY_COUNT  SUCCESS_PRCNTG  BLOCKED_PRCNTG  \\\n",
       "0  AD-0800           1           100.0             0.0   \n",
       "1  AD-0800           1           100.0             0.0   \n",
       "2  AD-0800           2           100.0             0.0   \n",
       "\n",
       "   HIGH_PRESSURE_SUCCESS_PRCNTG  LONG_DIST_SUCCESS_PRCNTG  \n",
       "0                           0.0                       0.0  \n",
       "1                           0.0                       0.0  \n",
       "2                           0.0                       0.0  "
      ]
     },
     "execution_count": 11,
     "metadata": {},
     "output_type": "execute_result"
    }
   ],
   "source": [
    "cdf= data[['FKICKER','PLAY_COUNT','SUCCESS_PRCNTG','BLOCKED_PRCNTG','HIGH_PRESSURE_SUCCESS_PRCNTG','LONG_DIST_SUCCESS_PRCNTG']]\n",
    "cdf[['PLAY_COUNT','SUCCESS_PRCNTG','BLOCKED_PRCNTG','HIGH_PRESSURE_SUCCESS_PRCNTG','LONG_DIST_SUCCESS_PRCNTG']] = cdf[['PLAY_COUNT','SUCCESS_PRCNTG','BLOCKED_PRCNTG','HIGH_PRESSURE_SUCCESS_PRCNTG','LONG_DIST_SUCCESS_PRCNTG']].apply(pd.to_numeric)\n",
    "cdf.head(3)"
   ]
  },
  {
   "cell_type": "code",
   "execution_count": 18,
   "metadata": {},
   "outputs": [
    {
     "data": {
      "application/vnd.jupyter.widget-view+json": {
       "model_id": "f93278226dd540ec8d7f7ae91915225e",
       "version_major": 2,
       "version_minor": 0
      },
      "text/html": [
       "<p>Failed to display Jupyter Widget of type <code>interactive</code>.</p>\n",
       "<p>\n",
       "  If you're reading this message in the Jupyter Notebook or JupyterLab Notebook, it may mean\n",
       "  that the widgets JavaScript is still loading. If this message persists, it\n",
       "  likely means that the widgets JavaScript library is either not installed or\n",
       "  not enabled. See the <a href=\"https://ipywidgets.readthedocs.io/en/stable/user_install.html\">Jupyter\n",
       "  Widgets Documentation</a> for setup instructions.\n",
       "</p>\n",
       "<p>\n",
       "  If you're reading this message in another frontend (for example, a static\n",
       "  rendering on GitHub or <a href=\"https://nbviewer.jupyter.org/\">NBViewer</a>),\n",
       "  it may mean that your frontend doesn't currently support widgets.\n",
       "</p>\n"
      ],
      "text/plain": [
       "interactive(children=(IntSlider(value=0, description='kicks'), Output()), _dom_classes=('widget-interact',))"
      ]
     },
     "metadata": {},
     "output_type": "display_data"
    }
   ],
   "source": [
    "from IPython.html.widgets import *\n",
    "import plotly as py\n",
    "import plotly.graph_objs as go\n",
    "    \n",
    "def plot_pyplots(desc):\n",
    "    py.offline.init_notebook_mode(connected=True)\n",
    "\n",
    "    trace0 = go.Scatter(\n",
    "        x = avg,\n",
    "        y = cv,\n",
    "        name = 'Players',\n",
    "        mode = 'markers',\n",
    "        marker = dict(\n",
    "            size = 5,\n",
    "            color = 'rgba(152, 100, 0, .8)',\n",
    "            line = dict(\n",
    "                width = .25,\n",
    "                color = 'rgb(0, 0, 0)'\n",
    "            )\n",
    "        )\n",
    "    )\n",
    "\n",
    "    layout = dict(title = 'Consistency Vs Average' + desc,\n",
    "              yaxis = dict(zeroline = False),\n",
    "              xaxis = dict(zeroline = False)\n",
    "             )\n",
    "    \n",
    "    fig= go.Figure(data=[trace0], layout=layout)\n",
    "    py.offline.iplot(fig)\n",
    "\n",
    "def plotPlayers(desc):\n",
    "    fig=plt.figure(figsize=(15,6))\n",
    "    fig.suptitle('Consistency Vs Average' + desc, fontsize=20)\n",
    "    plt.xlabel('Average')\n",
    "    plt.ylabel('Consistency')\n",
    "    #plt.xticks(np.arange(0, 101, 5.0))\n",
    "    #plt.yticks(np.arange(0, 8, .5))\n",
    "    # plot()\n",
    "    plt.plot(avg, cv, 'ro')\n",
    "    # HORIZONTAL\n",
    "    plt.axhline(y=cv.max()/2)#, xmin=avg.min(), xmax=avg.max(), linewidth=2, color = 'k')\n",
    "    # VERTICAL\n",
    "    plt.axvline(x=avg.max()/2)#, ymin=cv.min(), ymax = cv.max(), linewidth=2, color='k')\n",
    "    plt.show()\n",
    "    \n",
    "#def filterData(ch=0, count=0,cond=0):\n",
    "def filterData(kicks=0):\n",
    "    global result,cv,avg\n",
    "\n",
    "    #if(ch=='Any'):\n",
    "    result = cdf.groupby(['FKICKER'], as_index=False).agg(\n",
    "        {'PLAY_COUNT':['sum'],'SUCCESS_PRCNTG':['mean','std']})\n",
    "    result.columns = ['FKICKER','PLAY_COUNT','SUCCESS_PRCNTG_MEAN','SUCCESS_PRCNTG_STD']\n",
    "    result.reindex(columns=sorted(result.columns))\n",
    "    result['SUCCESS_PRCNTG_CV'] = result['SUCCESS_PRCNTG_STD']/result['SUCCESS_PRCNTG_MEAN']\n",
    "    result = result[result['PLAY_COUNT']>kicks]\n",
    "    cv = 1/result['SUCCESS_PRCNTG_CV']\n",
    "    avg = result['SUCCESS_PRCNTG_MEAN']\n",
    "    plot_pyplots('')    \n",
    "        #xy_chart.add('Player', [(row.SUCCESS_PRCNTG_MEAN,row.SUCCESS_PRCNTG_CV) for index,row in result.iterrows()])       \n",
    "\n",
    "    #elif(ch=='Long Distance'):\n",
    "    result = cdf.groupby(['FKICKER'], as_index=False).agg(\n",
    "        {'PLAY_COUNT':['sum'],'LONG_DIST_SUCCESS_PRCNTG':['mean','std']})\n",
    "    result.columns = ['FKICKER','PLAY_COUNT','LONG_DIST_SUCCESS_PRCNTG_MEAN','LONG_DIST_SUCCESS_PRCNTG_STD']\n",
    "    result.reindex(columns=sorted(result.columns))\n",
    "    result['LONG_DIST_SUCCESS_PRCNTG_CV'] = result['LONG_DIST_SUCCESS_PRCNTG_STD']/result['LONG_DIST_SUCCESS_PRCNTG_MEAN']\n",
    "    result = result[result['PLAY_COUNT']>kicks]\n",
    "    cv = 1/result['LONG_DIST_SUCCESS_PRCNTG_CV']\n",
    "    avg = result['LONG_DIST_SUCCESS_PRCNTG_MEAN']\n",
    "    plot_pyplots('- > 50 Yards')\n",
    "    #elif(ch=='High Pressure'):\n",
    "    result = cdf.groupby(['FKICKER'], as_index=False).agg(\n",
    "        {'PLAY_COUNT':['sum'],'HIGH_PRESSURE_SUCCESS_PRCNTG':['mean','std']})\n",
    "    result.columns = ['FKICKER','PLAY_COUNT','HIGH_PRESSURE_SUCCESS_PRCNTG_MEAN','HIGH_PRESSURE_SUCCESS_PRCNTG_STD']\n",
    "    result.reindex(columns=sorted(result.columns))\n",
    "    result['HIGH_PRESSURE_SUCCESS_PRCNTG_CV'] = result['HIGH_PRESSURE_SUCCESS_PRCNTG_STD']/result['HIGH_PRESSURE_SUCCESS_PRCNTG_MEAN']\n",
    "    result = result[result['PLAY_COUNT']>kicks]\n",
    "    cv = 1/result['HIGH_PRESSURE_SUCCESS_PRCNTG_CV']\n",
    "    avg = result['HIGH_PRESSURE_SUCCESS_PRCNTG_MEAN']    \n",
    "    plot_pyplots('- High Pressure') \n",
    "#c=interactive(filterData,ch=['Any','High Pressure', 'Long Distance'],\n",
    "#              count=(0,100,1),cond=['Any', 'Normal', 'Hard', 'Extreme'])\n",
    "c=interactive(filterData,kicks=(0,100,1))\n",
    "display(c)"
   ]
  }
 ],
 "metadata": {
  "kernelspec": {
   "display_name": "Python 3",
   "language": "python",
   "name": "python3"
  },
  "language_info": {
   "codemirror_mode": {
    "name": "ipython",
    "version": 3
   },
   "file_extension": ".py",
   "mimetype": "text/x-python",
   "name": "python",
   "nbconvert_exporter": "python",
   "pygments_lexer": "ipython3",
   "version": "3.6.4"
  }
 },
 "nbformat": 4,
 "nbformat_minor": 2
}
