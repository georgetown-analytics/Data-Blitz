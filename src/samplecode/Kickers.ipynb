{
 "cells": [
  {
   "cell_type": "markdown",
   "metadata": {},
   "source": [
    "# Get Kicker data from aws mySQL DB"
   ]
  },
  {
   "cell_type": "code",
   "execution_count": 1,
   "metadata": {},
   "outputs": [],
   "source": [
    "import mysql.connector\n",
    "import pandas as pd\n",
    "from pandas import DataFrame\n",
    "from mysql.connector import errorcode\n",
    "import matplotlib.pyplot as plt\n",
    "% matplotlib inline\n",
    "\n",
    "config = {\n",
    "'user': 'db_gtown_2018',\n",
    "'password': 'Gtown2018',\n",
    "'port': '3306',\n",
    "'host': 'nflnumbers.czuayagz62va.us-east-1.rds.amazonaws.com',\n",
    "'database': 'db_nfl',\n",
    "'raise_on_warnings': True,\n",
    "}\n",
    " \n",
    "try:\n",
    "    cnx = mysql.connector.connect(**config)\n",
    "    cursor = cnx.cursor()\n",
    "    #Let's read all the rows in the table\n",
    "    readContactPerson = \"\"\"SELECT FGXP, PBP.GID, PBP.FKICKER, TIMO AS TIMO_REMAIN,\n",
    "    CASE WHEN GOOD = 'Y' THEN 1 ELSE 0 END AS SUCCESS,\n",
    "    CASE WHEN UPPER(DETAIL) LIKE '%BLOCKED%' THEN 1 ELSE 0 END AS BLOCKED,\n",
    "    DPOS AS DRAFT_POSITION,\n",
    "    DIST - (100 - CASE WHEN YFOG = '' THEN '98' ELSE YFOG END) AS YDS_BEHIND_LOS,\n",
    "    PTSO - PTSD AS POINT_DIFFERENTIAL,\n",
    "    CASE WHEN QTR IN ('2' , '4') AND MIN <= 2 AND (PTSO - PTSD) >= - 3 THEN 1 ELSE 0 END AS HIGH_PRESSURE,\n",
    "    TEMP, HUMD, WSPD, WDIR, COND, SURF,\n",
    "    PLAYER.POS1,PLAYER.POS2,PLAYER.height,PLAYER.weight,\n",
    "    PLAYER.dob,\n",
    "    PLAYER.forty,PLAYER.bench,PLAYER.vertical,PLAYER.broad,PLAYER.shuttle,PLAYER.cone,\n",
    "    PLAYER.arm,PLAYER.hand,PLAYER.start,PLAYER.dcp\n",
    "    FROM PBP\n",
    "    LEFT OUTER JOIN PLAYER PLAYER ON PBP.FKICKER = PLAYER.PLAYER\n",
    "    LEFT OUTER JOIN GAME ON PBP.GID = GAME.GID\n",
    "    WHERE TYPE = 'FGXP'\n",
    "    ORDER BY PBP.FKICKER , PBP.GID;\"\"\"\n",
    "    cursor.execute(readContactPerson)\n",
    "    #specify the attributes that you want to display\n",
    "    df = DataFrame(cursor.fetchall())    \n",
    "    \n",
    "    cnx.commit()\n",
    "except mysql.connector.Error as err:\n",
    "    if err.errno == errorcode.ER_ACCESS_DENIED_ERROR:\n",
    "        print(\"Something is wrong with your user name or password\")\n",
    "    elif err.errno == errorcode.ER_BAD_DB_ERROR:\n",
    "        print(\"Database does not exist\")\n",
    "    else:\n",
    "        print(err)\n",
    "else:\n",
    "    cursor.close()\n",
    "    cnx.close()"
   ]
  },
  {
   "cell_type": "code",
   "execution_count": 2,
   "metadata": {},
   "outputs": [],
   "source": [
    "df.columns = ['FGXP','GID','FKICKER','TIMO_REMAIN','SUCCESS','BLOCKED','DRAFT_POSITION','YDS_BEHIND_LOS','POINT_DIFFERENTIAL','HIGH_PRESSURE','TEMP','HUMD','WSPD','WDIR','COND','SURF',\n",
    "             'POS1','POS2','height','weight','dob',\n",
    "             'forty','bench','vertical','broad','shuttle','cone',\n",
    "             'arm','hand','start','dcp']"
   ]
  },
  {
   "cell_type": "code",
   "execution_count": 3,
   "metadata": {},
   "outputs": [
    {
     "data": {
      "text/html": [
       "<div>\n",
       "<style scoped>\n",
       "    .dataframe tbody tr th:only-of-type {\n",
       "        vertical-align: middle;\n",
       "    }\n",
       "\n",
       "    .dataframe tbody tr th {\n",
       "        vertical-align: top;\n",
       "    }\n",
       "\n",
       "    .dataframe thead th {\n",
       "        text-align: right;\n",
       "    }\n",
       "</style>\n",
       "<table border=\"1\" class=\"dataframe\">\n",
       "  <thead>\n",
       "    <tr style=\"text-align: right;\">\n",
       "      <th></th>\n",
       "      <th>FGXP</th>\n",
       "      <th>GID</th>\n",
       "      <th>FKICKER</th>\n",
       "      <th>TIMO_REMAIN</th>\n",
       "      <th>SUCCESS</th>\n",
       "      <th>BLOCKED</th>\n",
       "      <th>DRAFT_POSITION</th>\n",
       "      <th>YDS_BEHIND_LOS</th>\n",
       "      <th>POINT_DIFFERENTIAL</th>\n",
       "      <th>HIGH_PRESSURE</th>\n",
       "      <th>...</th>\n",
       "      <th>forty</th>\n",
       "      <th>bench</th>\n",
       "      <th>vertical</th>\n",
       "      <th>broad</th>\n",
       "      <th>shuttle</th>\n",
       "      <th>cone</th>\n",
       "      <th>arm</th>\n",
       "      <th>hand</th>\n",
       "      <th>start</th>\n",
       "      <th>dcp</th>\n",
       "    </tr>\n",
       "  </thead>\n",
       "  <tbody>\n",
       "    <tr>\n",
       "      <th>0</th>\n",
       "      <td>FG</td>\n",
       "      <td>14</td>\n",
       "      <td>AD-0800</td>\n",
       "      <td>3</td>\n",
       "      <td>1</td>\n",
       "      <td>0</td>\n",
       "      <td>0</td>\n",
       "      <td>18.0</td>\n",
       "      <td>-7</td>\n",
       "      <td>0</td>\n",
       "      <td>...</td>\n",
       "      <td>0.0</td>\n",
       "      <td>0</td>\n",
       "      <td>0.0</td>\n",
       "      <td>0</td>\n",
       "      <td>0.0</td>\n",
       "      <td>0.0</td>\n",
       "      <td>0</td>\n",
       "      <td>0.0</td>\n",
       "      <td>1984</td>\n",
       "      <td>0</td>\n",
       "    </tr>\n",
       "    <tr>\n",
       "      <th>1</th>\n",
       "      <td>FG</td>\n",
       "      <td>14</td>\n",
       "      <td>AD-0800</td>\n",
       "      <td>0</td>\n",
       "      <td>1</td>\n",
       "      <td>0</td>\n",
       "      <td>0</td>\n",
       "      <td>18.0</td>\n",
       "      <td>-4</td>\n",
       "      <td>0</td>\n",
       "      <td>...</td>\n",
       "      <td>0.0</td>\n",
       "      <td>0</td>\n",
       "      <td>0.0</td>\n",
       "      <td>0</td>\n",
       "      <td>0.0</td>\n",
       "      <td>0.0</td>\n",
       "      <td>0</td>\n",
       "      <td>0.0</td>\n",
       "      <td>1984</td>\n",
       "      <td>0</td>\n",
       "    </tr>\n",
       "    <tr>\n",
       "      <th>2</th>\n",
       "      <td>XP</td>\n",
       "      <td>14</td>\n",
       "      <td>AD-0800</td>\n",
       "      <td>3</td>\n",
       "      <td>1</td>\n",
       "      <td>0</td>\n",
       "      <td>0</td>\n",
       "      <td>18.0</td>\n",
       "      <td>0</td>\n",
       "      <td>0</td>\n",
       "      <td>...</td>\n",
       "      <td>0.0</td>\n",
       "      <td>0</td>\n",
       "      <td>0.0</td>\n",
       "      <td>0</td>\n",
       "      <td>0.0</td>\n",
       "      <td>0.0</td>\n",
       "      <td>0</td>\n",
       "      <td>0.0</td>\n",
       "      <td>1984</td>\n",
       "      <td>0</td>\n",
       "    </tr>\n",
       "  </tbody>\n",
       "</table>\n",
       "<p>3 rows × 31 columns</p>\n",
       "</div>"
      ],
      "text/plain": [
       "  FGXP GID  FKICKER  TIMO_REMAIN  SUCCESS  BLOCKED  DRAFT_POSITION  \\\n",
       "0   FG  14  AD-0800            3        1        0               0   \n",
       "1   FG  14  AD-0800            0        1        0               0   \n",
       "2   XP  14  AD-0800            3        1        0               0   \n",
       "\n",
       "   YDS_BEHIND_LOS  POINT_DIFFERENTIAL  HIGH_PRESSURE ...  forty bench  \\\n",
       "0            18.0                  -7              0 ...    0.0     0   \n",
       "1            18.0                  -4              0 ...    0.0     0   \n",
       "2            18.0                   0              0 ...    0.0     0   \n",
       "\n",
       "  vertical broad shuttle cone arm hand  start  dcp  \n",
       "0      0.0     0     0.0  0.0   0  0.0   1984    0  \n",
       "1      0.0     0     0.0  0.0   0  0.0   1984    0  \n",
       "2      0.0     0     0.0  0.0   0  0.0   1984    0  \n",
       "\n",
       "[3 rows x 31 columns]"
      ]
     },
     "execution_count": 3,
     "metadata": {},
     "output_type": "execute_result"
    }
   ],
   "source": [
    "df.head(3)"
   ]
  },
  {
   "cell_type": "markdown",
   "metadata": {},
   "source": [
    "## Number of XPs vs FGs "
   ]
  },
  {
   "cell_type": "code",
   "execution_count": 4,
   "metadata": {},
   "outputs": [
    {
     "data": {
      "text/plain": [
       "XP    22009\n",
       "FG    18165\n",
       "Name: FGXP, dtype: int64"
      ]
     },
     "execution_count": 4,
     "metadata": {},
     "output_type": "execute_result"
    }
   ],
   "source": [
    "df['FGXP'].value_counts()"
   ]
  },
  {
   "cell_type": "markdown",
   "metadata": {},
   "source": [
    "Number of XPs are slightly more than FGs "
   ]
  },
  {
   "cell_type": "markdown",
   "metadata": {},
   "source": [
    "## Success/Fail count by FG or XP"
   ]
  },
  {
   "cell_type": "code",
   "execution_count": 5,
   "metadata": {
    "scrolled": true
   },
   "outputs": [
    {
     "data": {
      "text/plain": [
       "FGXP  SUCCESS\n",
       "FG    0           3241\n",
       "      1          14924\n",
       "XP    0            438\n",
       "      1          21571\n",
       "Name: FGXP, dtype: int64"
      ]
     },
     "execution_count": 5,
     "metadata": {},
     "output_type": "execute_result"
    }
   ],
   "source": [
    "df.groupby(['FGXP','SUCCESS'])['FGXP'].count()"
   ]
  },
  {
   "cell_type": "markdown",
   "metadata": {},
   "source": [
    "Success ratio of XP is more than FGs"
   ]
  },
  {
   "cell_type": "markdown",
   "metadata": {},
   "source": [
    "## Weather conditions"
   ]
  },
  {
   "cell_type": "code",
   "execution_count": 23,
   "metadata": {},
   "outputs": [
    {
     "data": {
      "text/plain": [
       "<matplotlib.axes._subplots.AxesSubplot at 0x29b8ba3f3c8>"
      ]
     },
     "execution_count": 23,
     "metadata": {},
     "output_type": "execute_result"
    },
    {
     "data": {
      "image/png": "[encoded data removed]",
      "text/plain": [
       "<Figure size 432x288 with 1 Axes>"
      ]
     },
     "metadata": {},
     "output_type": "display_data"
    }
   ],
   "source": [
    "% matplotlib inline\n",
    "df[\"COND\"].value_counts().plot(kind='bar')"
   ]
  },
  {
   "cell_type": "code",
   "execution_count": 7,
   "metadata": {},
   "outputs": [],
   "source": [
    "WeatherConditionsDifficultyLevel = {\n",
    "    'unknown': '',\n",
    "    'normal':['Closed Roof','Covered Roof','Dome','Clear','Cloudy',\n",
    "              'Partly Cloudy','Mostly Cloudy','Fair','Partly CLoudy',\n",
    "              'Sunny','Mostly Sunny','Partly Sunny'],\n",
    "    'hard':['Chance Rain','Light Rain','Flurries','Light Snow','Light Showers'],\n",
    "    'extreme':['Rain','Showers','Snow','Foggy','Hazy','Thunderstorms','Cold',\n",
    "               'Windy','Overcast']\n",
    "}"
   ]
  },
  {
   "cell_type": "code",
   "execution_count": 8,
   "metadata": {},
   "outputs": [],
   "source": [
    "def multiple_replace(dict, text):\n",
    "    for k,v in dict.items():        \n",
    "        for val in dict[k]:\n",
    "            if(val == text):\n",
    "                return k\n",
    "    return text\n",
    "dfc = df.apply(lambda row: multiple_replace(WeatherConditionsDifficultyLevel, row['COND']), axis=1)"
   ]
  },
  {
   "cell_type": "code",
   "execution_count": 9,
   "metadata": {
    "scrolled": true
   },
   "outputs": [
    {
     "data": {
      "text/html": [
       "<div>\n",
       "<style scoped>\n",
       "    .dataframe tbody tr th:only-of-type {\n",
       "        vertical-align: middle;\n",
       "    }\n",
       "\n",
       "    .dataframe tbody tr th {\n",
       "        vertical-align: top;\n",
       "    }\n",
       "\n",
       "    .dataframe thead th {\n",
       "        text-align: right;\n",
       "    }\n",
       "</style>\n",
       "<table border=\"1\" class=\"dataframe\">\n",
       "  <thead>\n",
       "    <tr style=\"text-align: right;\">\n",
       "      <th></th>\n",
       "      <th>FGXP</th>\n",
       "      <th>GID</th>\n",
       "      <th>FKICKER</th>\n",
       "      <th>TIMO_REMAIN</th>\n",
       "      <th>SUCCESS</th>\n",
       "      <th>BLOCKED</th>\n",
       "      <th>DRAFT_POSITION</th>\n",
       "      <th>YDS_BEHIND_LOS</th>\n",
       "      <th>POINT_DIFFERENTIAL</th>\n",
       "      <th>HIGH_PRESSURE</th>\n",
       "      <th>...</th>\n",
       "      <th>bench</th>\n",
       "      <th>vertical</th>\n",
       "      <th>broad</th>\n",
       "      <th>shuttle</th>\n",
       "      <th>cone</th>\n",
       "      <th>arm</th>\n",
       "      <th>hand</th>\n",
       "      <th>start</th>\n",
       "      <th>dcp</th>\n",
       "      <th>WeatherCondition</th>\n",
       "    </tr>\n",
       "  </thead>\n",
       "  <tbody>\n",
       "    <tr>\n",
       "      <th>0</th>\n",
       "      <td>FG</td>\n",
       "      <td>14</td>\n",
       "      <td>AD-0800</td>\n",
       "      <td>3</td>\n",
       "      <td>1</td>\n",
       "      <td>0</td>\n",
       "      <td>0</td>\n",
       "      <td>18.0</td>\n",
       "      <td>-7</td>\n",
       "      <td>0</td>\n",
       "      <td>...</td>\n",
       "      <td>0</td>\n",
       "      <td>0.0</td>\n",
       "      <td>0</td>\n",
       "      <td>0.0</td>\n",
       "      <td>0.0</td>\n",
       "      <td>0</td>\n",
       "      <td>0.0</td>\n",
       "      <td>1984</td>\n",
       "      <td>0</td>\n",
       "      <td>normal</td>\n",
       "    </tr>\n",
       "    <tr>\n",
       "      <th>1</th>\n",
       "      <td>FG</td>\n",
       "      <td>14</td>\n",
       "      <td>AD-0800</td>\n",
       "      <td>0</td>\n",
       "      <td>1</td>\n",
       "      <td>0</td>\n",
       "      <td>0</td>\n",
       "      <td>18.0</td>\n",
       "      <td>-4</td>\n",
       "      <td>0</td>\n",
       "      <td>...</td>\n",
       "      <td>0</td>\n",
       "      <td>0.0</td>\n",
       "      <td>0</td>\n",
       "      <td>0.0</td>\n",
       "      <td>0.0</td>\n",
       "      <td>0</td>\n",
       "      <td>0.0</td>\n",
       "      <td>1984</td>\n",
       "      <td>0</td>\n",
       "      <td>normal</td>\n",
       "    </tr>\n",
       "  </tbody>\n",
       "</table>\n",
       "<p>2 rows × 32 columns</p>\n",
       "</div>"
      ],
      "text/plain": [
       "  FGXP GID  FKICKER  TIMO_REMAIN  SUCCESS  BLOCKED  DRAFT_POSITION  \\\n",
       "0   FG  14  AD-0800            3        1        0               0   \n",
       "1   FG  14  AD-0800            0        1        0               0   \n",
       "\n",
       "   YDS_BEHIND_LOS  POINT_DIFFERENTIAL  HIGH_PRESSURE        ...        bench  \\\n",
       "0            18.0                  -7              0        ...            0   \n",
       "1            18.0                  -4              0        ...            0   \n",
       "\n",
       "  vertical broad shuttle cone arm hand start  dcp  WeatherCondition  \n",
       "0      0.0     0     0.0  0.0   0  0.0  1984    0            normal  \n",
       "1      0.0     0     0.0  0.0   0  0.0  1984    0            normal  \n",
       "\n",
       "[2 rows x 32 columns]"
      ]
     },
     "execution_count": 9,
     "metadata": {},
     "output_type": "execute_result"
    }
   ],
   "source": [
    "df[\"WeatherCondition\"] = dfc\n",
    "df.head(2)"
   ]
  },
  {
   "cell_type": "code",
   "execution_count": 27,
   "metadata": {},
   "outputs": [
    {
     "data": {
      "text/plain": [
       "<matplotlib.axes._subplots.AxesSubplot at 0x29b8a789198>"
      ]
     },
     "execution_count": 27,
     "metadata": {},
     "output_type": "execute_result"
    },
    {
     "data": {
      "image/png": "[encoded data removed]",
      "text/plain": [
       "<Figure size 432x288 with 1 Axes>"
      ]
     },
     "metadata": {},
     "output_type": "display_data"
    }
   ],
   "source": [
    "df[\"WeatherCondition\"].value_counts().plot(kind='barh')"
   ]
  },
  {
   "cell_type": "markdown",
   "metadata": {},
   "source": [
    "## SURF"
   ]
  },
  {
   "cell_type": "code",
   "execution_count": 26,
   "metadata": {},
   "outputs": [
    {
     "data": {
      "text/plain": [
       "<matplotlib.axes._subplots.AxesSubplot at 0x29b8aa789e8>"
      ]
     },
     "execution_count": 26,
     "metadata": {},
     "output_type": "execute_result"
    },
    {
     "data": {
      "image/png": "[encoded data removed]",
      "text/plain": [
       "<Figure size 432x288 with 1 Axes>"
      ]
     },
     "metadata": {},
     "output_type": "display_data"
    }
   ],
   "source": [
    "df[\"SURF\"].value_counts().plot(kind='barh')"
   ]
  },
  {
   "cell_type": "code",
   "execution_count": 28,
   "metadata": {
    "scrolled": true
   },
   "outputs": [
    {
     "data": {
      "text/html": [
       "<div>\n",
       "<style scoped>\n",
       "    .dataframe tbody tr th:only-of-type {\n",
       "        vertical-align: middle;\n",
       "    }\n",
       "\n",
       "    .dataframe tbody tr th {\n",
       "        vertical-align: top;\n",
       "    }\n",
       "\n",
       "    .dataframe thead th {\n",
       "        text-align: right;\n",
       "    }\n",
       "</style>\n",
       "<table border=\"1\" class=\"dataframe\">\n",
       "  <thead>\n",
       "    <tr style=\"text-align: right;\">\n",
       "      <th></th>\n",
       "      <th>count</th>\n",
       "      <th>mean</th>\n",
       "      <th>std</th>\n",
       "      <th>min</th>\n",
       "      <th>25%</th>\n",
       "      <th>50%</th>\n",
       "      <th>75%</th>\n",
       "      <th>max</th>\n",
       "    </tr>\n",
       "  </thead>\n",
       "  <tbody>\n",
       "    <tr>\n",
       "      <th>TIMO_REMAIN</th>\n",
       "      <td>40174.0</td>\n",
       "      <td>2.381515</td>\n",
       "      <td>0.887430</td>\n",
       "      <td>0.0</td>\n",
       "      <td>2.0</td>\n",
       "      <td>3.0</td>\n",
       "      <td>3.0</td>\n",
       "      <td>3.00</td>\n",
       "    </tr>\n",
       "    <tr>\n",
       "      <th>SUCCESS</th>\n",
       "      <td>40174.0</td>\n",
       "      <td>0.908423</td>\n",
       "      <td>0.288431</td>\n",
       "      <td>0.0</td>\n",
       "      <td>1.0</td>\n",
       "      <td>1.0</td>\n",
       "      <td>1.0</td>\n",
       "      <td>1.00</td>\n",
       "    </tr>\n",
       "    <tr>\n",
       "      <th>BLOCKED</th>\n",
       "      <td>40174.0</td>\n",
       "      <td>0.013840</td>\n",
       "      <td>0.116827</td>\n",
       "      <td>0.0</td>\n",
       "      <td>0.0</td>\n",
       "      <td>0.0</td>\n",
       "      <td>0.0</td>\n",
       "      <td>1.00</td>\n",
       "    </tr>\n",
       "    <tr>\n",
       "      <th>DRAFT_POSITION</th>\n",
       "      <td>40174.0</td>\n",
       "      <td>57.468537</td>\n",
       "      <td>84.816554</td>\n",
       "      <td>0.0</td>\n",
       "      <td>0.0</td>\n",
       "      <td>0.0</td>\n",
       "      <td>118.0</td>\n",
       "      <td>329.00</td>\n",
       "    </tr>\n",
       "    <tr>\n",
       "      <th>YDS_BEHIND_LOS</th>\n",
       "      <td>40174.0</td>\n",
       "      <td>19.191666</td>\n",
       "      <td>3.766768</td>\n",
       "      <td>10.0</td>\n",
       "      <td>18.0</td>\n",
       "      <td>18.0</td>\n",
       "      <td>18.0</td>\n",
       "      <td>31.00</td>\n",
       "    </tr>\n",
       "    <tr>\n",
       "      <th>POINT_DIFFERENTIAL</th>\n",
       "      <td>40174.0</td>\n",
       "      <td>3.888211</td>\n",
       "      <td>10.569596</td>\n",
       "      <td>-49.0</td>\n",
       "      <td>-3.0</td>\n",
       "      <td>4.0</td>\n",
       "      <td>10.0</td>\n",
       "      <td>59.00</td>\n",
       "    </tr>\n",
       "    <tr>\n",
       "      <th>HIGH_PRESSURE</th>\n",
       "      <td>40174.0</td>\n",
       "      <td>0.153980</td>\n",
       "      <td>0.360934</td>\n",
       "      <td>0.0</td>\n",
       "      <td>0.0</td>\n",
       "      <td>0.0</td>\n",
       "      <td>0.0</td>\n",
       "      <td>1.00</td>\n",
       "    </tr>\n",
       "    <tr>\n",
       "      <th>height</th>\n",
       "      <td>40174.0</td>\n",
       "      <td>71.946284</td>\n",
       "      <td>1.939583</td>\n",
       "      <td>67.0</td>\n",
       "      <td>71.0</td>\n",
       "      <td>72.0</td>\n",
       "      <td>73.0</td>\n",
       "      <td>77.00</td>\n",
       "    </tr>\n",
       "    <tr>\n",
       "      <th>weight</th>\n",
       "      <td>40174.0</td>\n",
       "      <td>201.611764</td>\n",
       "      <td>16.213195</td>\n",
       "      <td>164.0</td>\n",
       "      <td>190.0</td>\n",
       "      <td>200.0</td>\n",
       "      <td>210.0</td>\n",
       "      <td>307.00</td>\n",
       "    </tr>\n",
       "    <tr>\n",
       "      <th>forty</th>\n",
       "      <td>40174.0</td>\n",
       "      <td>0.575039</td>\n",
       "      <td>1.582552</td>\n",
       "      <td>0.0</td>\n",
       "      <td>0.0</td>\n",
       "      <td>0.0</td>\n",
       "      <td>0.0</td>\n",
       "      <td>5.23</td>\n",
       "    </tr>\n",
       "    <tr>\n",
       "      <th>bench</th>\n",
       "      <td>40174.0</td>\n",
       "      <td>0.189625</td>\n",
       "      <td>1.642958</td>\n",
       "      <td>0.0</td>\n",
       "      <td>0.0</td>\n",
       "      <td>0.0</td>\n",
       "      <td>0.0</td>\n",
       "      <td>32.00</td>\n",
       "    </tr>\n",
       "    <tr>\n",
       "      <th>vertical</th>\n",
       "      <td>40174.0</td>\n",
       "      <td>0.361042</td>\n",
       "      <td>3.292477</td>\n",
       "      <td>0.0</td>\n",
       "      <td>0.0</td>\n",
       "      <td>0.0</td>\n",
       "      <td>0.0</td>\n",
       "      <td>37.00</td>\n",
       "    </tr>\n",
       "    <tr>\n",
       "      <th>broad</th>\n",
       "      <td>40174.0</td>\n",
       "      <td>0.560686</td>\n",
       "      <td>8.049720</td>\n",
       "      <td>0.0</td>\n",
       "      <td>0.0</td>\n",
       "      <td>0.0</td>\n",
       "      <td>0.0</td>\n",
       "      <td>126.00</td>\n",
       "    </tr>\n",
       "    <tr>\n",
       "      <th>shuttle</th>\n",
       "      <td>40174.0</td>\n",
       "      <td>0.031065</td>\n",
       "      <td>0.377693</td>\n",
       "      <td>0.0</td>\n",
       "      <td>0.0</td>\n",
       "      <td>0.0</td>\n",
       "      <td>0.0</td>\n",
       "      <td>4.63</td>\n",
       "    </tr>\n",
       "    <tr>\n",
       "      <th>cone</th>\n",
       "      <td>40174.0</td>\n",
       "      <td>0.057437</td>\n",
       "      <td>0.631974</td>\n",
       "      <td>0.0</td>\n",
       "      <td>0.0</td>\n",
       "      <td>0.0</td>\n",
       "      <td>0.0</td>\n",
       "      <td>7.75</td>\n",
       "    </tr>\n",
       "    <tr>\n",
       "      <th>arm</th>\n",
       "      <td>40174.0</td>\n",
       "      <td>0.945985</td>\n",
       "      <td>5.284995</td>\n",
       "      <td>0.0</td>\n",
       "      <td>0.0</td>\n",
       "      <td>0.0</td>\n",
       "      <td>0.0</td>\n",
       "      <td>34.00</td>\n",
       "    </tr>\n",
       "    <tr>\n",
       "      <th>hand</th>\n",
       "      <td>40174.0</td>\n",
       "      <td>0.272860</td>\n",
       "      <td>1.524350</td>\n",
       "      <td>0.0</td>\n",
       "      <td>0.0</td>\n",
       "      <td>0.0</td>\n",
       "      <td>0.0</td>\n",
       "      <td>10.25</td>\n",
       "    </tr>\n",
       "    <tr>\n",
       "      <th>start</th>\n",
       "      <td>40174.0</td>\n",
       "      <td>2001.943944</td>\n",
       "      <td>7.165287</td>\n",
       "      <td>1982.0</td>\n",
       "      <td>1998.0</td>\n",
       "      <td>2002.0</td>\n",
       "      <td>2007.0</td>\n",
       "      <td>2017.00</td>\n",
       "    </tr>\n",
       "    <tr>\n",
       "      <th>dcp</th>\n",
       "      <td>40174.0</td>\n",
       "      <td>0.572385</td>\n",
       "      <td>0.855546</td>\n",
       "      <td>0.0</td>\n",
       "      <td>0.0</td>\n",
       "      <td>0.0</td>\n",
       "      <td>1.0</td>\n",
       "      <td>5.00</td>\n",
       "    </tr>\n",
       "  </tbody>\n",
       "</table>\n",
       "</div>"
      ],
      "text/plain": [
       "                      count         mean        std     min     25%     50%  \\\n",
       "TIMO_REMAIN         40174.0     2.381515   0.887430     0.0     2.0     3.0   \n",
       "SUCCESS             40174.0     0.908423   0.288431     0.0     1.0     1.0   \n",
       "BLOCKED             40174.0     0.013840   0.116827     0.0     0.0     0.0   \n",
       "DRAFT_POSITION      40174.0    57.468537  84.816554     0.0     0.0     0.0   \n",
       "YDS_BEHIND_LOS      40174.0    19.191666   3.766768    10.0    18.0    18.0   \n",
       "POINT_DIFFERENTIAL  40174.0     3.888211  10.569596   -49.0    -3.0     4.0   \n",
       "HIGH_PRESSURE       40174.0     0.153980   0.360934     0.0     0.0     0.0   \n",
       "height              40174.0    71.946284   1.939583    67.0    71.0    72.0   \n",
       "weight              40174.0   201.611764  16.213195   164.0   190.0   200.0   \n",
       "forty               40174.0     0.575039   1.582552     0.0     0.0     0.0   \n",
       "bench               40174.0     0.189625   1.642958     0.0     0.0     0.0   \n",
       "vertical            40174.0     0.361042   3.292477     0.0     0.0     0.0   \n",
       "broad               40174.0     0.560686   8.049720     0.0     0.0     0.0   \n",
       "shuttle             40174.0     0.031065   0.377693     0.0     0.0     0.0   \n",
       "cone                40174.0     0.057437   0.631974     0.0     0.0     0.0   \n",
       "arm                 40174.0     0.945985   5.284995     0.0     0.0     0.0   \n",
       "hand                40174.0     0.272860   1.524350     0.0     0.0     0.0   \n",
       "start               40174.0  2001.943944   7.165287  1982.0  1998.0  2002.0   \n",
       "dcp                 40174.0     0.572385   0.855546     0.0     0.0     0.0   \n",
       "\n",
       "                       75%      max  \n",
       "TIMO_REMAIN            3.0     3.00  \n",
       "SUCCESS                1.0     1.00  \n",
       "BLOCKED                0.0     1.00  \n",
       "DRAFT_POSITION       118.0   329.00  \n",
       "YDS_BEHIND_LOS        18.0    31.00  \n",
       "POINT_DIFFERENTIAL    10.0    59.00  \n",
       "HIGH_PRESSURE          0.0     1.00  \n",
       "height                73.0    77.00  \n",
       "weight               210.0   307.00  \n",
       "forty                  0.0     5.23  \n",
       "bench                  0.0    32.00  \n",
       "vertical               0.0    37.00  \n",
       "broad                  0.0   126.00  \n",
       "shuttle                0.0     4.63  \n",
       "cone                   0.0     7.75  \n",
       "arm                    0.0    34.00  \n",
       "hand                   0.0    10.25  \n",
       "start               2007.0  2017.00  \n",
       "dcp                    1.0     5.00  "
      ]
     },
     "execution_count": 28,
     "metadata": {},
     "output_type": "execute_result"
    }
   ],
   "source": [
    "df.describe().transpose()"
   ]
  },
  {
   "cell_type": "code",
   "execution_count": null,
   "metadata": {},
   "outputs": [],
   "source": [
    "df.plot(x='DIST', y='HIGH_PRESSURE', kind='scatter')"
   ]
  }
 ],
 "metadata": {
  "kernelspec": {
   "display_name": "Python 3",
   "language": "python",
   "name": "python3"
  },
  "language_info": {
   "codemirror_mode": {
    "name": "ipython",
    "version": 3
   },
   "file_extension": ".py",
   "mimetype": "text/x-python",
   "name": "python",
   "nbconvert_exporter": "python",
   "pygments_lexer": "ipython3",
   "version": "3.6.4"
  }
 },
 "nbformat": 4,
 "nbformat_minor": 2
}
