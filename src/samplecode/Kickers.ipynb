{
 "cells": [
  {
   "cell_type": "markdown",
   "metadata": {},
   "source": [
    "# Get Kicker data from aws mySQL DB"
   ]
  },
  {
   "cell_type": "code",
   "execution_count": 1,
   "metadata": {},
   "outputs": [],
   "source": [
    "import mysql.connector\n",
    "import pandas as pd\n",
    "import numpy as np\n",
    "from pandas import DataFrame\n",
    "from mysql.connector import errorcode\n",
    "import matplotlib.pyplot as plt\n",
    "% matplotlib inline\n",
    "\n",
    "config = {\n",
    "'user': 'db_gtown_2018',\n",
    "'password': 'Gtown2018',\n",
    "'port': '3306',\n",
    "'host': 'nflnumbers.czuayagz62va.us-east-1.rds.amazonaws.com',\n",
    "'database': 'db_nfl',\n",
    "'raise_on_warnings': True,\n",
    "}\n",
    " \n",
    "try:\n",
    "    cnx = mysql.connector.connect(**config)\n",
    "    cursor = cnx.cursor()\n",
    "    #Let's read all the rows in the table\n",
    "    readContactPerson = \"\"\"SELECT FGXP, PBP.GID, PBP.FKICKER, \n",
    "    TIMO AS TIMO_REMAIN,\n",
    "    CASE WHEN GOOD = 'Y' THEN 1 ELSE 0 END AS SUCCESS,\n",
    "    CASE WHEN UPPER(DETAIL) LIKE '%BLOCKED%' THEN 1 ELSE 0 END AS BLOCKED,\n",
    "    DPOS AS DRAFT_POSITION,\n",
    "    DIST - (100 - CASE WHEN YFOG = '' THEN '98' ELSE YFOG END) AS YDS_BEHIND_LOS,\n",
    "    PTSO - PTSD AS POINT_DIFFERENTIAL,\n",
    "    CASE WHEN QTR IN ('2' , '4') AND MIN <= 2 AND (PTSO - PTSD) >= - 3 THEN 1 ELSE 0 END AS HIGH_PRESSURE,\n",
    "    TEMP, HUMD, WSPD, COND, SURF,\n",
    "    PLAYER.height,PLAYER.weight,\n",
    "    FLOOR((TO_DAYS(NOW()) - TO_DAYS(STR_TO_DATE( dob , \"%m/%d/%Y\" )))/365) AS AGE, \n",
    "    (YEAR(CURDATE()) - PLAYER.start) AS YEARS_PLAYED,\n",
    "    PLAYER.forty,PLAYER.bench,PLAYER.vertical,PLAYER.broad,PLAYER.shuttle,PLAYER.cone,\n",
    "    PLAYER.arm,PLAYER.hand,PLAYER.dcp\n",
    "    FROM PBP\n",
    "    LEFT OUTER JOIN PLAYER PLAYER ON PBP.FKICKER = PLAYER.PLAYER\n",
    "    LEFT OUTER JOIN GAME ON PBP.GID = GAME.GID\n",
    "    WHERE TYPE = 'FGXP' AND POS1 = 'K'\n",
    "    ORDER BY PBP.FKICKER , PBP.GID;\"\"\"\n",
    "    cursor.execute(readContactPerson)\n",
    "    #specify the attributes that you want to display\n",
    "    df = DataFrame(cursor.fetchall())    \n",
    "    \n",
    "    cnx.commit()\n",
    "except mysql.connector.Error as err:\n",
    "    if err.errno == errorcode.ER_ACCESS_DENIED_ERROR:\n",
    "        print(\"Something is wrong with your user name or password\")\n",
    "    elif err.errno == errorcode.ER_BAD_DB_ERROR:\n",
    "        print(\"Database does not exist\")\n",
    "    else:\n",
    "        print(err)\n",
    "else:\n",
    "    cursor.close()\n",
    "    cnx.close()"
   ]
  },
  {
   "cell_type": "code",
   "execution_count": 2,
   "metadata": {},
   "outputs": [],
   "source": [
    "df.columns = ['FGXP','GID','FKICKER','TIMO_REMAIN','SUCCESS','BLOCKED','DRAFT_POSITION','YDS_BEHIND_LOS','POINT_DIFFERENTIAL','HIGH_PRESSURE','TEMP','HUMD','WSPD','COND','SURF',\n",
    "             'height','weight','AGE','YEARS_PLAYED',\n",
    "             'forty','bench','vertical','broad','shuttle','cone',\n",
    "             'arm','hand','dcp']"
   ]
  },
  {
   "cell_type": "code",
   "execution_count": 3,
   "metadata": {},
   "outputs": [
    {
     "data": {
      "text/html": [
       "<div>\n",
       "<style scoped>\n",
       "    .dataframe tbody tr th:only-of-type {\n",
       "        vertical-align: middle;\n",
       "    }\n",
       "\n",
       "    .dataframe tbody tr th {\n",
       "        vertical-align: top;\n",
       "    }\n",
       "\n",
       "    .dataframe thead th {\n",
       "        text-align: right;\n",
       "    }\n",
       "</style>\n",
       "<table border=\"1\" class=\"dataframe\">\n",
       "  <thead>\n",
       "    <tr style=\"text-align: right;\">\n",
       "      <th></th>\n",
       "      <th>FGXP</th>\n",
       "      <th>GID</th>\n",
       "      <th>FKICKER</th>\n",
       "      <th>TIMO_REMAIN</th>\n",
       "      <th>SUCCESS</th>\n",
       "      <th>BLOCKED</th>\n",
       "      <th>DRAFT_POSITION</th>\n",
       "      <th>YDS_BEHIND_LOS</th>\n",
       "      <th>POINT_DIFFERENTIAL</th>\n",
       "      <th>HIGH_PRESSURE</th>\n",
       "      <th>...</th>\n",
       "      <th>YEARS_PLAYED</th>\n",
       "      <th>forty</th>\n",
       "      <th>bench</th>\n",
       "      <th>vertical</th>\n",
       "      <th>broad</th>\n",
       "      <th>shuttle</th>\n",
       "      <th>cone</th>\n",
       "      <th>arm</th>\n",
       "      <th>hand</th>\n",
       "      <th>dcp</th>\n",
       "    </tr>\n",
       "  </thead>\n",
       "  <tbody>\n",
       "    <tr>\n",
       "      <th>0</th>\n",
       "      <td>FG</td>\n",
       "      <td>14</td>\n",
       "      <td>AD-0800</td>\n",
       "      <td>3</td>\n",
       "      <td>1</td>\n",
       "      <td>0</td>\n",
       "      <td>0</td>\n",
       "      <td>18.0</td>\n",
       "      <td>-7</td>\n",
       "      <td>0</td>\n",
       "      <td>...</td>\n",
       "      <td>34</td>\n",
       "      <td>0.0</td>\n",
       "      <td>0</td>\n",
       "      <td>0.0</td>\n",
       "      <td>0</td>\n",
       "      <td>0.0</td>\n",
       "      <td>0.0</td>\n",
       "      <td>0</td>\n",
       "      <td>0.0</td>\n",
       "      <td>0</td>\n",
       "    </tr>\n",
       "    <tr>\n",
       "      <th>1</th>\n",
       "      <td>FG</td>\n",
       "      <td>14</td>\n",
       "      <td>AD-0800</td>\n",
       "      <td>0</td>\n",
       "      <td>1</td>\n",
       "      <td>0</td>\n",
       "      <td>0</td>\n",
       "      <td>18.0</td>\n",
       "      <td>-4</td>\n",
       "      <td>0</td>\n",
       "      <td>...</td>\n",
       "      <td>34</td>\n",
       "      <td>0.0</td>\n",
       "      <td>0</td>\n",
       "      <td>0.0</td>\n",
       "      <td>0</td>\n",
       "      <td>0.0</td>\n",
       "      <td>0.0</td>\n",
       "      <td>0</td>\n",
       "      <td>0.0</td>\n",
       "      <td>0</td>\n",
       "    </tr>\n",
       "    <tr>\n",
       "      <th>2</th>\n",
       "      <td>XP</td>\n",
       "      <td>14</td>\n",
       "      <td>AD-0800</td>\n",
       "      <td>3</td>\n",
       "      <td>1</td>\n",
       "      <td>0</td>\n",
       "      <td>0</td>\n",
       "      <td>18.0</td>\n",
       "      <td>0</td>\n",
       "      <td>0</td>\n",
       "      <td>...</td>\n",
       "      <td>34</td>\n",
       "      <td>0.0</td>\n",
       "      <td>0</td>\n",
       "      <td>0.0</td>\n",
       "      <td>0</td>\n",
       "      <td>0.0</td>\n",
       "      <td>0.0</td>\n",
       "      <td>0</td>\n",
       "      <td>0.0</td>\n",
       "      <td>0</td>\n",
       "    </tr>\n",
       "  </tbody>\n",
       "</table>\n",
       "<p>3 rows × 28 columns</p>\n",
       "</div>"
      ],
      "text/plain": [
       "  FGXP GID  FKICKER  TIMO_REMAIN  SUCCESS  BLOCKED  DRAFT_POSITION  \\\n",
       "0   FG  14  AD-0800            3        1        0               0   \n",
       "1   FG  14  AD-0800            0        1        0               0   \n",
       "2   XP  14  AD-0800            3        1        0               0   \n",
       "\n",
       "   YDS_BEHIND_LOS  POINT_DIFFERENTIAL  HIGH_PRESSURE ...  YEARS_PLAYED forty  \\\n",
       "0            18.0                  -7              0 ...            34   0.0   \n",
       "1            18.0                  -4              0 ...            34   0.0   \n",
       "2            18.0                   0              0 ...            34   0.0   \n",
       "\n",
       "  bench vertical broad  shuttle  cone  arm  hand  dcp  \n",
       "0     0      0.0     0      0.0   0.0    0   0.0    0  \n",
       "1     0      0.0     0      0.0   0.0    0   0.0    0  \n",
       "2     0      0.0     0      0.0   0.0    0   0.0    0  \n",
       "\n",
       "[3 rows x 28 columns]"
      ]
     },
     "execution_count": 3,
     "metadata": {},
     "output_type": "execute_result"
    }
   ],
   "source": [
    "df.head(3)"
   ]
  },
  {
   "cell_type": "markdown",
   "metadata": {},
   "source": [
    "## Number of XPs vs FGs "
   ]
  },
  {
   "cell_type": "code",
   "execution_count": 4,
   "metadata": {},
   "outputs": [
    {
     "data": {
      "text/plain": [
       "XP    22000\n",
       "FG    18164\n",
       "Name: FGXP, dtype: int64"
      ]
     },
     "execution_count": 4,
     "metadata": {},
     "output_type": "execute_result"
    }
   ],
   "source": [
    "df['FGXP'].value_counts()"
   ]
  },
  {
   "cell_type": "markdown",
   "metadata": {},
   "source": [
    "Number of XPs are slightly more than FGs "
   ]
  },
  {
   "cell_type": "markdown",
   "metadata": {},
   "source": [
    "## Success/Fail count by FG or XP"
   ]
  },
  {
   "cell_type": "code",
   "execution_count": 5,
   "metadata": {
    "scrolled": true
   },
   "outputs": [
    {
     "data": {
      "text/plain": [
       "FGXP  SUCCESS\n",
       "FG    0           3241\n",
       "      1          14923\n",
       "XP    0            435\n",
       "      1          21565\n",
       "Name: FGXP, dtype: int64"
      ]
     },
     "execution_count": 5,
     "metadata": {},
     "output_type": "execute_result"
    }
   ],
   "source": [
    "df.groupby(['FGXP','SUCCESS'])['FGXP'].count()"
   ]
  },
  {
   "cell_type": "markdown",
   "metadata": {},
   "source": [
    "Success to fail ratio of XPs is more than Success to fail of FGs"
   ]
  },
  {
   "cell_type": "markdown",
   "metadata": {},
   "source": [
    "## Weather conditions"
   ]
  },
  {
   "cell_type": "code",
   "execution_count": 6,
   "metadata": {},
   "outputs": [
    {
     "data": {
      "text/plain": [
       "<matplotlib.axes._subplots.AxesSubplot at 0x283e3505d30>"
      ]
     },
     "execution_count": 6,
     "metadata": {},
     "output_type": "execute_result"
    },
    {
     "data": {
      "image/png": "[encoded data removed]",
      "text/plain": [
       "<Figure size 432x288 with 1 Axes>"
      ]
     },
     "metadata": {},
     "output_type": "display_data"
    }
   ],
   "source": [
    "% matplotlib inline\n",
    "df[\"COND\"].value_counts().plot(kind='bar')"
   ]
  },
  {
   "cell_type": "markdown",
   "metadata": {},
   "source": [
    "too many weather categories, lets group them"
   ]
  },
  {
   "cell_type": "code",
   "execution_count": 7,
   "metadata": {},
   "outputs": [],
   "source": [
    "WeatherConditionsDifficultyLevel = {\n",
    "    'unknown': '',\n",
    "    'normal':['Closed Roof','Covered Roof','Dome','Clear','Cloudy',\n",
    "              'Partly Cloudy','Mostly Cloudy','Fair','Partly CLoudy',\n",
    "              'Sunny','Mostly Sunny','Partly Sunny'],\n",
    "    'hard':['Chance Rain','Light Rain','Flurries','Light Snow','Light Showers'],\n",
    "    'extreme':['Rain','Showers','Snow','Foggy','Hazy','Thunderstorms','Cold',\n",
    "               'Windy','Overcast']\n",
    "}"
   ]
  },
  {
   "cell_type": "code",
   "execution_count": 8,
   "metadata": {},
   "outputs": [],
   "source": [
    "def multiple_replace(dict, text):\n",
    "    for k,v in dict.items():        \n",
    "        for val in dict[k]:\n",
    "            if(val == text):\n",
    "                return k\n",
    "    return text\n",
    "dfc = df.apply(lambda row: multiple_replace(WeatherConditionsDifficultyLevel, row['COND']), axis=1)"
   ]
  },
  {
   "cell_type": "code",
   "execution_count": 9,
   "metadata": {
    "scrolled": true
   },
   "outputs": [
    {
     "data": {
      "text/html": [
       "<div>\n",
       "<style scoped>\n",
       "    .dataframe tbody tr th:only-of-type {\n",
       "        vertical-align: middle;\n",
       "    }\n",
       "\n",
       "    .dataframe tbody tr th {\n",
       "        vertical-align: top;\n",
       "    }\n",
       "\n",
       "    .dataframe thead th {\n",
       "        text-align: right;\n",
       "    }\n",
       "</style>\n",
       "<table border=\"1\" class=\"dataframe\">\n",
       "  <thead>\n",
       "    <tr style=\"text-align: right;\">\n",
       "      <th></th>\n",
       "      <th>FGXP</th>\n",
       "      <th>GID</th>\n",
       "      <th>FKICKER</th>\n",
       "      <th>TIMO_REMAIN</th>\n",
       "      <th>SUCCESS</th>\n",
       "      <th>BLOCKED</th>\n",
       "      <th>DRAFT_POSITION</th>\n",
       "      <th>YDS_BEHIND_LOS</th>\n",
       "      <th>POINT_DIFFERENTIAL</th>\n",
       "      <th>HIGH_PRESSURE</th>\n",
       "      <th>...</th>\n",
       "      <th>forty</th>\n",
       "      <th>bench</th>\n",
       "      <th>vertical</th>\n",
       "      <th>broad</th>\n",
       "      <th>shuttle</th>\n",
       "      <th>cone</th>\n",
       "      <th>arm</th>\n",
       "      <th>hand</th>\n",
       "      <th>dcp</th>\n",
       "      <th>WeatherCondition</th>\n",
       "    </tr>\n",
       "  </thead>\n",
       "  <tbody>\n",
       "    <tr>\n",
       "      <th>0</th>\n",
       "      <td>FG</td>\n",
       "      <td>14</td>\n",
       "      <td>AD-0800</td>\n",
       "      <td>3</td>\n",
       "      <td>1</td>\n",
       "      <td>0</td>\n",
       "      <td>0</td>\n",
       "      <td>18.0</td>\n",
       "      <td>-7</td>\n",
       "      <td>0</td>\n",
       "      <td>...</td>\n",
       "      <td>0.0</td>\n",
       "      <td>0</td>\n",
       "      <td>0.0</td>\n",
       "      <td>0</td>\n",
       "      <td>0.0</td>\n",
       "      <td>0.0</td>\n",
       "      <td>0</td>\n",
       "      <td>0.0</td>\n",
       "      <td>0</td>\n",
       "      <td>normal</td>\n",
       "    </tr>\n",
       "    <tr>\n",
       "      <th>1</th>\n",
       "      <td>FG</td>\n",
       "      <td>14</td>\n",
       "      <td>AD-0800</td>\n",
       "      <td>0</td>\n",
       "      <td>1</td>\n",
       "      <td>0</td>\n",
       "      <td>0</td>\n",
       "      <td>18.0</td>\n",
       "      <td>-4</td>\n",
       "      <td>0</td>\n",
       "      <td>...</td>\n",
       "      <td>0.0</td>\n",
       "      <td>0</td>\n",
       "      <td>0.0</td>\n",
       "      <td>0</td>\n",
       "      <td>0.0</td>\n",
       "      <td>0.0</td>\n",
       "      <td>0</td>\n",
       "      <td>0.0</td>\n",
       "      <td>0</td>\n",
       "      <td>normal</td>\n",
       "    </tr>\n",
       "  </tbody>\n",
       "</table>\n",
       "<p>2 rows × 29 columns</p>\n",
       "</div>"
      ],
      "text/plain": [
       "  FGXP GID  FKICKER  TIMO_REMAIN  SUCCESS  BLOCKED  DRAFT_POSITION  \\\n",
       "0   FG  14  AD-0800            3        1        0               0   \n",
       "1   FG  14  AD-0800            0        1        0               0   \n",
       "\n",
       "   YDS_BEHIND_LOS  POINT_DIFFERENTIAL  HIGH_PRESSURE        ...        forty  \\\n",
       "0            18.0                  -7              0        ...          0.0   \n",
       "1            18.0                  -4              0        ...          0.0   \n",
       "\n",
       "  bench vertical broad shuttle  cone  arm  hand  dcp  WeatherCondition  \n",
       "0     0      0.0     0     0.0   0.0    0   0.0    0            normal  \n",
       "1     0      0.0     0     0.0   0.0    0   0.0    0            normal  \n",
       "\n",
       "[2 rows x 29 columns]"
      ]
     },
     "execution_count": 9,
     "metadata": {},
     "output_type": "execute_result"
    }
   ],
   "source": [
    "df[\"WeatherCondition\"] = dfc\n",
    "df.head(2)"
   ]
  },
  {
   "cell_type": "code",
   "execution_count": 10,
   "metadata": {},
   "outputs": [
    {
     "data": {
      "text/plain": [
       "<matplotlib.axes._subplots.AxesSubplot at 0x283e8d19278>"
      ]
     },
     "execution_count": 10,
     "metadata": {},
     "output_type": "execute_result"
    },
    {
     "data": {
      "image/png": "[encoded data removed]",
      "text/plain": [
       "<Figure size 432x288 with 1 Axes>"
      ]
     },
     "metadata": {},
     "output_type": "display_data"
    }
   ],
   "source": [
    "df[\"WeatherCondition\"].value_counts().plot(kind='barh')"
   ]
  },
  {
   "cell_type": "markdown",
   "metadata": {},
   "source": [
    "## SURF"
   ]
  },
  {
   "cell_type": "code",
   "execution_count": 11,
   "metadata": {},
   "outputs": [
    {
     "data": {
      "text/plain": [
       "<matplotlib.axes._subplots.AxesSubplot at 0x283eb010be0>"
      ]
     },
     "execution_count": 11,
     "metadata": {},
     "output_type": "execute_result"
    },
    {
     "data": {
      "image/png": "[encoded data removed]",
      "text/plain": [
       "<Figure size 432x288 with 1 Axes>"
      ]
     },
     "metadata": {},
     "output_type": "display_data"
    }
   ],
   "source": [
    "df[\"SURF\"].value_counts().plot(kind='barh')"
   ]
  },
  {
   "cell_type": "code",
   "execution_count": 12,
   "metadata": {
    "scrolled": true
   },
   "outputs": [
    {
     "data": {
      "text/html": [
       "<div>\n",
       "<style scoped>\n",
       "    .dataframe tbody tr th:only-of-type {\n",
       "        vertical-align: middle;\n",
       "    }\n",
       "\n",
       "    .dataframe tbody tr th {\n",
       "        vertical-align: top;\n",
       "    }\n",
       "\n",
       "    .dataframe thead th {\n",
       "        text-align: right;\n",
       "    }\n",
       "</style>\n",
       "<table border=\"1\" class=\"dataframe\">\n",
       "  <thead>\n",
       "    <tr style=\"text-align: right;\">\n",
       "      <th></th>\n",
       "      <th>count</th>\n",
       "      <th>mean</th>\n",
       "      <th>std</th>\n",
       "      <th>min</th>\n",
       "      <th>25%</th>\n",
       "      <th>50%</th>\n",
       "      <th>75%</th>\n",
       "      <th>max</th>\n",
       "    </tr>\n",
       "  </thead>\n",
       "  <tbody>\n",
       "    <tr>\n",
       "      <th>TIMO_REMAIN</th>\n",
       "      <td>40164.0</td>\n",
       "      <td>2.381486</td>\n",
       "      <td>0.887503</td>\n",
       "      <td>0.0</td>\n",
       "      <td>2.0</td>\n",
       "      <td>3.0</td>\n",
       "      <td>3.0</td>\n",
       "      <td>3.000</td>\n",
       "    </tr>\n",
       "    <tr>\n",
       "      <th>SUCCESS</th>\n",
       "      <td>40164.0</td>\n",
       "      <td>0.908475</td>\n",
       "      <td>0.288357</td>\n",
       "      <td>0.0</td>\n",
       "      <td>1.0</td>\n",
       "      <td>1.0</td>\n",
       "      <td>1.0</td>\n",
       "      <td>1.000</td>\n",
       "    </tr>\n",
       "    <tr>\n",
       "      <th>BLOCKED</th>\n",
       "      <td>40164.0</td>\n",
       "      <td>0.013843</td>\n",
       "      <td>0.116842</td>\n",
       "      <td>0.0</td>\n",
       "      <td>0.0</td>\n",
       "      <td>0.0</td>\n",
       "      <td>0.0</td>\n",
       "      <td>1.000</td>\n",
       "    </tr>\n",
       "    <tr>\n",
       "      <th>DRAFT_POSITION</th>\n",
       "      <td>40164.0</td>\n",
       "      <td>57.472363</td>\n",
       "      <td>84.816127</td>\n",
       "      <td>0.0</td>\n",
       "      <td>0.0</td>\n",
       "      <td>0.0</td>\n",
       "      <td>118.0</td>\n",
       "      <td>329.000</td>\n",
       "    </tr>\n",
       "    <tr>\n",
       "      <th>YDS_BEHIND_LOS</th>\n",
       "      <td>40164.0</td>\n",
       "      <td>19.190992</td>\n",
       "      <td>3.765821</td>\n",
       "      <td>10.0</td>\n",
       "      <td>18.0</td>\n",
       "      <td>18.0</td>\n",
       "      <td>18.0</td>\n",
       "      <td>31.000</td>\n",
       "    </tr>\n",
       "    <tr>\n",
       "      <th>POINT_DIFFERENTIAL</th>\n",
       "      <td>40164.0</td>\n",
       "      <td>3.887113</td>\n",
       "      <td>10.566627</td>\n",
       "      <td>-49.0</td>\n",
       "      <td>-3.0</td>\n",
       "      <td>4.0</td>\n",
       "      <td>10.0</td>\n",
       "      <td>59.000</td>\n",
       "    </tr>\n",
       "    <tr>\n",
       "      <th>HIGH_PRESSURE</th>\n",
       "      <td>40164.0</td>\n",
       "      <td>0.154019</td>\n",
       "      <td>0.360971</td>\n",
       "      <td>0.0</td>\n",
       "      <td>0.0</td>\n",
       "      <td>0.0</td>\n",
       "      <td>0.0</td>\n",
       "      <td>1.000</td>\n",
       "    </tr>\n",
       "    <tr>\n",
       "      <th>height</th>\n",
       "      <td>40164.0</td>\n",
       "      <td>71.946370</td>\n",
       "      <td>1.939506</td>\n",
       "      <td>67.0</td>\n",
       "      <td>71.0</td>\n",
       "      <td>72.0</td>\n",
       "      <td>73.0</td>\n",
       "      <td>77.000</td>\n",
       "    </tr>\n",
       "    <tr>\n",
       "      <th>weight</th>\n",
       "      <td>40164.0</td>\n",
       "      <td>201.608132</td>\n",
       "      <td>16.202634</td>\n",
       "      <td>164.0</td>\n",
       "      <td>190.0</td>\n",
       "      <td>200.0</td>\n",
       "      <td>210.0</td>\n",
       "      <td>250.000</td>\n",
       "    </tr>\n",
       "    <tr>\n",
       "      <th>AGE</th>\n",
       "      <td>40164.0</td>\n",
       "      <td>39.042053</td>\n",
       "      <td>8.421407</td>\n",
       "      <td>22.0</td>\n",
       "      <td>33.0</td>\n",
       "      <td>40.0</td>\n",
       "      <td>43.0</td>\n",
       "      <td>84.000</td>\n",
       "    </tr>\n",
       "    <tr>\n",
       "      <th>YEARS_PLAYED</th>\n",
       "      <td>40164.0</td>\n",
       "      <td>16.056742</td>\n",
       "      <td>7.164953</td>\n",
       "      <td>1.0</td>\n",
       "      <td>11.0</td>\n",
       "      <td>16.0</td>\n",
       "      <td>20.0</td>\n",
       "      <td>36.000</td>\n",
       "    </tr>\n",
       "    <tr>\n",
       "      <th>forty</th>\n",
       "      <td>40164.0</td>\n",
       "      <td>0.574492</td>\n",
       "      <td>1.581965</td>\n",
       "      <td>0.0</td>\n",
       "      <td>0.0</td>\n",
       "      <td>0.0</td>\n",
       "      <td>0.0</td>\n",
       "      <td>5.230</td>\n",
       "    </tr>\n",
       "    <tr>\n",
       "      <th>bench</th>\n",
       "      <td>40164.0</td>\n",
       "      <td>0.186037</td>\n",
       "      <td>1.615861</td>\n",
       "      <td>0.0</td>\n",
       "      <td>0.0</td>\n",
       "      <td>0.0</td>\n",
       "      <td>0.0</td>\n",
       "      <td>25.000</td>\n",
       "    </tr>\n",
       "    <tr>\n",
       "      <th>vertical</th>\n",
       "      <td>40164.0</td>\n",
       "      <td>0.355692</td>\n",
       "      <td>3.263249</td>\n",
       "      <td>0.0</td>\n",
       "      <td>0.0</td>\n",
       "      <td>0.0</td>\n",
       "      <td>0.0</td>\n",
       "      <td>33.500</td>\n",
       "    </tr>\n",
       "    <tr>\n",
       "      <th>broad</th>\n",
       "      <td>40164.0</td>\n",
       "      <td>0.542974</td>\n",
       "      <td>7.917809</td>\n",
       "      <td>0.0</td>\n",
       "      <td>0.0</td>\n",
       "      <td>0.0</td>\n",
       "      <td>0.0</td>\n",
       "      <td>116.000</td>\n",
       "    </tr>\n",
       "    <tr>\n",
       "      <th>shuttle</th>\n",
       "      <td>40164.0</td>\n",
       "      <td>0.030433</td>\n",
       "      <td>0.374143</td>\n",
       "      <td>0.0</td>\n",
       "      <td>0.0</td>\n",
       "      <td>0.0</td>\n",
       "      <td>0.0</td>\n",
       "      <td>4.630</td>\n",
       "    </tr>\n",
       "    <tr>\n",
       "      <th>cone</th>\n",
       "      <td>40164.0</td>\n",
       "      <td>0.056406</td>\n",
       "      <td>0.626325</td>\n",
       "      <td>0.0</td>\n",
       "      <td>0.0</td>\n",
       "      <td>0.0</td>\n",
       "      <td>0.0</td>\n",
       "      <td>7.750</td>\n",
       "    </tr>\n",
       "    <tr>\n",
       "      <th>arm</th>\n",
       "      <td>40164.0</td>\n",
       "      <td>0.945374</td>\n",
       "      <td>5.283059</td>\n",
       "      <td>0.0</td>\n",
       "      <td>0.0</td>\n",
       "      <td>0.0</td>\n",
       "      <td>0.0</td>\n",
       "      <td>32.000</td>\n",
       "    </tr>\n",
       "    <tr>\n",
       "      <th>hand</th>\n",
       "      <td>40164.0</td>\n",
       "      <td>0.272673</td>\n",
       "      <td>1.523721</td>\n",
       "      <td>0.0</td>\n",
       "      <td>0.0</td>\n",
       "      <td>0.0</td>\n",
       "      <td>0.0</td>\n",
       "      <td>9.875</td>\n",
       "    </tr>\n",
       "    <tr>\n",
       "      <th>dcp</th>\n",
       "      <td>40164.0</td>\n",
       "      <td>0.572279</td>\n",
       "      <td>0.855364</td>\n",
       "      <td>0.0</td>\n",
       "      <td>0.0</td>\n",
       "      <td>0.0</td>\n",
       "      <td>1.0</td>\n",
       "      <td>5.000</td>\n",
       "    </tr>\n",
       "  </tbody>\n",
       "</table>\n",
       "</div>"
      ],
      "text/plain": [
       "                      count        mean        std    min    25%    50%  \\\n",
       "TIMO_REMAIN         40164.0    2.381486   0.887503    0.0    2.0    3.0   \n",
       "SUCCESS             40164.0    0.908475   0.288357    0.0    1.0    1.0   \n",
       "BLOCKED             40164.0    0.013843   0.116842    0.0    0.0    0.0   \n",
       "DRAFT_POSITION      40164.0   57.472363  84.816127    0.0    0.0    0.0   \n",
       "YDS_BEHIND_LOS      40164.0   19.190992   3.765821   10.0   18.0   18.0   \n",
       "POINT_DIFFERENTIAL  40164.0    3.887113  10.566627  -49.0   -3.0    4.0   \n",
       "HIGH_PRESSURE       40164.0    0.154019   0.360971    0.0    0.0    0.0   \n",
       "height              40164.0   71.946370   1.939506   67.0   71.0   72.0   \n",
       "weight              40164.0  201.608132  16.202634  164.0  190.0  200.0   \n",
       "AGE                 40164.0   39.042053   8.421407   22.0   33.0   40.0   \n",
       "YEARS_PLAYED        40164.0   16.056742   7.164953    1.0   11.0   16.0   \n",
       "forty               40164.0    0.574492   1.581965    0.0    0.0    0.0   \n",
       "bench               40164.0    0.186037   1.615861    0.0    0.0    0.0   \n",
       "vertical            40164.0    0.355692   3.263249    0.0    0.0    0.0   \n",
       "broad               40164.0    0.542974   7.917809    0.0    0.0    0.0   \n",
       "shuttle             40164.0    0.030433   0.374143    0.0    0.0    0.0   \n",
       "cone                40164.0    0.056406   0.626325    0.0    0.0    0.0   \n",
       "arm                 40164.0    0.945374   5.283059    0.0    0.0    0.0   \n",
       "hand                40164.0    0.272673   1.523721    0.0    0.0    0.0   \n",
       "dcp                 40164.0    0.572279   0.855364    0.0    0.0    0.0   \n",
       "\n",
       "                      75%      max  \n",
       "TIMO_REMAIN           3.0    3.000  \n",
       "SUCCESS               1.0    1.000  \n",
       "BLOCKED               0.0    1.000  \n",
       "DRAFT_POSITION      118.0  329.000  \n",
       "YDS_BEHIND_LOS       18.0   31.000  \n",
       "POINT_DIFFERENTIAL   10.0   59.000  \n",
       "HIGH_PRESSURE         0.0    1.000  \n",
       "height               73.0   77.000  \n",
       "weight              210.0  250.000  \n",
       "AGE                  43.0   84.000  \n",
       "YEARS_PLAYED         20.0   36.000  \n",
       "forty                 0.0    5.230  \n",
       "bench                 0.0   25.000  \n",
       "vertical              0.0   33.500  \n",
       "broad                 0.0  116.000  \n",
       "shuttle               0.0    4.630  \n",
       "cone                  0.0    7.750  \n",
       "arm                   0.0   32.000  \n",
       "hand                  0.0    9.875  \n",
       "dcp                   1.0    5.000  "
      ]
     },
     "execution_count": 12,
     "metadata": {},
     "output_type": "execute_result"
    }
   ],
   "source": [
    "df.describe().transpose()"
   ]
  },
  {
   "cell_type": "code",
   "execution_count": 13,
   "metadata": {},
   "outputs": [
    {
     "data": {
      "text/plain": [
       "count    40164.000000\n",
       "mean        39.042053\n",
       "std          8.421407\n",
       "min         22.000000\n",
       "25%         33.000000\n",
       "50%         40.000000\n",
       "75%         43.000000\n",
       "max         84.000000\n",
       "Name: AGE, dtype: float64"
      ]
     },
     "execution_count": 13,
     "metadata": {},
     "output_type": "execute_result"
    }
   ],
   "source": [
    "df[\"AGE\"].describe()"
   ]
  },
  {
   "cell_type": "code",
   "execution_count": 14,
   "metadata": {},
   "outputs": [
    {
     "data": {
      "text/plain": [
       "count    40164.000000\n",
       "mean        16.056742\n",
       "std          7.164953\n",
       "min          1.000000\n",
       "25%         11.000000\n",
       "50%         16.000000\n",
       "75%         20.000000\n",
       "max         36.000000\n",
       "Name: YEARS_PLAYED, dtype: float64"
      ]
     },
     "execution_count": 14,
     "metadata": {},
     "output_type": "execute_result"
    }
   ],
   "source": [
    "df[\"YEARS_PLAYED\"].describe()"
   ]
  },
  {
   "cell_type": "code",
   "execution_count": 15,
   "metadata": {},
   "outputs": [
    {
     "data": {
      "text/plain": [
       "[('AGE', 'YEARS_PLAYED'), ('shuttle', 'cone'), ('arm', 'hand')]"
      ]
     },
     "execution_count": 15,
     "metadata": {},
     "output_type": "execute_result"
    }
   ],
   "source": [
    "corr_matrix = df.corr().abs()\n",
    "high_corr_var=np.where(corr_matrix>0.8)\n",
    "high_corr_var=[(corr_matrix.index[x],corr_matrix.columns[y]) for x,y in zip(*high_corr_var) if x!=y and x<y]\n",
    "high_corr_var"
   ]
  }
 ],
 "metadata": {
  "kernelspec": {
   "display_name": "Python 3",
   "language": "python",
   "name": "python3"
  },
  "language_info": {
   "codemirror_mode": {
    "name": "ipython",
    "version": 3
   },
   "file_extension": ".py",
   "mimetype": "text/x-python",
   "name": "python",
   "nbconvert_exporter": "python",
   "pygments_lexer": "ipython3",
   "version": "3.6.4"
  }
 },
 "nbformat": 4,
 "nbformat_minor": 2
}
