{
 "cells": [
  {
   "cell_type": "markdown",
   "metadata": {},
   "source": [
    "# Exploring Kicker Data"
   ]
  },
  {
   "cell_type": "markdown",
   "metadata": {},
   "source": [
    "## Prepare Data"
   ]
  },
  {
   "cell_type": "markdown",
   "metadata": {},
   "source": [
    "Get seasons wise kickers and pro bowl data with player and game information"
   ]
  },
  {
   "cell_type": "code",
   "execution_count": 1,
   "metadata": {},
   "outputs": [
    {
     "name": "stderr",
     "output_type": "stream",
     "text": [
      "C:\\Users\\deeka\\Anaconda3\\envs\\GTU\\lib\\site-packages\\IPython\\html.py:14: ShimWarning: The `IPython.html` package has been deprecated since IPython 4.0. You should import from `notebook` instead. `IPython.html.widgets` has moved to `ipywidgets`.\n",
      "  \"`IPython.html.widgets` has moved to `ipywidgets`.\", ShimWarning)\n"
     ]
    }
   ],
   "source": [
    "import mysql.connector\n",
    "import pandas as pd\n",
    "import numpy as np\n",
    "from pandas import DataFrame\n",
    "import matplotlib.mlab as mlab\n",
    "from mysql.connector import errorcode\n",
    "import matplotlib.pyplot as plt\n",
    "from __future__ import print_function\n",
    "from ipywidgets import interact, interactive, fixed, interact_manual\n",
    "import ipywidgets as widgets\n",
    "from IPython.display import display, clear_output\n",
    "from IPython.html.widgets import *\n",
    "import plotly as py\n",
    "import plotly.graph_objs as go\n",
    "from sklearn.metrics import mean_squared_error as mse\n",
    "from sklearn.metrics import r2_score\n",
    "import os\n",
    "import json\n",
    "import time\n",
    "import pickle\n",
    "import requests\n",
    "import configparser\n",
    "\n",
    "%matplotlib inline"
   ]
  },
  {
   "cell_type": "code",
   "execution_count": 2,
   "metadata": {},
   "outputs": [],
   "source": [
    "config = configparser.ConfigParser()\n",
    "config.read('dbConfig.ini')\n",
    "dbConfig = config['ConnectionString']['dbConfig']\n",
    "\n",
    "QUERY = \"\"\"SELECT \n",
    "        FKICKER,\n",
    "        PLAYER.pname AS PLAYER_NAME,COND,SURF,FGXP AS TYPE,\n",
    "        Percentage.GID,GAME.SEAS AS SEASON,        \n",
    "        ((SUM(SUCCESS) / COUNT(*)) * 100) AS SUCCESS_PRCNTG,\n",
    "        ((SUM(BLOCKED) / COUNT(*)) * 100) AS BLOCKED_PRCNTG,\n",
    "        COUNT(*) AS PLAY_COUNT,\n",
    "        CASE\n",
    "            WHEN SUM(HIGH_PRESSURE) = 0 THEN 0\n",
    "            ELSE ((SUM(HIGH_PRESSURE_SUCCESS) / SUM(HIGH_PRESSURE)) * 100)\n",
    "        END AS HIGH_PRESSURE_SUCCESS_PRCNTG,\n",
    "        SUM(HIGH_PRESSURE) AS HIGH_PRESSURE_COUNT,\n",
    "        CASE\n",
    "            WHEN SUM(LONG_DIST) = 0 THEN 0\n",
    "            ELSE ((SUM(LONG_DIST_SUCCESS) / SUM(LONG_DIST)) * 100)\n",
    "        END AS LONG_DIST_SUCCESS_PRCNTG, \n",
    "        SUM(LONG_DIST) AS LONG_DIST_COUNT,\n",
    "        TEMP,\n",
    "        HUMD,\n",
    "        WSPD,       \n",
    "        (GAME.SEAS - PLAYER.start) AS YEARS_PLAYED,\n",
    "        height,\n",
    "        weight,\n",
    "        PLAYER.forty,\n",
    "        PLAYER.bench,\n",
    "        PLAYER.vertical,\n",
    "        PLAYER.broad,\n",
    "        PLAYER.shuttle,\n",
    "        PLAYER.cone,\n",
    "        PLAYER.arm,\n",
    "        PLAYER.hand,\n",
    "        PLAYER.dcp,\n",
    "        DPOS AS DRAFT_POSITION,\n",
    "        (SELECT \n",
    "                (TO_DAYS(NOW()) - TO_DAYS(STR_TO_DATE(dob, '%m/%d/%Y'))) / 365\n",
    "            FROM\n",
    "                PLAYER P\n",
    "            WHERE\n",
    "                P.player = FKICKER) AS AGE_YEARS\n",
    "        FROM\n",
    "        (SELECT \n",
    "            FGXP,\n",
    "                PBP.GID,\n",
    "                PBP.FKICKER,\n",
    "                CASE\n",
    "                    WHEN GOOD = 'Y' THEN 1\n",
    "                    ELSE 0\n",
    "                END AS SUCCESS,\n",
    "                CASE\n",
    "                    WHEN UPPER(DETAIL) LIKE '%BLOCKED%' THEN 1\n",
    "                    ELSE 0\n",
    "                END AS BLOCKED,\n",
    "                CASE\n",
    "                    WHEN\n",
    "                        QTR IN ('2' , '4') AND MIN <= 2\n",
    "                            AND (PTSO - PTSD) >= - 3\n",
    "                    THEN\n",
    "                        1\n",
    "                    ELSE 0\n",
    "                END AS HIGH_PRESSURE,\n",
    "                CASE\n",
    "                    WHEN\n",
    "                        QTR IN ('2' , '4') AND MIN <= 2\n",
    "                            AND (PTSO - PTSD) >= - 3\n",
    "                            AND GOOD = 'Y'\n",
    "                    THEN\n",
    "                        1\n",
    "                    ELSE 0\n",
    "                END AS HIGH_PRESSURE_SUCCESS,\n",
    "                CASE\n",
    "                    WHEN DIST >= 50 THEN 1\n",
    "                    ELSE 0\n",
    "                END AS LONG_DIST,\n",
    "                CASE\n",
    "                    WHEN DIST >= 50 AND GOOD = 'Y' THEN 1\n",
    "                    ELSE 0\n",
    "                END AS LONG_DIST_SUCCESS,\n",
    "                DIST - (100 - CASE\n",
    "                    WHEN YFOG = '' THEN '98'\n",
    "                    ELSE YFOG\n",
    "                END) AS YDS_BEHIND_LOS\n",
    "        FROM\n",
    "            PBP\n",
    "        LEFT OUTER JOIN PLAYER PLAYER ON PBP.FKICKER = PLAYER.PLAYER\n",
    "        WHERE TYPE = 'FGXP' AND POS1 = 'K' AND DIST >= 35) AS Percentage\n",
    "        LEFT OUTER JOIN PLAYER PLAYER ON Percentage.FKICKER = PLAYER.PLAYER\n",
    "        LEFT OUTER JOIN GAME ON Percentage.GID = GAME.GID\n",
    "        GROUP BY FKICKER , Percentage.GID\n",
    "        ORDER BY FKICKER , Percentage.GID;\"\"\"\n",
    "\n",
    "FEATURES = ['FKICKER','PLAYER_NAME','COND','SURF','TYPE','GID','SEASON','SUCCESS_PRCNTG','BLOCKED_PRCNTG','PLAY_COUNT',\n",
    "        'HIGH_PRESSURE_SUCCESS_PRCNTG','HIGH_PRESSURE_COUNT','LONG_DIST_SUCCESS_PRCNTG','LONG_DIST_COUNT',\n",
    "        'TEMP','HUMD','WSPD',\n",
    "        'YEARS_PLAYED','height','weight','forty','bench',\n",
    "        'vertical','broad','shuttle','cone',\n",
    "        'arm','hand','dcp','DRAFT_POSITION','AGE_YEARS']\n",
    "\n",
    "\n",
    "def fetch_data():   \n",
    "    try:\n",
    "        cnx = mysql.connector.connect(**eval(dbConfig))\n",
    "        cursor = cnx.cursor()\n",
    "        #Let's read all the rows in the table\n",
    "        cursor.execute(QUERY)\n",
    "        #specify the attributes that you want to display\n",
    "        df = DataFrame(cursor.fetchall())    \n",
    "        df.columns = FEATURES\n",
    "        cnx.commit()\n",
    "    except mysql.connector.Error as err:\n",
    "        if err.errno == errorcode.ER_ACCESS_DENIED_ERROR:\n",
    "            print(\"Something is wrong with your user name or password\")\n",
    "        elif err.errno == errorcode.ER_BAD_DB_ERROR:\n",
    "            print(\"Database does not exist\")\n",
    "        else:\n",
    "            print(err)\n",
    "    else:\n",
    "        \n",
    "        return df\n",
    "        cursor.close()\n",
    "        cnx.close()\n",
    "DATA = fetch_data()"
   ]
  },
  {
   "cell_type": "markdown",
   "metadata": {},
   "source": [
    "## Handle missing data"
   ]
  },
  {
   "cell_type": "code",
   "execution_count": 3,
   "metadata": {},
   "outputs": [
    {
     "data": {
      "text/plain": [
       "FKICKER                         0\n",
       "PLAYER_NAME                     0\n",
       "COND                            0\n",
       "SURF                            0\n",
       "TYPE                            0\n",
       "GID                             0\n",
       "SEASON                          0\n",
       "SUCCESS_PRCNTG                  0\n",
       "BLOCKED_PRCNTG                  0\n",
       "PLAY_COUNT                      0\n",
       "HIGH_PRESSURE_SUCCESS_PRCNTG    0\n",
       "HIGH_PRESSURE_COUNT             0\n",
       "LONG_DIST_SUCCESS_PRCNTG        0\n",
       "LONG_DIST_COUNT                 0\n",
       "TEMP                            0\n",
       "HUMD                            0\n",
       "WSPD                            0\n",
       "YEARS_PLAYED                    0\n",
       "height                          0\n",
       "weight                          0\n",
       "forty                           0\n",
       "bench                           0\n",
       "vertical                        0\n",
       "broad                           0\n",
       "shuttle                         0\n",
       "cone                            0\n",
       "arm                             0\n",
       "hand                            0\n",
       "dcp                             0\n",
       "DRAFT_POSITION                  0\n",
       "AGE_YEARS                       0\n",
       "dtype: int64"
      ]
     },
     "execution_count": 3,
     "metadata": {},
     "output_type": "execute_result"
    }
   ],
   "source": [
    "# Check number of missing values\n",
    "DATA.isnull().sum()"
   ]
  },
  {
   "cell_type": "markdown",
   "metadata": {},
   "source": [
    "There are no missing data"
   ]
  },
  {
   "cell_type": "markdown",
   "metadata": {},
   "source": [
    "## Analyse features"
   ]
  },
  {
   "cell_type": "markdown",
   "metadata": {},
   "source": [
    "### Analyse Weather conditions"
   ]
  },
  {
   "cell_type": "code",
   "execution_count": 4,
   "metadata": {},
   "outputs": [
    {
     "data": {
      "text/plain": [
       "<matplotlib.axes._subplots.AxesSubplot at 0x2759e69b278>"
      ]
     },
     "execution_count": 4,
     "metadata": {},
     "output_type": "execute_result"
    },
    {
     "data": {
      "image/png": "[encoded data removed]",
      "text/plain": [
       "<Figure size 720x288 with 1 Axes>"
      ]
     },
     "metadata": {},
     "output_type": "display_data"
    }
   ],
   "source": [
    "plt.figure(figsize=(10,4))\n",
    "DATA[\"COND\"].value_counts().plot(kind='bar')"
   ]
  },
  {
   "cell_type": "markdown",
   "metadata": {},
   "source": [
    "too many weather conditions, map these conditions to fewer categories (<b>binning</b>)"
   ]
  },
  {
   "cell_type": "code",
   "execution_count": 5,
   "metadata": {},
   "outputs": [
    {
     "data": {
      "text/plain": [
       "NORMAL_WEATHER     5721\n",
       "HARD_WEATHER        308\n",
       "EXTREME_WEATHER     262\n",
       "UNKNOWN_WEATHER     137\n",
       "Name: COND, dtype: int64"
      ]
     },
     "execution_count": 5,
     "metadata": {},
     "output_type": "execute_result"
    },
    {
     "data": {
      "image/png": "[encoded data removed]",
      "text/plain": [
       "<Figure size 432x144 with 1 Axes>"
      ]
     },
     "metadata": {},
     "output_type": "display_data"
    }
   ],
   "source": [
    "WeatherConditionsDifficultyLevel = { \n",
    "    'NORMAL_WEATHER' :['Closed Roof','Covered Roof','Dome','Clear','Cloudy',\n",
    "                       'Partly Cloudy','Mostly Cloudy','Fair','Partly CLoudy',\n",
    "                       'Sunny','Mostly Sunny','Partly Sunny'],\n",
    "    'HARD_WEATHER'   :['Chance Rain','Light Rain','Flurries','Light Snow','Light Showers'],\n",
    "    'EXTREME_WEATHER':['Rain','Showers','Snow','Foggy','Hazy','Thunderstorms','Cold',\n",
    "                     'Windy','Overcast']\n",
    "}\n",
    "\n",
    "def get_weather_category(dict, text):\n",
    "    if(text==''):\n",
    "        return 'UNKNOWN_WEATHER'\n",
    "    for k,v in dict.items():        \n",
    "        for val in dict[k]:\n",
    "            if(val == text):\n",
    "                return k\n",
    "    return text\n",
    "DATA[\"COND\"] = DATA.apply(lambda row: get_weather_category(WeatherConditionsDifficultyLevel, row['COND']), axis=1)\n",
    "plt.figure(figsize=(6,2))\n",
    "DATA[\"COND\"].value_counts().plot(kind='barh')\n",
    "DATA[\"COND\"].value_counts()"
   ]
  },
  {
   "cell_type": "code",
   "execution_count": 6,
   "metadata": {},
   "outputs": [],
   "source": [
    "DATA=pd.concat([DATA,pd.get_dummies(DATA[\"COND\"])], axis=1)"
   ]
  },
  {
   "cell_type": "code",
   "execution_count": 7,
   "metadata": {},
   "outputs": [
    {
     "ename": "KeyError",
     "evalue": "\"['Is_Weather_Hard'] not in index\"",
     "output_type": "error",
     "traceback": [
      "\u001b[1;31m---------------------------------------------------------------------------\u001b[0m",
      "\u001b[1;31mKeyError\u001b[0m                                  Traceback (most recent call last)",
      "\u001b[1;32m<ipython-input-7-8c737bb225bd>\u001b[0m in \u001b[0;36m<module>\u001b[1;34m()\u001b[0m\n\u001b[0;32m      1\u001b[0m \u001b[0mDATA\u001b[0m\u001b[1;33m.\u001b[0m\u001b[0mapply\u001b[0m\u001b[1;33m(\u001b[0m\u001b[0mpd\u001b[0m\u001b[1;33m.\u001b[0m\u001b[0mto_numeric\u001b[0m\u001b[1;33m,\u001b[0m\u001b[0merrors\u001b[0m\u001b[1;33m=\u001b[0m\u001b[1;34m'ignore'\u001b[0m\u001b[1;33m)\u001b[0m\u001b[1;33m\u001b[0m\u001b[0m\n\u001b[1;32m----> 2\u001b[1;33m \u001b[0mDATA\u001b[0m\u001b[1;33m[\u001b[0m\u001b[1;33m[\u001b[0m\u001b[1;34m'PLAY_COUNT'\u001b[0m\u001b[1;33m,\u001b[0m\u001b[1;34m'SUCCESS_PRCNTG'\u001b[0m\u001b[1;33m,\u001b[0m\u001b[1;34m'BLOCKED_PRCNTG'\u001b[0m\u001b[1;33m,\u001b[0m\u001b[1;34m'HIGH_PRESSURE_SUCCESS_PRCNTG'\u001b[0m\u001b[1;33m,\u001b[0m\u001b[1;34m'HIGH_PRESSURE_COUNT'\u001b[0m\u001b[1;33m,\u001b[0m\u001b[1;34m'LONG_DIST_SUCCESS_PRCNTG'\u001b[0m\u001b[1;33m,\u001b[0m\u001b[1;34m'LONG_DIST_COUNT'\u001b[0m\u001b[1;33m,\u001b[0m\u001b[1;34m'Is_Weather_Hard'\u001b[0m\u001b[1;33m]\u001b[0m\u001b[1;33m]\u001b[0m\u001b[1;33m=\u001b[0m\u001b[0mDATA\u001b[0m\u001b[1;33m[\u001b[0m\u001b[1;33m[\u001b[0m\u001b[1;34m'PLAY_COUNT'\u001b[0m\u001b[1;33m,\u001b[0m\u001b[1;34m'SUCCESS_PRCNTG'\u001b[0m\u001b[1;33m,\u001b[0m\u001b[1;34m'BLOCKED_PRCNTG'\u001b[0m\u001b[1;33m,\u001b[0m\u001b[1;34m'HIGH_PRESSURE_SUCCESS_PRCNTG'\u001b[0m\u001b[1;33m,\u001b[0m\u001b[1;34m'HIGH_PRESSURE_COUNT'\u001b[0m\u001b[1;33m,\u001b[0m\u001b[1;34m'LONG_DIST_SUCCESS_PRCNTG'\u001b[0m\u001b[1;33m,\u001b[0m\u001b[1;34m'LONG_DIST_COUNT'\u001b[0m\u001b[1;33m,\u001b[0m\u001b[1;34m'Is_Weather_Hard'\u001b[0m\u001b[1;33m]\u001b[0m\u001b[1;33m]\u001b[0m\u001b[1;33m.\u001b[0m\u001b[0mapply\u001b[0m\u001b[1;33m(\u001b[0m\u001b[0mpd\u001b[0m\u001b[1;33m.\u001b[0m\u001b[0mto_numeric\u001b[0m\u001b[1;33m)\u001b[0m\u001b[1;33m\u001b[0m\u001b[0m\n\u001b[0m\u001b[0;32m      3\u001b[0m \u001b[0mDATA\u001b[0m\u001b[1;33m[\u001b[0m\u001b[1;33m[\u001b[0m\u001b[1;34m'FKICKER'\u001b[0m\u001b[1;33m,\u001b[0m\u001b[1;34m'PLAY_COUNT'\u001b[0m\u001b[1;33m,\u001b[0m\u001b[1;34m'SUCCESS_PRCNTG'\u001b[0m\u001b[1;33m,\u001b[0m\u001b[1;34m'BLOCKED_PRCNTG'\u001b[0m\u001b[1;33m,\u001b[0m\u001b[1;34m'HIGH_PRESSURE_SUCCESS_PRCNTG'\u001b[0m\u001b[1;33m,\u001b[0m\u001b[1;34m'HIGH_PRESSURE_COUNT'\u001b[0m\u001b[1;33m,\u001b[0m\u001b[1;34m'LONG_DIST_SUCCESS_PRCNTG'\u001b[0m\u001b[1;33m,\u001b[0m\u001b[1;34m'LONG_DIST_COUNT'\u001b[0m\u001b[1;33m,\u001b[0m\u001b[1;34m'Is_Weather_Hard'\u001b[0m\u001b[1;33m]\u001b[0m\u001b[1;33m]\u001b[0m\u001b[1;33m.\u001b[0m\u001b[0mhead\u001b[0m\u001b[1;33m(\u001b[0m\u001b[1;36m13\u001b[0m\u001b[1;33m)\u001b[0m\u001b[1;33m\u001b[0m\u001b[0m\n",
      "\u001b[1;32m~\\Anaconda3\\envs\\GTU\\lib\\site-packages\\pandas\\core\\frame.py\u001b[0m in \u001b[0;36m__getitem__\u001b[1;34m(self, key)\u001b[0m\n\u001b[0;32m   2131\u001b[0m         \u001b[1;32mif\u001b[0m \u001b[0misinstance\u001b[0m\u001b[1;33m(\u001b[0m\u001b[0mkey\u001b[0m\u001b[1;33m,\u001b[0m \u001b[1;33m(\u001b[0m\u001b[0mSeries\u001b[0m\u001b[1;33m,\u001b[0m \u001b[0mnp\u001b[0m\u001b[1;33m.\u001b[0m\u001b[0mndarray\u001b[0m\u001b[1;33m,\u001b[0m \u001b[0mIndex\u001b[0m\u001b[1;33m,\u001b[0m \u001b[0mlist\u001b[0m\u001b[1;33m)\u001b[0m\u001b[1;33m)\u001b[0m\u001b[1;33m:\u001b[0m\u001b[1;33m\u001b[0m\u001b[0m\n\u001b[0;32m   2132\u001b[0m             \u001b[1;31m# either boolean or fancy integer index\u001b[0m\u001b[1;33m\u001b[0m\u001b[1;33m\u001b[0m\u001b[0m\n\u001b[1;32m-> 2133\u001b[1;33m             \u001b[1;32mreturn\u001b[0m \u001b[0mself\u001b[0m\u001b[1;33m.\u001b[0m\u001b[0m_getitem_array\u001b[0m\u001b[1;33m(\u001b[0m\u001b[0mkey\u001b[0m\u001b[1;33m)\u001b[0m\u001b[1;33m\u001b[0m\u001b[0m\n\u001b[0m\u001b[0;32m   2134\u001b[0m         \u001b[1;32melif\u001b[0m \u001b[0misinstance\u001b[0m\u001b[1;33m(\u001b[0m\u001b[0mkey\u001b[0m\u001b[1;33m,\u001b[0m \u001b[0mDataFrame\u001b[0m\u001b[1;33m)\u001b[0m\u001b[1;33m:\u001b[0m\u001b[1;33m\u001b[0m\u001b[0m\n\u001b[0;32m   2135\u001b[0m             \u001b[1;32mreturn\u001b[0m \u001b[0mself\u001b[0m\u001b[1;33m.\u001b[0m\u001b[0m_getitem_frame\u001b[0m\u001b[1;33m(\u001b[0m\u001b[0mkey\u001b[0m\u001b[1;33m)\u001b[0m\u001b[1;33m\u001b[0m\u001b[0m\n",
      "\u001b[1;32m~\\Anaconda3\\envs\\GTU\\lib\\site-packages\\pandas\\core\\frame.py\u001b[0m in \u001b[0;36m_getitem_array\u001b[1;34m(self, key)\u001b[0m\n\u001b[0;32m   2175\u001b[0m             \u001b[1;32mreturn\u001b[0m \u001b[0mself\u001b[0m\u001b[1;33m.\u001b[0m\u001b[0m_take\u001b[0m\u001b[1;33m(\u001b[0m\u001b[0mindexer\u001b[0m\u001b[1;33m,\u001b[0m \u001b[0maxis\u001b[0m\u001b[1;33m=\u001b[0m\u001b[1;36m0\u001b[0m\u001b[1;33m,\u001b[0m \u001b[0mconvert\u001b[0m\u001b[1;33m=\u001b[0m\u001b[1;32mFalse\u001b[0m\u001b[1;33m)\u001b[0m\u001b[1;33m\u001b[0m\u001b[0m\n\u001b[0;32m   2176\u001b[0m         \u001b[1;32melse\u001b[0m\u001b[1;33m:\u001b[0m\u001b[1;33m\u001b[0m\u001b[0m\n\u001b[1;32m-> 2177\u001b[1;33m             \u001b[0mindexer\u001b[0m \u001b[1;33m=\u001b[0m \u001b[0mself\u001b[0m\u001b[1;33m.\u001b[0m\u001b[0mloc\u001b[0m\u001b[1;33m.\u001b[0m\u001b[0m_convert_to_indexer\u001b[0m\u001b[1;33m(\u001b[0m\u001b[0mkey\u001b[0m\u001b[1;33m,\u001b[0m \u001b[0maxis\u001b[0m\u001b[1;33m=\u001b[0m\u001b[1;36m1\u001b[0m\u001b[1;33m)\u001b[0m\u001b[1;33m\u001b[0m\u001b[0m\n\u001b[0m\u001b[0;32m   2178\u001b[0m             \u001b[1;32mreturn\u001b[0m \u001b[0mself\u001b[0m\u001b[1;33m.\u001b[0m\u001b[0m_take\u001b[0m\u001b[1;33m(\u001b[0m\u001b[0mindexer\u001b[0m\u001b[1;33m,\u001b[0m \u001b[0maxis\u001b[0m\u001b[1;33m=\u001b[0m\u001b[1;36m1\u001b[0m\u001b[1;33m,\u001b[0m \u001b[0mconvert\u001b[0m\u001b[1;33m=\u001b[0m\u001b[1;32mTrue\u001b[0m\u001b[1;33m)\u001b[0m\u001b[1;33m\u001b[0m\u001b[0m\n\u001b[0;32m   2179\u001b[0m \u001b[1;33m\u001b[0m\u001b[0m\n",
      "\u001b[1;32m~\\Anaconda3\\envs\\GTU\\lib\\site-packages\\pandas\\core\\indexing.py\u001b[0m in \u001b[0;36m_convert_to_indexer\u001b[1;34m(self, obj, axis, is_setter)\u001b[0m\n\u001b[0;32m   1267\u001b[0m                 \u001b[1;32mif\u001b[0m \u001b[0mmask\u001b[0m\u001b[1;33m.\u001b[0m\u001b[0many\u001b[0m\u001b[1;33m(\u001b[0m\u001b[1;33m)\u001b[0m\u001b[1;33m:\u001b[0m\u001b[1;33m\u001b[0m\u001b[0m\n\u001b[0;32m   1268\u001b[0m                     raise KeyError('{mask} not in index'\n\u001b[1;32m-> 1269\u001b[1;33m                                    .format(mask=objarr[mask]))\n\u001b[0m\u001b[0;32m   1270\u001b[0m \u001b[1;33m\u001b[0m\u001b[0m\n\u001b[0;32m   1271\u001b[0m                 \u001b[1;32mreturn\u001b[0m \u001b[0m_values_from_object\u001b[0m\u001b[1;33m(\u001b[0m\u001b[0mindexer\u001b[0m\u001b[1;33m)\u001b[0m\u001b[1;33m\u001b[0m\u001b[0m\n",
      "\u001b[1;31mKeyError\u001b[0m: \"['Is_Weather_Hard'] not in index\""
     ]
    }
   ],
   "source": [
    "DATA.apply(pd.to_numeric,errors='ignore')\n",
    "DATA[['PLAY_COUNT','SUCCESS_PRCNTG','BLOCKED_PRCNTG','HIGH_PRESSURE_SUCCESS_PRCNTG','HIGH_PRESSURE_COUNT','LONG_DIST_SUCCESS_PRCNTG','LONG_DIST_COUNT','Is_Weather_Hard']]=DATA[['PLAY_COUNT','SUCCESS_PRCNTG','BLOCKED_PRCNTG','HIGH_PRESSURE_SUCCESS_PRCNTG','HIGH_PRESSURE_COUNT','LONG_DIST_SUCCESS_PRCNTG','LONG_DIST_COUNT','Is_Weather_Hard']].apply(pd.to_numeric)\n",
    "DATA[['FKICKER','PLAY_COUNT','SUCCESS_PRCNTG','BLOCKED_PRCNTG','HIGH_PRESSURE_SUCCESS_PRCNTG','HIGH_PRESSURE_COUNT','LONG_DIST_SUCCESS_PRCNTG','LONG_DIST_COUNT','Is_Weather_Hard']].head(13)"
   ]
  },
  {
   "cell_type": "markdown",
   "metadata": {},
   "source": [
    "## Exploring Kicker performances with in game and between different conditions\n"
   ]
  },
  {
   "cell_type": "markdown",
   "metadata": {},
   "source": [
    "We will figure out if there is any variance in performance of a player with in games and between different conditions<br/>\n",
    "<b>H<sub>0</sub></b> : No difference in performace within and between groups<br/>\n",
    "<b>H<sub>A</sub></b> : There is a difference in performace within and between groups"
   ]
  },
  {
   "cell_type": "code",
   "execution_count": null,
   "metadata": {},
   "outputs": [],
   "source": [
    "from IPython.html.widgets import *\n",
    "import plotly as py\n",
    "import plotly.graph_objs as go\n",
    "from IPython.core.display import display, HTML\n",
    "def filterData(Player):\n",
    "    p,q = Player.split(':')\n",
    "    cdf= DATA[DATA['FKICKER'] == p][['FKICKER','GID','PLAY_COUNT','SUCCESS_PRCNTG','BLOCKED_PRCNTG','HIGH_PRESSURE_SUCCESS_PRCNTG','LONG_DIST_SUCCESS_PRCNTG','EXTREME_WEATHER','HARD_WEATHER','NORMAL_WEATHER']]\n",
    "    #cdf[['SUCCESS_PRCNTG','BLOCKED_PRCNTG','HIGH_PRESSURE_SUCCESS_PRCNTG','LONG_DIST_SUCCESS_PRCNTG']].boxplot(return_type='axes', figsize=(12,8))\n",
    "    k=2 # degrees of freedom for variance between the groups i.e. number of groups - 1 = 3- 1 = 2\n",
    "    n=cdf.size - 3 # degrees of freedom for variance within the groups i.e. number of observations - number of groups\n",
    "    from scipy import stats\n",
    "    f, p= stats.f_oneway(cdf['SUCCESS_PRCNTG'], cdf['HIGH_PRESSURE_SUCCESS_PRCNTG'],cdf['LONG_DIST_SUCCESS_PRCNTG'])\n",
    "    print('f:' + str(f) + ', p:'+ str(p)) # F= between groups/within groups\n",
    "    if f>1 and p < .05:\n",
    "        display(HTML(\"<b>Conclusion</b>: f is large and p is significantly low so we can reject H<sub>0</sub> and accept H<sub>A</sub>. Player performance varies within games and between different conditions.\"))\n",
    "    else:\n",
    "        display(HTML(\"<b>Conclusion</b>: Does not have enough evidence to reject H<sub>0</sub>\"))\n",
    "        \n",
    "PLAYER_LABLES = (DATA['FKICKER'] + \":\" + DATA['PLAYER_NAME']).unique()\n",
    "form=interactive(filterData,Player=PLAYER_LABLES)\n",
    "display(form)"
   ]
  },
  {
   "cell_type": "markdown",
   "metadata": {},
   "source": [
    "## Calculate averages and consistency ratings\n",
    "\n",
    "The ability to perform well in individual matches at critical moments is important, but consistently performing at a high level of skill creates a statistical divide between lucky players and highly skilled players. As a result, measuring empirical variance is an important aspect to determining a player’s skill level.\n",
    "\n",
    "For averages we can consider/use player mean success percentage in each game.<br/>\n",
    "To measure player consistency, we borrow a concept from probability theory called the coefficient of variation (CV). This measures a player’s standardized performance dispersion. \n",
    "\n",
    "CV = (Std_dev/mean)\n",
    "\n",
    "The result of this means that lower CV values result in less variation in performance, indicating a higher degree of consistency. As the CV increases, players become less and less consistent. This means we now have an empirical range with which we can determine the ability of players to perform consistently at a given level of performance.\n",
    "\n",
    "Consistency = 1/CV"
   ]
  },
  {
   "cell_type": "code",
   "execution_count": null,
   "metadata": {
    "scrolled": false
   },
   "outputs": [],
   "source": [
    "%matplotlib notebook \n",
    "\n",
    "def plot(choices, player=''):\n",
    "    py.offline.init_notebook_mode(connected=True)\n",
    "\n",
    "    trace=[]\n",
    "    for i in range(0,len(choices)):\n",
    "        if(i==0):\n",
    "            color = 'rgba(100, 100, 100, .8)'\n",
    "        elif(i==1):\n",
    "            color = 'rgba(0, 0, 255, .8)',\n",
    "        elif(i==2):\n",
    "            color = 'rgba(255, 0, 0, .8)',\n",
    "        elif(i==3):\n",
    "            color = 'rgba(255, 255, 100, .8)'\n",
    "        elif(i==4):\n",
    "            color = 'rgba(255, 255, 200, .8)'\n",
    "        trace.append(go.Scatter(\n",
    "            x = all_results[choices[i]]['MEAN'],\n",
    "            y = all_results[choices[i]]['CNTC'],\n",
    "            name = choices[i],\n",
    "            mode = 'markers',\n",
    "            #text = 'Count: ' + str(all_results[choices[i]]['COUNT']),\n",
    "            marker = dict(\n",
    "                size = 5,\n",
    "                color = color,\n",
    "                line = dict(\n",
    "                    width = .40,\n",
    "                    color = 'rgb(0, 0, 0)'\n",
    "                )\n",
    "            )\n",
    "        ))\n",
    "   \n",
    "\n",
    "    layout = dict(title = 'Consistency - Average (' + player + ')' ,\n",
    "                  xaxis=dict(\n",
    "                        title='Average',\n",
    "                        titlefont=dict(\n",
    "                            family='Courier New, monospace',\n",
    "                            size=18,\n",
    "                            color='#7f7f7f'\n",
    "                        ),\n",
    "                            zeroline = True\n",
    "                       ),\n",
    "                        yaxis=dict(\n",
    "                            title='Consistency',\n",
    "                            titlefont=dict(\n",
    "                                family='Courier New, monospace',\n",
    "                                size=18,\n",
    "                                color='#7f7f7f'\n",
    "                            ),\n",
    "                            zeroline = True\n",
    "                        ),\n",
    "\n",
    "                  hovermode= 'closest',\n",
    "                  #width=800,\n",
    "                  #height=700,\n",
    "                 )\n",
    "\n",
    "    fig= go.Figure(data=trace, layout=layout)\n",
    "    py.offline.iplot(fig)\n",
    "    \n",
    "\n",
    "all_results={}    \n",
    "def filterData(kicks=0, player=''):\n",
    "    global players_keys, players_values, A_DATA\n",
    "    \n",
    "    choices = ['All','Long Distance','High Pressure','Extreme Weather']\n",
    "    for i in range(0,len(choices)):\n",
    "        if(i == 0 or i==3):\n",
    "            total_counter_name ='PLAY_COUNT'\n",
    "            success_column_name=''\n",
    "            success_percent_counter_name = 'SUCCESS_PRCNTG'\n",
    "        elif(i==1):            \n",
    "            total_counter_name ='LONG_DIST_COUNT'\n",
    "            success_percent_counter_name = 'LONG_DIST_SUCCESS_PRCNTG'\n",
    "        elif(i==2):\n",
    "            total_counter_name ='HIGH_PRESSURE_COUNT'\n",
    "            success_percent_counter_name = 'HIGH_PRESSURE_SUCCESS_PRCNTG'\n",
    "\n",
    "        result = DATA[DATA[total_counter_name]!=0]\n",
    "        if(i==3):\n",
    "            result = DATA[DATA['EXTREME_WEATHER']==1]\n",
    "            \n",
    "        result['PLAYER_LABLE'] = result['FKICKER'] + \":\" + result['PLAYER_NAME']\n",
    "        result = result.groupby(['PLAYER_LABLE'], as_index=False).agg(\n",
    "        {total_counter_name:['sum'],success_percent_counter_name:['mean','std']})\n",
    "        result.columns = ['PLAYER_LABLE','COUNT','MEAN','STD']\n",
    "        result.reindex(columns=sorted(result.columns))\n",
    "        result['CV'] = result['STD']/result['MEAN']\n",
    "        result = result[result['COUNT']>kicks]\n",
    "        if(player != 'All'):\n",
    "            result = result[result['PLAYER_LABLE'] == player]\n",
    "        \n",
    "        result['CNTC'] = 1/result['CV']\n",
    "        # sclaing features\n",
    "        result['MEAN'] = result['MEAN']/100\n",
    "        result['CNTC'] = result['CNTC']/10\n",
    "        all_results[choices[i]] = result\n",
    "        \n",
    "        \n",
    "    plot(choices, player) \n",
    "    \n",
    "PLAYER_LABLES = (DATA['FKICKER'] + \":\" + DATA['PLAYER_NAME']).unique()\n",
    "PLAYER_KEYS = pd.concat([pd.Series('All'),pd.Series(PLAYER_LABLES)]) \n",
    "form=interactive(filterData,kicks=(0,100,1),player=PLAYER_KEYS)\n",
    "display(form)"
   ]
  },
  {
   "cell_type": "code",
   "execution_count": null,
   "metadata": {},
   "outputs": [],
   "source": [
    "df = DATA\n",
    "df.plot()\n",
    "#df.plot(x='A', y='B')\n",
    "#df.plot(kind='bar')\n"
   ]
  },
  {
   "cell_type": "markdown",
   "metadata": {},
   "source": [
    "<b>Conclusion:</b> \n",
    "Above we saw in most of the cases we rejected null hypothesis, it means change of condition, distance and pressure affect performace. \n",
    "<br /><br />\n",
    "We also found same in above consitency vs average plot that distance, pressure and conditions effect player performace.\n",
    "<br /><br />\n",
    "Pro bowl selection depend upon player performace, so it means we should select these features while making model."
   ]
  }
 ],
 "metadata": {
  "kernelspec": {
   "display_name": "Python 3",
   "language": "python",
   "name": "python3"
  },
  "language_info": {
   "codemirror_mode": {
    "name": "ipython",
    "version": 3
   },
   "file_extension": ".py",
   "mimetype": "text/x-python",
   "name": "python",
   "nbconvert_exporter": "python",
   "pygments_lexer": "ipython3",
   "version": "3.6.5"
  }
 },
 "nbformat": 4,
 "nbformat_minor": 2
}
