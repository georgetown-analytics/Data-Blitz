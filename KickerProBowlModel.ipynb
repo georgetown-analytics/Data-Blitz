{
 "cells": [
  {
   "cell_type": "markdown",
   "metadata": {},
   "source": [
    "## Prepare Data"
   ]
  },
  {
   "cell_type": "markdown",
   "metadata": {},
   "source": [
    "Get seasons wise kickers and pro bowl data"
   ]
  },
  {
   "cell_type": "code",
   "execution_count": 2,
   "metadata": {},
   "outputs": [
    {
     "name": "stderr",
     "output_type": "stream",
     "text": [
      "C:\\Users\\deeka\\Anaconda3\\envs\\GTU\\lib\\site-packages\\IPython\\html.py:14: ShimWarning: The `IPython.html` package has been deprecated since IPython 4.0. You should import from `notebook` instead. `IPython.html.widgets` has moved to `ipywidgets`.\n",
      "  \"`IPython.html.widgets` has moved to `ipywidgets`.\", ShimWarning)\n"
     ]
    }
   ],
   "source": [
    "import mysql.connector\n",
    "import pandas as pd\n",
    "import numpy as np\n",
    "from pandas import DataFrame\n",
    "import matplotlib.mlab as mlab\n",
    "from mysql.connector import errorcode\n",
    "import matplotlib.pyplot as plt\n",
    "from __future__ import print_function\n",
    "from ipywidgets import interact, interactive, fixed, interact_manual\n",
    "import ipywidgets as widgets\n",
    "from IPython.display import display, clear_output\n",
    "from IPython.html.widgets import *\n",
    "import plotly as py\n",
    "import plotly.graph_objs as go\n",
    "from sklearn.metrics import mean_squared_error as mse\n",
    "from sklearn.metrics import r2_score\n",
    "import os\n",
    "import json\n",
    "import time\n",
    "import pickle\n",
    "import requests\n",
    "from sklearn.feature_selection import SelectFromModel\n",
    "from sklearn.linear_model import Ridge, Lasso, ElasticNet\n",
    "from sklearn.discriminant_analysis import LinearDiscriminantAnalysis as LDA\n",
    "import configparser\n",
    "\n",
    "%matplotlib inline"
   ]
  },
  {
   "cell_type": "code",
   "execution_count": null,
   "metadata": {},
   "outputs": [],
   "source": [
    "config = configparser.ConfigParser()\n",
    "config.read('dbConfig.ini')\n",
    "dbConfig = config['ConnectionString']['dbConfig']\n",
    "\n",
    "QUERY = \"\"\"SELECT \n",
    "        FKICKER,COND,SURF,      \n",
    "        Percentage.GID,\n",
    "        GAME.SEAS AS SEASON,\n",
    "        CAST(((SUM(SUCCESS) / COUNT(*)) * 100) AS decimal(38,2)) AS SUCCESS_PRCNTG,\n",
    "        CAST(((SUM(BLOCKED) / COUNT(*)) * 100) AS decimal(38,2)) AS BLOCKED_PRCNTG,\n",
    "        CAST(COUNT(*) AS decimal(38,5)) AS PLAY_COUNT,\n",
    "        CAST(CASE\n",
    "            WHEN SUM(HIGH_PRESSURE) = 0 THEN 0\n",
    "            ELSE ((SUM(HIGH_PRESSURE_SUCCESS) / SUM(HIGH_PRESSURE)) * 100)\n",
    "        END AS decimal(38,5)) AS HIGH_PRESSURE_SUCCESS_PRCNTG,\n",
    "        CAST(SUM(HIGH_PRESSURE) AS decimal(38,5)) AS HIGH_PRESSURE_COUNT,\n",
    "        CAST(CASE\n",
    "            WHEN SUM(LONG_DIST) = 0 THEN 0\n",
    "            ELSE ((SUM(LONG_DIST_SUCCESS) / SUM(LONG_DIST)) * 100)\n",
    "        END AS decimal(38,5)) AS LONG_DIST_SUCCESS_PRCNTG, \n",
    "        CAST(SUM(LONG_DIST) AS decimal(38,5)) AS LONG_DIST_COUNT,\n",
    "        TEMP,\n",
    "        HUMD,\n",
    "        WSPD,\n",
    "        (GAME.SEAS - PLAYER.start) AS YEARS_PLAYED,\n",
    "        height,\n",
    "        weight,\n",
    "        PLAYER.forty,\n",
    "        PLAYER.bench,\n",
    "        PLAYER.vertical,\n",
    "        PLAYER.broad,\n",
    "        PLAYER.shuttle,\n",
    "        PLAYER.cone,\n",
    "        PLAYER.arm,\n",
    "        PLAYER.hand,\n",
    "        PLAYER.dcp,\n",
    "        DPOS AS DRAFT_POSITION,\n",
    "        CAST((SELECT \n",
    "                (TO_DAYS(NOW()) - TO_DAYS(STR_TO_DATE(dob, '%m/%d/%Y'))) / 365\n",
    "            FROM\n",
    "                db_nfl.PLAYER P\n",
    "            WHERE\n",
    "                P.player = FKICKER) AS decimal(38,5)) AS AGE_YEARS,\n",
    "        CASE WHEN PRO_BOWL.ProBowl_Level IS NULL THEN 0 ELSE 1 END AS INPROBOWLTEAM\n",
    "    FROM\n",
    "        (SELECT \n",
    "            FGXP,\n",
    "                PBP.GID,\n",
    "                PBP.FKICKER,\n",
    "                CASE\n",
    "                    WHEN GOOD = 'Y' THEN 1\n",
    "                    ELSE 0\n",
    "                END AS SUCCESS,\n",
    "                CASE\n",
    "                    WHEN UPPER(DETAIL) LIKE '%BLOCKED%' THEN 1\n",
    "                    ELSE 0\n",
    "                END AS BLOCKED,\n",
    "                CASE\n",
    "                    WHEN\n",
    "                        QTR IN ('2' , '4') AND MIN <= 2\n",
    "                            AND (PTSO - PTSD) >= - 3\n",
    "                    THEN\n",
    "                        1\n",
    "                    ELSE 0\n",
    "                END AS HIGH_PRESSURE,\n",
    "                CASE\n",
    "                    WHEN\n",
    "                        QTR IN ('2' , '4') AND MIN <= 2\n",
    "                            AND (PTSO - PTSD) >= - 3\n",
    "                            AND GOOD = 'Y'\n",
    "                    THEN\n",
    "                        1\n",
    "                    ELSE 0\n",
    "                END AS HIGH_PRESSURE_SUCCESS,\n",
    "                CASE\n",
    "                    WHEN DIST >= 50 THEN 1\n",
    "                    ELSE 0\n",
    "                END AS LONG_DIST,\n",
    "                CASE\n",
    "                    WHEN DIST >= 50 AND GOOD = 'Y' THEN 1\n",
    "                    ELSE 0\n",
    "                END AS LONG_DIST_SUCCESS,\n",
    "                DIST - (100 - CASE\n",
    "                    WHEN YFOG = '' THEN '98'\n",
    "                    ELSE YFOG\n",
    "                END) AS YDS_BEHIND_LOS\n",
    "        FROM\n",
    "            db_nfl.PBP\n",
    "        LEFT OUTER JOIN db_nfl.PLAYER PLAYER ON PBP.FKICKER = PLAYER.PLAYER\n",
    "        WHERE POS1 = 'K' ) AS Percentage\n",
    "            LEFT OUTER JOIN\n",
    "        db_nfl.PLAYER PLAYER ON Percentage.FKICKER = PLAYER.PLAYER\n",
    "            LEFT OUTER JOIN\n",
    "        db_nfl.GAME ON Percentage.GID = GAME.GID \n",
    "        LEFT OUTER JOIN\n",
    "        db_nfl.PRO_BOWL ON PRO_BOWL.PLAYER_ID = PLAYER.PLAYER AND GAME.SEAS = ProBowl_Year        \n",
    "    GROUP BY FKICKER , GAME.GID\n",
    "    ORDER BY FKICKER , GAME.GID;\"\"\"\n",
    "\n",
    "FEATURES = ['FKICKER','COND','SURF','GID','SEASON','SUCCESS_PRCNTG','BLOCKED_PRCNTG','PLAY_COUNT',\n",
    "        'HIGH_PRESSURE_SUCCESS_PRCNTG','HIGH_PRESSURE_COUNT','LONG_DIST_SUCCESS_PRCNTG','LONG_DIST_COUNT',\n",
    "        'TEMP','HUMD','WSPD', \n",
    "        'YEARS_PLAYED','height','weight','forty','bench',\n",
    "        'vertical','broad','shuttle','cone',\n",
    "        'arm','hand','dcp','DRAFT_POSITION','AGE_YEARS','INPROBOWLTEAM']\n",
    "\n",
    "def fetch_data():   \n",
    "    try:\n",
    "        cnx = mysql.connector.connect(**eval(dbConfig))\n",
    "        cursor = cnx.cursor()\n",
    "        #Let's read all the rows in the table\n",
    "        cursor.execute(QUERY)\n",
    "        #specify the attributes that you want to display\n",
    "        df = DataFrame(cursor.fetchall())    \n",
    "        df.columns = FEATURES\n",
    "        cnx.commit()\n",
    "    except mysql.connector.Error as err:\n",
    "        if err.errno == errorcode.ER_ACCESS_DENIED_ERROR:\n",
    "            print(\"Something is wrong with your user name or password\")\n",
    "        elif err.errno == errorcode.ER_BAD_DB_ERROR:\n",
    "            print(\"Database does not exist\")\n",
    "        else:\n",
    "            print(err)\n",
    "    else:\n",
    "        \n",
    "        return df\n",
    "        cursor.close()\n",
    "        cnx.close()\n",
    "DATA = fetch_data()     "
   ]
  },
  {
   "cell_type": "code",
   "execution_count": 3,
   "metadata": {},
   "outputs": [
    {
     "data": {
      "text/html": [
       "<div>\n",
       "<style scoped>\n",
       "    .dataframe tbody tr th:only-of-type {\n",
       "        vertical-align: middle;\n",
       "    }\n",
       "\n",
       "    .dataframe tbody tr th {\n",
       "        vertical-align: top;\n",
       "    }\n",
       "\n",
       "    .dataframe thead th {\n",
       "        text-align: right;\n",
       "    }\n",
       "</style>\n",
       "<table border=\"1\" class=\"dataframe\">\n",
       "  <thead>\n",
       "    <tr style=\"text-align: right;\">\n",
       "      <th></th>\n",
       "      <th>FKICKER</th>\n",
       "      <th>COND</th>\n",
       "      <th>SURF</th>\n",
       "      <th>GID</th>\n",
       "      <th>SEASON</th>\n",
       "      <th>SUCCESS_PRCNTG</th>\n",
       "      <th>BLOCKED_PRCNTG</th>\n",
       "      <th>PLAY_COUNT</th>\n",
       "      <th>HIGH_PRESSURE_SUCCESS_PRCNTG</th>\n",
       "      <th>HIGH_PRESSURE_COUNT</th>\n",
       "      <th>...</th>\n",
       "      <th>vertical</th>\n",
       "      <th>broad</th>\n",
       "      <th>shuttle</th>\n",
       "      <th>cone</th>\n",
       "      <th>arm</th>\n",
       "      <th>hand</th>\n",
       "      <th>dcp</th>\n",
       "      <th>DRAFT_POSITION</th>\n",
       "      <th>AGE_YEARS</th>\n",
       "      <th>INPROBOWLTEAM</th>\n",
       "    </tr>\n",
       "  </thead>\n",
       "  <tbody>\n",
       "    <tr>\n",
       "      <th>0</th>\n",
       "      <td>AD-0800</td>\n",
       "      <td>Mostly Cloudy</td>\n",
       "      <td>AstroTurf</td>\n",
       "      <td>14</td>\n",
       "      <td>2000</td>\n",
       "      <td>100.00</td>\n",
       "      <td>0.00</td>\n",
       "      <td>3.00000</td>\n",
       "      <td>0.00000</td>\n",
       "      <td>0.00000</td>\n",
       "      <td>...</td>\n",
       "      <td>0.0</td>\n",
       "      <td>0</td>\n",
       "      <td>0.0</td>\n",
       "      <td>0.0</td>\n",
       "      <td>0</td>\n",
       "      <td>0.0</td>\n",
       "      <td>0</td>\n",
       "      <td>0</td>\n",
       "      <td>56.31781</td>\n",
       "      <td>0</td>\n",
       "    </tr>\n",
       "    <tr>\n",
       "      <th>1</th>\n",
       "      <td>AD-0800</td>\n",
       "      <td>Cloudy</td>\n",
       "      <td>Grass</td>\n",
       "      <td>28</td>\n",
       "      <td>2000</td>\n",
       "      <td>100.00</td>\n",
       "      <td>0.00</td>\n",
       "      <td>3.00000</td>\n",
       "      <td>100.00000</td>\n",
       "      <td>2.00000</td>\n",
       "      <td>...</td>\n",
       "      <td>0.0</td>\n",
       "      <td>0</td>\n",
       "      <td>0.0</td>\n",
       "      <td>0.0</td>\n",
       "      <td>0</td>\n",
       "      <td>0.0</td>\n",
       "      <td>0</td>\n",
       "      <td>0</td>\n",
       "      <td>56.31781</td>\n",
       "      <td>0</td>\n",
       "    </tr>\n",
       "    <tr>\n",
       "      <th>2</th>\n",
       "      <td>AD-0800</td>\n",
       "      <td>Chance Rain</td>\n",
       "      <td>AstroTurf</td>\n",
       "      <td>54</td>\n",
       "      <td>2000</td>\n",
       "      <td>100.00</td>\n",
       "      <td>0.00</td>\n",
       "      <td>5.00000</td>\n",
       "      <td>100.00000</td>\n",
       "      <td>1.00000</td>\n",
       "      <td>...</td>\n",
       "      <td>0.0</td>\n",
       "      <td>0</td>\n",
       "      <td>0.0</td>\n",
       "      <td>0.0</td>\n",
       "      <td>0</td>\n",
       "      <td>0.0</td>\n",
       "      <td>0</td>\n",
       "      <td>0</td>\n",
       "      <td>56.31781</td>\n",
       "      <td>0</td>\n",
       "    </tr>\n",
       "  </tbody>\n",
       "</table>\n",
       "<p>3 rows × 30 columns</p>\n",
       "</div>"
      ],
      "text/plain": [
       "   FKICKER           COND       SURF GID SEASON SUCCESS_PRCNTG BLOCKED_PRCNTG  \\\n",
       "0  AD-0800  Mostly Cloudy  AstroTurf  14   2000         100.00           0.00   \n",
       "1  AD-0800         Cloudy      Grass  28   2000         100.00           0.00   \n",
       "2  AD-0800    Chance Rain  AstroTurf  54   2000         100.00           0.00   \n",
       "\n",
       "  PLAY_COUNT HIGH_PRESSURE_SUCCESS_PRCNTG HIGH_PRESSURE_COUNT      ...        \\\n",
       "0    3.00000                      0.00000             0.00000      ...         \n",
       "1    3.00000                    100.00000             2.00000      ...         \n",
       "2    5.00000                    100.00000             1.00000      ...         \n",
       "\n",
       "  vertical broad shuttle cone arm hand  dcp  DRAFT_POSITION  AGE_YEARS  \\\n",
       "0      0.0     0     0.0  0.0   0  0.0    0               0   56.31781   \n",
       "1      0.0     0     0.0  0.0   0  0.0    0               0   56.31781   \n",
       "2      0.0     0     0.0  0.0   0  0.0    0               0   56.31781   \n",
       "\n",
       "   INPROBOWLTEAM  \n",
       "0              0  \n",
       "1              0  \n",
       "2              0  \n",
       "\n",
       "[3 rows x 30 columns]"
      ]
     },
     "execution_count": 3,
     "metadata": {},
     "output_type": "execute_result"
    }
   ],
   "source": [
    "DATA.head(3)"
   ]
  },
  {
   "cell_type": "markdown",
   "metadata": {},
   "source": [
    "### Missing value treatement"
   ]
  },
  {
   "cell_type": "code",
   "execution_count": 4,
   "metadata": {},
   "outputs": [
    {
     "data": {
      "text/plain": [
       "FKICKER                         0\n",
       "COND                            0\n",
       "SURF                            0\n",
       "GID                             0\n",
       "SEASON                          0\n",
       "SUCCESS_PRCNTG                  0\n",
       "BLOCKED_PRCNTG                  0\n",
       "PLAY_COUNT                      0\n",
       "HIGH_PRESSURE_SUCCESS_PRCNTG    0\n",
       "HIGH_PRESSURE_COUNT             0\n",
       "LONG_DIST_SUCCESS_PRCNTG        0\n",
       "LONG_DIST_COUNT                 0\n",
       "TEMP                            0\n",
       "HUMD                            0\n",
       "WSPD                            0\n",
       "YEARS_PLAYED                    0\n",
       "height                          0\n",
       "weight                          0\n",
       "forty                           0\n",
       "bench                           0\n",
       "vertical                        0\n",
       "broad                           0\n",
       "shuttle                         0\n",
       "cone                            0\n",
       "arm                             0\n",
       "hand                            0\n",
       "dcp                             0\n",
       "DRAFT_POSITION                  0\n",
       "AGE_YEARS                       0\n",
       "INPROBOWLTEAM                   0\n",
       "dtype: int64"
      ]
     },
     "execution_count": 4,
     "metadata": {},
     "output_type": "execute_result"
    }
   ],
   "source": [
    "#missing value check\n",
    "DATA.isnull().sum()"
   ]
  },
  {
   "cell_type": "markdown",
   "metadata": {},
   "source": [
    "## Feature analysis & selection"
   ]
  },
  {
   "cell_type": "markdown",
   "metadata": {},
   "source": [
    "### Check if it is separable classficiation problem"
   ]
  },
  {
   "cell_type": "code",
   "execution_count": 5,
   "metadata": {},
   "outputs": [
    {
     "data": {
      "text/plain": [
       "<matplotlib.axes._subplots.AxesSubplot at 0x2d210bf6f98>"
      ]
     },
     "execution_count": 5,
     "metadata": {},
     "output_type": "execute_result"
    },
    {
     "data": {
      "image/png": "[encoded data removed]",
      "text/plain": [
       "<Figure size 1080x936 with 1 Axes>"
      ]
     },
     "metadata": {},
     "output_type": "display_data"
    }
   ],
   "source": [
    "#check if it is separable classficiation problem\n",
    "DATA[['PLAY_COUNT','SUCCESS_PRCNTG','BLOCKED_PRCNTG','HIGH_PRESSURE_SUCCESS_PRCNTG','HIGH_PRESSURE_COUNT','LONG_DIST_SUCCESS_PRCNTG','LONG_DIST_COUNT','YEARS_PLAYED','AGE_YEARS']]=DATA[['PLAY_COUNT','SUCCESS_PRCNTG','BLOCKED_PRCNTG','HIGH_PRESSURE_SUCCESS_PRCNTG','HIGH_PRESSURE_COUNT','LONG_DIST_SUCCESS_PRCNTG','LONG_DIST_COUNT','YEARS_PLAYED','AGE_YEARS']].apply(pd.to_numeric)\n",
    "#DATA = DATA[DATA['PLAY_COUNT']>55]\n",
    "#DATA = DATA[DATA['SUCCESS_PRCNTG']>80]\n",
    "from pandas.plotting import radviz\n",
    "plt.figure(figsize=(15,13))\n",
    "radviz(DATA[['PLAY_COUNT','SUCCESS_PRCNTG','BLOCKED_PRCNTG','HIGH_PRESSURE_SUCCESS_PRCNTG','HIGH_PRESSURE_COUNT','LONG_DIST_SUCCESS_PRCNTG','LONG_DIST_COUNT','YEARS_PLAYED','height','weight','forty','bench','vertical','broad','shuttle','cone','arm','hand','dcp','DRAFT_POSITION','AGE_YEARS','INPROBOWLTEAM']], 'INPROBOWLTEAM', color=['red','green'])"
   ]
  },
  {
   "cell_type": "markdown",
   "metadata": {},
   "source": [
    "This looks like good separaable classification problem, we can also see the success percentage and counts have more impact on 1s."
   ]
  },
  {
   "cell_type": "code",
   "execution_count": 6,
   "metadata": {},
   "outputs": [
    {
     "data": {
      "text/plain": [
       "0    8784\n",
       "1     705\n",
       "Name: INPROBOWLTEAM, dtype: int64"
      ]
     },
     "execution_count": 6,
     "metadata": {},
     "output_type": "execute_result"
    },
    {
     "data": {
      "image/png": "[encoded data removed]",
      "text/plain": [
       "<Figure size 432x288 with 1 Axes>"
      ]
     },
     "metadata": {},
     "output_type": "display_data"
    }
   ],
   "source": [
    "DATA['INPROBOWLTEAM'].hist()\n",
    "DATA['INPROBOWLTEAM'].value_counts()"
   ]
  },
  {
   "cell_type": "code",
   "execution_count": 7,
   "metadata": {},
   "outputs": [
    {
     "data": {
      "text/plain": [
       "[('shuttle', 'cone'), ('arm', 'hand')]"
      ]
     },
     "execution_count": 7,
     "metadata": {},
     "output_type": "execute_result"
    }
   ],
   "source": [
    "# check correlation among quantitaive features and pick only one feature out of two too correlated features\n",
    "corr_matrix = DATA.corr().abs()\n",
    "high_corr_var=np.where(corr_matrix>0.8)\n",
    "high_corr_var=[(corr_matrix.index[x],corr_matrix.columns[y]) for x,y in zip(*high_corr_var) if x!=y and x<y]\n",
    "high_corr_var"
   ]
  },
  {
   "cell_type": "markdown",
   "metadata": {},
   "source": [
    "Select features after correaltion check and remove 'TEMP', 'HUMD', 'WSPD' becuase we will use COND column which has same data"
   ]
  },
  {
   "cell_type": "code",
   "execution_count": 8,
   "metadata": {},
   "outputs": [
    {
     "data": {
      "text/plain": [
       "Index(['FKICKER', 'COND', 'SURF', 'GID', 'SEASON', 'SUCCESS_PRCNTG',\n",
       "       'BLOCKED_PRCNTG', 'PLAY_COUNT', 'HIGH_PRESSURE_SUCCESS_PRCNTG',\n",
       "       'HIGH_PRESSURE_COUNT', 'LONG_DIST_SUCCESS_PRCNTG', 'LONG_DIST_COUNT',\n",
       "       'TEMP', 'HUMD', 'WSPD', 'YEARS_PLAYED', 'height', 'weight', 'forty',\n",
       "       'bench', 'vertical', 'broad', 'shuttle', 'cone', 'arm', 'hand', 'dcp',\n",
       "       'DRAFT_POSITION', 'AGE_YEARS', 'INPROBOWLTEAM'],\n",
       "      dtype='object')"
      ]
     },
     "execution_count": 8,
     "metadata": {},
     "output_type": "execute_result"
    }
   ],
   "source": [
    "DATA.columns"
   ]
  },
  {
   "cell_type": "code",
   "execution_count": 9,
   "metadata": {},
   "outputs": [],
   "source": [
    "FEATURES_SELECTED =['FKICKER', 'GID', 'SEASON', 'COND', 'SURF','SUCCESS_PRCNTG',\n",
    "       'BLOCKED_PRCNTG', 'PLAY_COUNT', 'HIGH_PRESSURE_SUCCESS_PRCNTG',\n",
    "       'HIGH_PRESSURE_COUNT', 'LONG_DIST_SUCCESS_PRCNTG', 'LONG_DIST_COUNT',\n",
    "       'YEARS_PLAYED', 'INPROBOWLTEAM']\n",
    "DATA=DATA[FEATURES_SELECTED]"
   ]
  },
  {
   "cell_type": "markdown",
   "metadata": {},
   "source": [
    "FEATURES_SELECTED =['FKICKER', 'GID', 'SEASON', 'COND', 'SURF','SUCCESS_PRCNTG',\n",
    "       'BLOCKED_PRCNTG', 'PLAY_COUNT', 'HIGH_PRESSURE_SUCCESS_PRCNTG',\n",
    "       'HIGH_PRESSURE_COUNT', 'LONG_DIST_SUCCESS_PRCNTG', 'LONG_DIST_COUNT',\n",
    "       'YEARS_PLAYED', 'height', 'weight', 'forty',\n",
    "       'bench', 'vertical', 'broad', 'shuttle', 'arm', 'dcp',\n",
    "       'DRAFT_POSITION', 'INPROBOWLTEAM']\n",
    "DATA=DATA[FEATURES_SELECTED]"
   ]
  },
  {
   "cell_type": "markdown",
   "metadata": {},
   "source": [
    "### Analyse Weather conditions"
   ]
  },
  {
   "cell_type": "code",
   "execution_count": 10,
   "metadata": {},
   "outputs": [
    {
     "data": {
      "text/plain": [
       "Sunny            1937\n",
       "Cloudy           1531\n",
       "Dome             1521\n",
       "Partly Cloudy     972\n",
       "Clear             903\n",
       "Closed Roof       695\n",
       "Mostly Cloudy     389\n",
       "Rain              318\n",
       "Chance Rain       279\n",
       "Mostly Sunny      230\n",
       "                  192\n",
       "Partly Sunny      144\n",
       "Light Rain        116\n",
       "Fair               71\n",
       "Snow               67\n",
       "Light Snow         37\n",
       "Flurries           28\n",
       "Hazy               26\n",
       "Foggy              13\n",
       "Covered Roof        4\n",
       "Cold                4\n",
       "Partly CLoudy       2\n",
       "Light Showers       2\n",
       "Overcast            2\n",
       "Showers             2\n",
       "Windy               2\n",
       "Thunderstorms       2\n",
       "Name: COND, dtype: int64"
      ]
     },
     "execution_count": 10,
     "metadata": {},
     "output_type": "execute_result"
    }
   ],
   "source": [
    "DATA[\"COND\"].value_counts()"
   ]
  },
  {
   "cell_type": "markdown",
   "metadata": {},
   "source": [
    "too many weather conditions, map these conditions to fewer categories"
   ]
  },
  {
   "cell_type": "code",
   "execution_count": 11,
   "metadata": {},
   "outputs": [
    {
     "data": {
      "text/plain": [
       "NORMAL_WEATHER    9053\n",
       "HARD_WEATHER       436\n",
       "Name: COND, dtype: int64"
      ]
     },
     "execution_count": 11,
     "metadata": {},
     "output_type": "execute_result"
    },
    {
     "data": {
      "image/png": "[encoded data removed]",
      "text/plain": [
       "<Figure size 432x144 with 1 Axes>"
      ]
     },
     "metadata": {},
     "output_type": "display_data"
    }
   ],
   "source": [
    "WeatherConditionsDifficultyLevel = {\n",
    "    'NORMAL_WEATHER' :['Closed Roof','Covered Roof','Dome','Clear','Cloudy',\n",
    "                       'Partly Cloudy','Mostly Cloudy','Fair','Partly CLoudy',\n",
    "                       'Sunny','Mostly Sunny','Partly Sunny','Chance Rain','Light Rain','Flurries','Light Snow',\n",
    "                       'Light Showers',''],\n",
    "    'HARD_WEATHER':['Rain','Showers','Snow','Foggy','Hazy','Thunderstorms','Cold',\n",
    "                     'Windy','Overcast']\n",
    "}\n",
    "\n",
    "def get_weather_category(dict, text):\n",
    "    for k,v in dict.items():        \n",
    "        for val in dict[k]:\n",
    "            if(val == text):\n",
    "                return k\n",
    "    return text\n",
    "DATA[\"COND\"] = DATA.apply(lambda row: get_weather_category(WeatherConditionsDifficultyLevel, row['COND']), axis=1)\n",
    "plt.figure(figsize=(6,2))\n",
    "DATA[\"COND\"].value_counts().plot(kind='barh')\n",
    "DATA[\"COND\"].value_counts()"
   ]
  },
  {
   "cell_type": "code",
   "execution_count": 12,
   "metadata": {},
   "outputs": [],
   "source": [
    "DATA[\"COND\"] = (DATA[\"COND\"].str.contains('Hard') == True).astype(int)"
   ]
  },
  {
   "cell_type": "markdown",
   "metadata": {},
   "source": [
    "### Analyse SURF"
   ]
  },
  {
   "cell_type": "code",
   "execution_count": 13,
   "metadata": {},
   "outputs": [
    {
     "data": {
      "text/plain": [
       "Grass                   5395\n",
       "FieldTurf               1712\n",
       "AstroTurf               1186\n",
       "UBU Speed Series S5M     422\n",
       "MomentumTurf             260\n",
       "DD GrassMaster           223\n",
       "AstroPlay                135\n",
       "A Turf Titan             103\n",
       "NeXTurf                   20\n",
       "SportGrass                15\n",
       "Sportex                   14\n",
       "Artificial Turf            4\n",
       "Name: SURF, dtype: int64"
      ]
     },
     "execution_count": 13,
     "metadata": {},
     "output_type": "execute_result"
    }
   ],
   "source": [
    "DATA[\"SURF\"].value_counts()"
   ]
  },
  {
   "cell_type": "code",
   "execution_count": 14,
   "metadata": {},
   "outputs": [],
   "source": [
    "DATA[\"SURF\"] = (DATA[\"SURF\"].str.contains('Turf') == True).astype(int)"
   ]
  },
  {
   "cell_type": "code",
   "execution_count": 15,
   "metadata": {},
   "outputs": [
    {
     "data": {
      "text/html": [
       "<div>\n",
       "<style scoped>\n",
       "    .dataframe tbody tr th:only-of-type {\n",
       "        vertical-align: middle;\n",
       "    }\n",
       "\n",
       "    .dataframe tbody tr th {\n",
       "        vertical-align: top;\n",
       "    }\n",
       "\n",
       "    .dataframe thead th {\n",
       "        text-align: right;\n",
       "    }\n",
       "</style>\n",
       "<table border=\"1\" class=\"dataframe\">\n",
       "  <thead>\n",
       "    <tr style=\"text-align: right;\">\n",
       "      <th></th>\n",
       "      <th>FKICKER</th>\n",
       "      <th>GID</th>\n",
       "      <th>SEASON</th>\n",
       "      <th>COND</th>\n",
       "      <th>SURF</th>\n",
       "      <th>SUCCESS_PRCNTG</th>\n",
       "      <th>BLOCKED_PRCNTG</th>\n",
       "      <th>PLAY_COUNT</th>\n",
       "      <th>HIGH_PRESSURE_SUCCESS_PRCNTG</th>\n",
       "      <th>HIGH_PRESSURE_COUNT</th>\n",
       "      <th>LONG_DIST_SUCCESS_PRCNTG</th>\n",
       "      <th>LONG_DIST_COUNT</th>\n",
       "      <th>YEARS_PLAYED</th>\n",
       "      <th>INPROBOWLTEAM</th>\n",
       "    </tr>\n",
       "  </thead>\n",
       "  <tbody>\n",
       "    <tr>\n",
       "      <th>0</th>\n",
       "      <td>AD-0800</td>\n",
       "      <td>14</td>\n",
       "      <td>2000</td>\n",
       "      <td>0</td>\n",
       "      <td>1</td>\n",
       "      <td>100.00</td>\n",
       "      <td>0.0</td>\n",
       "      <td>3.0</td>\n",
       "      <td>0.00000</td>\n",
       "      <td>0.0</td>\n",
       "      <td>0.0</td>\n",
       "      <td>0.0</td>\n",
       "      <td>16.0</td>\n",
       "      <td>0</td>\n",
       "    </tr>\n",
       "    <tr>\n",
       "      <th>1</th>\n",
       "      <td>AD-0800</td>\n",
       "      <td>28</td>\n",
       "      <td>2000</td>\n",
       "      <td>0</td>\n",
       "      <td>0</td>\n",
       "      <td>100.00</td>\n",
       "      <td>0.0</td>\n",
       "      <td>3.0</td>\n",
       "      <td>100.00000</td>\n",
       "      <td>2.0</td>\n",
       "      <td>0.0</td>\n",
       "      <td>0.0</td>\n",
       "      <td>16.0</td>\n",
       "      <td>0</td>\n",
       "    </tr>\n",
       "    <tr>\n",
       "      <th>2</th>\n",
       "      <td>AD-0800</td>\n",
       "      <td>54</td>\n",
       "      <td>2000</td>\n",
       "      <td>0</td>\n",
       "      <td>1</td>\n",
       "      <td>100.00</td>\n",
       "      <td>0.0</td>\n",
       "      <td>5.0</td>\n",
       "      <td>100.00000</td>\n",
       "      <td>1.0</td>\n",
       "      <td>0.0</td>\n",
       "      <td>0.0</td>\n",
       "      <td>16.0</td>\n",
       "      <td>0</td>\n",
       "    </tr>\n",
       "    <tr>\n",
       "      <th>3</th>\n",
       "      <td>AD-0800</td>\n",
       "      <td>69</td>\n",
       "      <td>2000</td>\n",
       "      <td>0</td>\n",
       "      <td>0</td>\n",
       "      <td>80.00</td>\n",
       "      <td>0.0</td>\n",
       "      <td>5.0</td>\n",
       "      <td>50.00000</td>\n",
       "      <td>2.0</td>\n",
       "      <td>0.0</td>\n",
       "      <td>0.0</td>\n",
       "      <td>16.0</td>\n",
       "      <td>0</td>\n",
       "    </tr>\n",
       "    <tr>\n",
       "      <th>4</th>\n",
       "      <td>AD-0800</td>\n",
       "      <td>77</td>\n",
       "      <td>2000</td>\n",
       "      <td>0</td>\n",
       "      <td>0</td>\n",
       "      <td>83.33</td>\n",
       "      <td>0.0</td>\n",
       "      <td>6.0</td>\n",
       "      <td>100.00000</td>\n",
       "      <td>1.0</td>\n",
       "      <td>0.0</td>\n",
       "      <td>0.0</td>\n",
       "      <td>16.0</td>\n",
       "      <td>0</td>\n",
       "    </tr>\n",
       "    <tr>\n",
       "      <th>5</th>\n",
       "      <td>AD-0800</td>\n",
       "      <td>100</td>\n",
       "      <td>2000</td>\n",
       "      <td>0</td>\n",
       "      <td>0</td>\n",
       "      <td>83.33</td>\n",
       "      <td>0.0</td>\n",
       "      <td>6.0</td>\n",
       "      <td>0.00000</td>\n",
       "      <td>0.0</td>\n",
       "      <td>0.0</td>\n",
       "      <td>0.0</td>\n",
       "      <td>16.0</td>\n",
       "      <td>0</td>\n",
       "    </tr>\n",
       "    <tr>\n",
       "      <th>6</th>\n",
       "      <td>AD-0800</td>\n",
       "      <td>103</td>\n",
       "      <td>2000</td>\n",
       "      <td>0</td>\n",
       "      <td>0</td>\n",
       "      <td>100.00</td>\n",
       "      <td>0.0</td>\n",
       "      <td>2.0</td>\n",
       "      <td>100.00000</td>\n",
       "      <td>1.0</td>\n",
       "      <td>0.0</td>\n",
       "      <td>0.0</td>\n",
       "      <td>16.0</td>\n",
       "      <td>0</td>\n",
       "    </tr>\n",
       "    <tr>\n",
       "      <th>7</th>\n",
       "      <td>AD-0800</td>\n",
       "      <td>128</td>\n",
       "      <td>2000</td>\n",
       "      <td>0</td>\n",
       "      <td>0</td>\n",
       "      <td>100.00</td>\n",
       "      <td>0.0</td>\n",
       "      <td>5.0</td>\n",
       "      <td>100.00000</td>\n",
       "      <td>2.0</td>\n",
       "      <td>0.0</td>\n",
       "      <td>0.0</td>\n",
       "      <td>16.0</td>\n",
       "      <td>0</td>\n",
       "    </tr>\n",
       "    <tr>\n",
       "      <th>8</th>\n",
       "      <td>AD-0800</td>\n",
       "      <td>141</td>\n",
       "      <td>2000</td>\n",
       "      <td>0</td>\n",
       "      <td>0</td>\n",
       "      <td>75.00</td>\n",
       "      <td>0.0</td>\n",
       "      <td>4.0</td>\n",
       "      <td>100.00000</td>\n",
       "      <td>2.0</td>\n",
       "      <td>0.0</td>\n",
       "      <td>0.0</td>\n",
       "      <td>16.0</td>\n",
       "      <td>0</td>\n",
       "    </tr>\n",
       "    <tr>\n",
       "      <th>9</th>\n",
       "      <td>AD-0800</td>\n",
       "      <td>156</td>\n",
       "      <td>2000</td>\n",
       "      <td>0</td>\n",
       "      <td>0</td>\n",
       "      <td>60.00</td>\n",
       "      <td>0.0</td>\n",
       "      <td>5.0</td>\n",
       "      <td>33.33333</td>\n",
       "      <td>3.0</td>\n",
       "      <td>0.0</td>\n",
       "      <td>0.0</td>\n",
       "      <td>16.0</td>\n",
       "      <td>0</td>\n",
       "    </tr>\n",
       "  </tbody>\n",
       "</table>\n",
       "</div>"
      ],
      "text/plain": [
       "   FKICKER  GID SEASON  COND  SURF  SUCCESS_PRCNTG  BLOCKED_PRCNTG  \\\n",
       "0  AD-0800   14   2000     0     1          100.00             0.0   \n",
       "1  AD-0800   28   2000     0     0          100.00             0.0   \n",
       "2  AD-0800   54   2000     0     1          100.00             0.0   \n",
       "3  AD-0800   69   2000     0     0           80.00             0.0   \n",
       "4  AD-0800   77   2000     0     0           83.33             0.0   \n",
       "5  AD-0800  100   2000     0     0           83.33             0.0   \n",
       "6  AD-0800  103   2000     0     0          100.00             0.0   \n",
       "7  AD-0800  128   2000     0     0          100.00             0.0   \n",
       "8  AD-0800  141   2000     0     0           75.00             0.0   \n",
       "9  AD-0800  156   2000     0     0           60.00             0.0   \n",
       "\n",
       "   PLAY_COUNT  HIGH_PRESSURE_SUCCESS_PRCNTG  HIGH_PRESSURE_COUNT  \\\n",
       "0         3.0                       0.00000                  0.0   \n",
       "1         3.0                     100.00000                  2.0   \n",
       "2         5.0                     100.00000                  1.0   \n",
       "3         5.0                      50.00000                  2.0   \n",
       "4         6.0                     100.00000                  1.0   \n",
       "5         6.0                       0.00000                  0.0   \n",
       "6         2.0                     100.00000                  1.0   \n",
       "7         5.0                     100.00000                  2.0   \n",
       "8         4.0                     100.00000                  2.0   \n",
       "9         5.0                      33.33333                  3.0   \n",
       "\n",
       "   LONG_DIST_SUCCESS_PRCNTG  LONG_DIST_COUNT  YEARS_PLAYED  INPROBOWLTEAM  \n",
       "0                       0.0              0.0          16.0              0  \n",
       "1                       0.0              0.0          16.0              0  \n",
       "2                       0.0              0.0          16.0              0  \n",
       "3                       0.0              0.0          16.0              0  \n",
       "4                       0.0              0.0          16.0              0  \n",
       "5                       0.0              0.0          16.0              0  \n",
       "6                       0.0              0.0          16.0              0  \n",
       "7                       0.0              0.0          16.0              0  \n",
       "8                       0.0              0.0          16.0              0  \n",
       "9                       0.0              0.0          16.0              0  "
      ]
     },
     "execution_count": 15,
     "metadata": {},
     "output_type": "execute_result"
    }
   ],
   "source": [
    "DATA.head(10)"
   ]
  },
  {
   "cell_type": "markdown",
   "metadata": {},
   "source": [
    "## Prepare data for modeling"
   ]
  },
  {
   "cell_type": "code",
   "execution_count": 16,
   "metadata": {},
   "outputs": [],
   "source": [
    "# get quantitaive features\n",
    "dt = DATA\n",
    "dt.apply(pd.to_numeric, errors='ignore')\n",
    "import sklearn\n",
    "from sklearn.preprocessing import MinMaxScaler\n",
    "\n",
    "scaler = MinMaxScaler()\n",
    "\n",
    "#data for modeling , before 2016 data\n",
    "dt_modeling = dt[dt['SEASON'] <2016].iloc[:,3:]\n",
    "#train_data=scaler.fit_transform(dt_modeling.iloc[:, 0:-1])\n",
    "train_data=dt_modeling.iloc[:, 0:-1]\n",
    "#dt_modeling_data = pd.DataFrame(train_data,index=train_data[:,0])\n",
    "dt_modeling_data=dt_modeling.iloc[:, 0:-1]\n",
    "target_modeling =dt_modeling.iloc[:, -1]\n",
    "\n",
    "#data for out of bag testing of model - 2016/2017 dta\n",
    "dt_predict = dt[dt['SEASON']>2016].iloc[:,3:]\n",
    "dt_predict_data = dt_predict.iloc[:, 0:-1]\n",
    "target_predict = dt_predict.iloc[:, -1]"
   ]
  },
  {
   "cell_type": "code",
   "execution_count": 17,
   "metadata": {},
   "outputs": [
    {
     "name": "stdout",
     "output_type": "stream",
     "text": [
      "[('COND', 0.0), ('SURF', 0.0), ('SUCCESS_PRCNTG', 0.0007346080878422048), ('BLOCKED_PRCNTG', -0.0), ('PLAY_COUNT', 0.0), ('HIGH_PRESSURE_SUCCESS_PRCNTG', 0.00011988917760212167), ('HIGH_PRESSURE_COUNT', 0.0), ('LONG_DIST_SUCCESS_PRCNTG', 0.00019738833489087824), ('LONG_DIST_COUNT', -0.0), ('YEARS_PLAYED', -0.00025433103123821346)]\n",
      "['SUCCESS_PRCNTG', 'HIGH_PRESSURE_SUCCESS_PRCNTG', 'LONG_DIST_SUCCESS_PRCNTG', 'YEARS_PLAYED']\n",
      "[('COND', 0.0), ('SURF', 0.003336349796733497), ('SUCCESS_PRCNTG', 0.0007127601625260767), ('BLOCKED_PRCNTG', 2.3673442044294678e-06), ('PLAY_COUNT', 0.013212552267388178), ('HIGH_PRESSURE_SUCCESS_PRCNTG', 5.241925498083056e-05), ('HIGH_PRESSURE_COUNT', -0.010832288653749744), ('LONG_DIST_SUCCESS_PRCNTG', 0.00034384910620139704), ('LONG_DIST_COUNT', -0.014543974333683068), ('YEARS_PLAYED', -0.001376381805376518)]\n",
      "['PLAY_COUNT', 'HIGH_PRESSURE_COUNT', 'LONG_DIST_COUNT']\n",
      "[('COND', 0.0), ('SURF', 0.0), ('SUCCESS_PRCNTG', 0.0), ('BLOCKED_PRCNTG', -0.0), ('PLAY_COUNT', 0.0), ('HIGH_PRESSURE_SUCCESS_PRCNTG', 0.0), ('HIGH_PRESSURE_COUNT', 0.0), ('LONG_DIST_SUCCESS_PRCNTG', 0.0), ('LONG_DIST_COUNT', 0.0), ('YEARS_PLAYED', -0.0)]\n",
      "['COND', 'SURF', 'SUCCESS_PRCNTG', 'BLOCKED_PRCNTG', 'PLAY_COUNT', 'HIGH_PRESSURE_SUCCESS_PRCNTG', 'HIGH_PRESSURE_COUNT', 'LONG_DIST_SUCCESS_PRCNTG', 'LONG_DIST_COUNT', 'YEARS_PLAYED']\n"
     ]
    }
   ],
   "source": [
    "#regularization\n",
    "model = Lasso(alpha=.03)\n",
    "model.fit(dt_modeling_data, target_modeling)\n",
    "print(list(zip(dt_modeling_data, model.coef_.tolist())))\n",
    "sfm = SelectFromModel(model)\n",
    "sfm.fit(dt_modeling_data, target_modeling)\n",
    "print(list(dt_modeling_data.iloc[:, sfm.get_support(indices=True)]))\n",
    "\n",
    "model = Ridge()\n",
    "model.fit(dt_modeling_data, target_modeling)\n",
    "print(list(zip(dt_modeling_data, model.coef_.tolist())))\n",
    "sfm = SelectFromModel(model)\n",
    "sfm.fit(dt_modeling_data, target_modeling)\n",
    "print(list(dt_modeling_data.iloc[:, sfm.get_support(indices=True)]))\n",
    "\n",
    "model = ElasticNet()\n",
    "model.fit(dt_modeling_data, target_modeling)\n",
    "print(list(zip(dt_modeling_data, model.coef_.tolist())))\n",
    "sfm = SelectFromModel(model)\n",
    "sfm.fit(dt_modeling_data, target_modeling)\n",
    "print(list(dt_modeling_data.iloc[:, sfm.get_support(indices=True)]))\n"
   ]
  },
  {
   "cell_type": "code",
   "execution_count": 18,
   "metadata": {},
   "outputs": [],
   "source": [
    "import time \n",
    "\n",
    "from sklearn.linear_model import LogisticRegression\n",
    "from sklearn.svm import SVC \n",
    "from sklearn.ensemble import RandomForestClassifier \n",
    "from sklearn.linear_model import Perceptron\n",
    "from sklearn.neighbors import KNeighborsClassifier\n",
    "from sklearn.naive_bayes import GaussianNB, MultinomialNB\n",
    "from sklearn import model_selection\n",
    "from sklearn.model_selection import train_test_split as tts \n",
    "from sklearn.discriminant_analysis import LinearDiscriminantAnalysis\n",
    "from sklearn.tree import DecisionTreeClassifier\n",
    "from sklearn.metrics import confusion_matrix\n",
    "from sklearn.metrics import classification_report\n",
    "\n",
    "# Identify our data and target \n",
    "X = dt_modeling_data\n",
    "y = target_modeling\n",
    "\n",
    "# Create random train and test splits to avoid bais and overfitting\n",
    "splits = tts(X, y, test_size=0.2)\n",
    "X_train, X_test, y_train, y_test = splits"
   ]
  },
  {
   "cell_type": "code",
   "execution_count": 19,
   "metadata": {},
   "outputs": [],
   "source": [
    "results=[]\n",
    "names=[]\n",
    "\n",
    "def fit_model(model, X_train=X_train, X_test=X_test, y_train=y_train, y_test=y_test):\n",
    "    start = time.time()\n",
    "    model.fit(X_train, y_train)\n",
    "    duration = time.time() - start \n",
    "    score = model.score(X_test, y_test)\n",
    "    \n",
    "    print(\"{} fit in {:0.2f} seconds score: {:0.4f}\".format(model.__class__.__name__, duration, score))\n",
    "    #print(model.get_params()) \n",
    "    kfold = model_selection.KFold(n_splits=10, random_state=7)\n",
    "    scoring = 'accuracy'\n",
    "    cv_results = model_selection.cross_val_score(model, X_train, y_train, cv=kfold, scoring=scoring)\n",
    "    results.append(cv_results)\n",
    "    #print(cv_results)\n",
    "    names.append(name)\n",
    "    #msg = \"%s: %f (%f)\" % (name, cv_results.mean(), cv_results.std())\n",
    "    #print(msg)\n"
   ]
  },
  {
   "cell_type": "code",
   "execution_count": 20,
   "metadata": {},
   "outputs": [
    {
     "name": "stdout",
     "output_type": "stream",
     "text": [
      "KNeighborsClassifier fit in 0.03 seconds score: 0.9223\n",
      "DecisionTreeClassifier fit in 0.00 seconds score: 0.9170\n",
      "SVC fit in 6.46 seconds score: 0.9223\n",
      "AdaBoostClassifier fit in 7.01 seconds score: 0.9087\n"
     ]
    },
    {
     "data": {
      "image/png": "[encoded data removed]",
      "text/plain": [
       "<Figure size 432x288 with 1 Axes>"
      ]
     },
     "metadata": {},
     "output_type": "display_data"
    }
   ],
   "source": [
    "# prepare models\n",
    "from sklearn.discriminant_analysis import LinearDiscriminantAnalysis\n",
    "from sklearn.tree import DecisionTreeClassifier\n",
    "from sklearn import model_selection\n",
    "from sklearn.ensemble import VotingClassifier\n",
    "from sklearn.svm import SVC\n",
    "from sklearn.ensemble import AdaBoostClassifier\n",
    "\n",
    "\n",
    "# Training classifiers\n",
    "CART = DecisionTreeClassifier(max_depth=6)\n",
    "KNN = KNeighborsClassifier(n_neighbors=12)\n",
    "SV = SVC(kernel='rbf', probability=True)\n",
    "VC = VotingClassifier(estimators=[('dt', CART), ('knn', KNN), ('svc', SV)], voting='soft', weights=[3,3,3])\n",
    "\n",
    "ABC = AdaBoostClassifier(DecisionTreeClassifier(max_depth=20),\n",
    "                         algorithm=\"SAMME\",\n",
    "                         n_estimators=500)\n",
    "\n",
    "models = []\n",
    "models.append(('KNN', KNN))\n",
    "models.append(('CART', CART))\n",
    "models.append(('SVM', SV))\n",
    "#models.append(('VC', VC))\n",
    "models.append(('ABC', ABC))\n",
    "\n",
    "    \n",
    "for name,model in models:\n",
    "    fit_model(model)    \n",
    "    \n",
    "    # boxplot algorithm comparison\n",
    "fig = plt.figure()\n",
    "fig.suptitle('Algorithm Comparison')\n",
    "ax = fig.add_subplot(111)\n",
    "plt.boxplot(results)\n",
    "ax.set_xticklabels(names)\n",
    "plt.show()  "
   ]
  },
  {
   "cell_type": "code",
   "execution_count": 26,
   "metadata": {
    "scrolled": false
   },
   "outputs": [
    {
     "name": "stdout",
     "output_type": "stream",
     "text": [
      "MODEL-\n",
      "unmatched: count 50, \n",
      "Matched: count 478,\n",
      "Predicted players\n",
      "Actual playerss\n",
      "MODEL-\n",
      "unmatched: count 49, \n",
      "Matched: count 479,\n",
      "Predicted players\n",
      "Actual playerss\n",
      "MODEL-\n",
      "unmatched: count 50, \n",
      "Matched: count 478,\n",
      "Predicted players\n",
      "Actual playerss\n",
      "MODEL-\n"
     ]
    },
    {
     "name": "stderr",
     "output_type": "stream",
     "text": [
      "C:\\Users\\deeka\\Anaconda3\\envs\\GTU\\lib\\site-packages\\ipykernel_launcher.py:16: SettingWithCopyWarning:\n",
      "\n",
      "\n",
      "A value is trying to be set on a copy of a slice from a DataFrame.\n",
      "Try using .loc[row_indexer,col_indexer] = value instead\n",
      "\n",
      "See the caveats in the documentation: http://pandas.pydata.org/pandas-docs/stable/indexing.html#indexing-view-versus-copy\n",
      "\n"
     ]
    },
    {
     "name": "stdout",
     "output_type": "stream",
     "text": [
      "unmatched: count 39, \n",
      "Matched: count 489,\n",
      "Predicted players\n",
      "Actual playerss\n"
     ]
    }
   ],
   "source": [
    "seas=2015\n",
    "dt_predict = dt[dt['SEASON']==seas].iloc[:,3:]\n",
    "dt_predict_data = dt_predict.iloc[:, 0:-1]\n",
    "target_predict = dt_predict.iloc[:, -1]\n",
    "\n",
    "X = dt_predict_data \n",
    "y = target_predict\n",
    "\n",
    "# 2016 - 36 0:33 1:3\n",
    "# 2017 - 43 0:40 1:3\n",
    "\n",
    "def predict_model(model):\n",
    "    yhat = model.predict(dt_predict_data)\n",
    "    #print(classification_report(y, yhat))\n",
    "    d= DATA.loc[(DATA[\"SEASON\"]==seas)]\n",
    "    d['yhat'] = yhat\n",
    "    #print(\"Season: {}, 0s: {}, 1s:{}\".format(seas,len(X[X['INPROBOWLTEAM'] ==0]),len(X[X['INPROBOWLTEAM'] ==1])))\n",
    "    unmatched_results = d.loc[( d['yhat'] != d['INPROBOWLTEAM'])]\n",
    "    matched_results = d.loc[( d['yhat'] == d['INPROBOWLTEAM'])]\n",
    "    print(\"unmatched: count {}, \".format(len(unmatched_results), unmatched_results))\n",
    "    print(\"Matched: count {},\".format(len(matched_results), matched_results))\n",
    "    \n",
    "    #print(d.loc[( d['yhat'] != d['INPROBOWLTEAM']),['FKICKER','GID','INPROBOWLTEAM','yhat']])\n",
    "    print('Predicted players'.format(d.loc[( d['yhat'] == 1),'FKICKER'].unique()))\n",
    "    print('Actual playerss'.format(d.loc[( d['INPROBOWLTEAM'] == 1),'FKICKER'].unique()))\n",
    "\n",
    "    \n",
    "    #print(len(DATA.loc[(DATA[\"SEASON\"]==seas) & (DATA[\"INPROBOWLTEAM\"] == yhat), \"INPROBOWLTEAM\"]))\n",
    "    \n",
    "\n",
    "for name, model in models:\n",
    "    print('MODEL-'.format(name))\n",
    "    predict_model(model)  "
   ]
  },
  {
   "cell_type": "code",
   "execution_count": 27,
   "metadata": {},
   "outputs": [
    {
     "data": {
      "image/png": "[encoded data removed]",
      "text/plain": [
       "<Figure size 432x288 with 1 Axes>"
      ]
     },
     "metadata": {},
     "output_type": "display_data"
    },
    {
     "data": {
      "image/png": "[encoded data removed]",
      "text/plain": [
       "<Figure size 432x288 with 1 Axes>"
      ]
     },
     "metadata": {},
     "output_type": "display_data"
    },
    {
     "data": {
      "image/png": "[encoded data removed]",
      "text/plain": [
       "<Figure size 432x288 with 1 Axes>"
      ]
     },
     "metadata": {},
     "output_type": "display_data"
    },
    {
     "data": {
      "image/png": "[encoded data removed]",
      "text/plain": [
       "<Figure size 432x288 with 1 Axes>"
      ]
     },
     "metadata": {},
     "output_type": "display_data"
    }
   ],
   "source": [
    "from sklearn.metrics import roc_auc_score\n",
    "from sklearn.metrics import roc_curve\n",
    "\n",
    "for name, model in models:\n",
    "    logit_roc_auc = roc_auc_score(y, model.predict(X))\n",
    "    fpr, tpr, thresholds = roc_curve(y, model.predict_proba(X)[:,1])\n",
    "    plt.figure()\n",
    "    plt.plot(fpr, tpr, label='Logistic Regression (area = %0.2f)' % logit_roc_auc)\n",
    "    plt.plot([0, 1], [0, 1],'r--')\n",
    "    plt.xlim([0.0, 1.0])\n",
    "    plt.ylim([0.0, 1.05])\n",
    "    plt.xlabel('False Positive Rate')\n",
    "    plt.ylabel('True Positive Rate')\n",
    "    plt.title(name + ' - Receiver operating characteristic')\n",
    "    plt.legend(loc=\"lower right\")\n",
    "    plt.savefig('Log_ROC')\n",
    "    plt.show()"
   ]
  },
  {
   "cell_type": "code",
   "execution_count": 23,
   "metadata": {},
   "outputs": [],
   "source": [
    "from sklearn.metrics import accuracy_score"
   ]
  },
  {
   "cell_type": "code",
   "execution_count": null,
   "metadata": {},
   "outputs": [],
   "source": []
  },
  {
   "cell_type": "code",
   "execution_count": null,
   "metadata": {},
   "outputs": [],
   "source": []
  }
 ],
 "metadata": {
  "kernelspec": {
   "display_name": "Python 3",
   "language": "python",
   "name": "python3"
  },
  "language_info": {
   "codemirror_mode": {
    "name": "ipython",
    "version": 3
   },
   "file_extension": ".py",
   "mimetype": "text/x-python",
   "name": "python",
   "nbconvert_exporter": "python",
   "pygments_lexer": "ipython3",
   "version": "3.6.5"
  }
 },
 "nbformat": 4,
 "nbformat_minor": 2
}
